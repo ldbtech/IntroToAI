{
 "cells": [
  {
   "cell_type": "markdown",
   "metadata": {
    "id": "KH1K6cXFvnmj"
   },
   "source": [
    "<div align=\"center\"> <h3><font color='cyan'>CSE 368: Introduction to Artificial Intelligence, Summer 2022 </font> \n",
    "<h1> Python Intro Task\n",
    "\n",
    "<h3>Checkpoint: June 6, Sun, 11:59pm\n",
    "<h2><font color='red'>Final Due Date: </font> June 10, Friday, 11:59pm</div>\n",
    "\n",
    "Welcome to your first CSE 368 programming task! The goal of this task is to sharpen your programming skills needed for this class. It is focused on familiarizing yourself with Python and main data science libraries that will be used for other assignments as well.\n",
    "\n",
    "There are a total of five parts. We will focus on basic Python functions, explore numpy, pandas and matplotlib libraries and analyze the real-world dataset.\n",
    "\n",
    "If you are new to Python, check our [Python resources page](https://ubuffalo-my.sharepoint.com/:w:/g/personal/avereshc_buffalo_edu/ESoUg6v6aoJImaeWXy90SqMBiubxGGAkG7dhaNyhuBum_w?e=3Tlwbz) and our class demos.\n",
    "\n",
    "\n",
    "### Submission\n",
    "\n",
    "All the details you need for this assignment are located within this notebook. You are expected to follow every block and complete the task within the marks ``` # BEGIN_YOUR_CODE ``` and ```# END_YOUR_CODE```, as well as adding an Academic Integrity statement at the beginning within the marks ```# ADD YOUR ACADEMIC INTERGITY STATEMENT``` and ```# END OF YOUR ACADEMIC INTERGITY STATEMENT```. Do not modify or edit code beyond these lines. You can add helper functions in the new cells, if needed. We recommend completing the task within this .ipynb notebook, if needed you can convert it and submit as .py script. Try to make your code as clean and simple as possible and be sure to write your answers between the begin answer and end answer comments.\n",
    "\n",
    "1. Submit at **UBLearns > Assignments**\n",
    "2. The code of your implementations should be written in Python\n",
    "3. All project files should be packed in a ZIP file named YOUR_FIRST_NAME_YOUR_LAST_NAME_python_intro.zip (e.g. alina_vereshchaka_python_intro.zip).\n",
    "4. Your Jupyter notebook should be saved with the results. If you are submitting python scripts, after extracting the ZIP file and executing command python main.py in the first level directory, all the generated results and plots you used in your report should appear printed out in a clear manner.  \n",
    "6. Include all the references that have been used to complete the assignment.\n",
    "\n",
    "### Checkpoint Submission <font color='red'>[Due Date: June 6]</font>\n",
    "Complete Part 1, Part 2 and Part 3 and submit the code in the ZIP file named YOUR_FIRST_NAME_YOUR_LAST_NAME_python_intro_checkpoint.zip. Checkpoint will be evaluated after the final submission.\n",
    "\n",
    "### Final Submission <font color='red'>[Due Date: June 10]</font>\n",
    "Complete all parts of the assignment and submit the code in the ZIP file named YOUR_FIRST_NAME_YOUR_LAST_NAME_python_intro_final.zip. You may add slight modification to your Checkpoint submission if needed.\n",
    "\n",
    "**Assignment Outline**\n",
    "\n",
    "| Part | Description | # of tasks | Points |\n",
    "| --- | --- | --- | --- |\n",
    "| [Part 1](#part1) | Basics | 10 | 20 |\n",
    "| [Part 2](#part2) | Numpy Basics | 11 | 20 |\n",
    "| [Part 3](#part3) | Algorithms | 2 | 20 |\n",
    "| [Part 4](#part4) | Pandas Basics | 7 | 20 |\n",
    "| [Part 5](#part5) | Matplotlib Basics | 9 | 20 |\n",
    "\n",
    "    \n",
    "### Academic Integrity\n",
    "\n",
    "This task must be completed individually.\n",
    "The standing policy of the Department is that all students involved in any academic integrity violation (e.g. plagiarism in any way, shape, or form) will receive an F grade for the course. The catalog describes plagiarism as “Copying or receiving material from any source and submitting that material as one’s own, without acknowledging and citing the particular debts to the source, or in any other manner representing the work of another as one’s own.”. Refer to the [Office of Academic Integrity](https://www.buffalo.edu/academic-integrity.html) for more details.\n",
    "\n",
    "\n",
    "### Late Days Policy\n",
    "You can use up to 7 late days throughout the course toward any programming taks, assignments' checkpoint or final submission. You do not have to inform the instructor, as the late submission will be tracked in UBlearns.\n",
    "\n",
    "### FAQ\n",
    ">What does 'raise Exception(\"Not implemented yet\")' mean?\n",
    "\n",
    "Here we define a custom exception to highlight that the task is not implemented yet. Once you implement your code, ensure to remove this part.\n",
    "\n",
    ">Can I add code beyond # BEGIN_YOUR_CODE parts.\n",
    "\n",
    "Yes, you can add helper functions. Add them in the separate cell with the comments, why you need it\n"
   ]
  },
  {
   "cell_type": "markdown",
   "metadata": {
    "id": "0JooxL2FEIpH"
   },
   "source": [
    "## START COMPLETING YOUR ASSIGNMENT HERE"
   ]
  },
  {
   "cell_type": "markdown",
   "metadata": {
    "id": "RiMGYifjvnmy"
   },
   "source": [
    "<a id='part1'></a>\n",
    "## Part 1 - Pyhton Basics [20 points]"
   ]
  },
  {
   "cell_type": "markdown",
   "metadata": {
    "id": "2LUCpwD6vnm1"
   },
   "source": [
    "The first part of this assignment gives you practice with python syntax. Follow the cells below for the instructions."
   ]
  },
  {
   "cell_type": "code",
   "execution_count": 96,
   "metadata": {
    "id": "pYW7jZF2vnm2"
   },
   "outputs": [
    {
     "name": "stdout",
     "output_type": "stream",
     "text": [
      "Hello Hello Hello Hello Hello Hello Hello Hello Hello Hello Hello Hello Hello Hello Hello Hello Hello Hello Hello Hello Hello Hello Hello Hello Hello Hello Hello Hello Hello Hello Hello Hello Hello Hello Hello Hello Hello Hello Hello Hello Hello Hello Hello Hello Hello Hello Hello Hello Hello Hello Hello Hello Hello Hello Hello Hello Hello Hello Hello Hello Hello Hello Hello Hello Hello Hello Hello Hello Hello Hello Hello Hello Hello Hello Hello Hello Hello Hello Hello Hello Hello Hello Hello Hello Hello Hello Hello Hello Hello Hello Hello Hello Hello Hello Hello Hello Hello Hello Hello Hello Hello \n"
     ]
    }
   ],
   "source": [
    "''' Hello\n",
    "Print a word \"Hello \" 101 times\n",
    "'''\n",
    "\n",
    "# BEGIN_YOUR_CODE\n",
    "print('Hello '*101)\n",
    "\n",
    "# END_YOUR_CODE"
   ]
  },
  {
   "cell_type": "code",
   "execution_count": 97,
   "metadata": {
    "id": "rE7MB-YLEIpI"
   },
   "outputs": [
    {
     "data": {
      "text/plain": [
       "'Hello UB'"
      ]
     },
     "execution_count": 97,
     "metadata": {},
     "output_type": "execute_result"
    }
   ],
   "source": [
    "''' Hello World\n",
    "Using two variables hello and world defined below return 'Hello UB'. \n",
    "'''\n",
    "\n",
    "hello  = 'hello'\n",
    "world = 'ub'\n",
    "\n",
    "# BEGIN_YOUR_CODE\n",
    "hello.capitalize() + \" \" + world.upper()\n",
    "\n",
    "# END_YOUR_CODE"
   ]
  },
  {
   "cell_type": "code",
   "execution_count": 98,
   "metadata": {
    "id": "QRb2nHgYEIpI"
   },
   "outputs": [
    {
     "data": {
      "text/plain": [
       "[0, 1, 2, 3, 4, 5]"
      ]
     },
     "execution_count": 98,
     "metadata": {},
     "output_type": "execute_result"
    }
   ],
   "source": [
    "''' Updating elements\n",
    "Given a string my_list, update the third element to '2' and fourth element to '3', so the output is as follows: [0, 1, 2, 3, 4, 5]\n",
    "'''\n",
    "\n",
    "my_list = [0, 1, 'two', 'three', 4, 5]\n",
    "\n",
    "# BEGIN_YOUR_CODE\n",
    "my_list[2] = 2\n",
    "my_list[3] = 3\n",
    "my_list\n",
    "\n",
    "# END_YOUR_CODE"
   ]
  },
  {
   "cell_type": "code",
   "execution_count": 99,
   "metadata": {
    "id": "TJYEKU6XEIpJ"
   },
   "outputs": [
    {
     "data": {
      "text/plain": [
       "[0, 1, 1, 2, 3, 5, 8, 13, 21, 34, 55, 89, 144]"
      ]
     },
     "execution_count": 99,
     "metadata": {},
     "output_type": "execute_result"
    }
   ],
   "source": [
    "'''Fibonacci Series\n",
    "Print the first 12 Fibonacci numbers\n",
    "'''\n",
    "\n",
    "# BEGIN_YOUR_CODE\n",
    "def fibo(n):\n",
    "    listo = [0, 1]\n",
    "    for i in range(2, n+1):\n",
    "        listo.append(listo[i-1]+listo[i-2])\n",
    "    return listo\n",
    "\n",
    "fibo(12)\n",
    "\n",
    "# END_YOUR_CODE"
   ]
  },
  {
   "cell_type": "code",
   "execution_count": 100,
   "metadata": {
    "id": "eQ7SJvrLvnm5"
   },
   "outputs": [
    {
     "data": {
      "text/plain": [
       "['The Matrix Resurrections',\n",
       " 'The Matrix Revolutions',\n",
       " 'The Matrix Reloaded',\n",
       " 'The Matrix']"
      ]
     },
     "execution_count": 100,
     "metadata": {},
     "output_type": "execute_result"
    }
   ],
   "source": [
    "''' Reversing\n",
    "Reverse the order of elements in a list given below, so the output is as follows: ['The Matrix Resurrections', 'The Matrix Revolutions', 'The Matrix Reloaded', 'The Matrix']\n",
    "'''\n",
    "\n",
    "list1 = [\"The Matrix\", \"The Matrix Reloaded\", \"The Matrix Revolutions\", \"The Matrix Resurrections\"]\n",
    "\n",
    "# BEGIN_YOUR_CODE\n",
    "list1.reverse()\n",
    "list1\n",
    "\n",
    "# END_YOUR_CODE"
   ]
  },
  {
   "cell_type": "code",
   "execution_count": 101,
   "metadata": {
    "id": "G472Jj3gvnm6"
   },
   "outputs": [
    {
     "data": {
      "text/plain": [
       "'python'"
      ]
     },
     "execution_count": 101,
     "metadata": {},
     "output_type": "execute_result"
    }
   ],
   "source": [
    "'''Concatenating strings\n",
    "Concatenate strings in a list below, so the output is as follows: \"python\"\n",
    "'''\n",
    "\n",
    "list2 = ['p', 'y', 't', 'h', 'o', 'n']\n",
    "\n",
    "# BEGIN_YOUR_CODE\n",
    "strings = \"\"\n",
    "for i in list2:\n",
    "    strings+=i\n",
    "\n",
    "strings\n",
    "\n",
    "# END_YOUR_CODE"
   ]
  },
  {
   "cell_type": "code",
   "execution_count": 102,
   "metadata": {
    "id": "vsIKrnuFvnm7"
   },
   "outputs": [
    {
     "name": "stdout",
     "output_type": "stream",
     "text": [
      "(0, 'Yann LeCun')\n",
      "(1, 'Yoshua Bengio')\n",
      "(2, 'Geoffrey Hinton')\n",
      "(3, 'Fei-Fei Li')\n",
      "(4, 'Andrew Ng')\n"
     ]
    }
   ],
   "source": [
    "'''Numbering a list\n",
    "Print a numbered list of the famous AI researchers using \"enumerate()\" function\n",
    "'''\n",
    "\n",
    "researchers = ['Yann LeCun', 'Yoshua Bengio', 'Geoffrey Hinton', 'Fei-Fei Li', 'Andrew Ng']\n",
    "\n",
    "# BEGIN_YOUR_CODE\n",
    "for i in enumerate(researchers):\n",
    "    print(i)\n",
    "\n",
    "# END_YOUR_CODE"
   ]
  },
  {
   "cell_type": "code",
   "execution_count": 103,
   "metadata": {
    "id": "Izsh0n6Hvnm8"
   },
   "outputs": [
    {
     "data": {
      "text/plain": [
       "[('Yann LeCun', 'Facebook'),\n",
       " ('Yoshua Bengio', 'Université de Montréal'),\n",
       " ('Geoffrey Hinton', 'University of Toronto'),\n",
       " ('Fei-Fei Li', 'Stanford University'),\n",
       " ('Andrew Ng', 'Landing AI')]"
      ]
     },
     "execution_count": 103,
     "metadata": {},
     "output_type": "execute_result"
    }
   ],
   "source": [
    "'''Combining lists\n",
    "Combine two lists given below using zip() fucntion and print out the result\n",
    "'''\n",
    "\n",
    "researchers = ['Yann LeCun', 'Yoshua Bengio', 'Geoffrey Hinton', 'Fei-Fei Li', 'Andrew Ng']\n",
    "work = ['Facebook', 'Université de Montréal', 'University of Toronto', 'Stanford University', 'Landing AI']\n",
    "\n",
    "# BEGIN_YOUR_CODE\n",
    "combination = list(zip(researchers, work))\n",
    "combination\n",
    "# END_YOUR_CODE"
   ]
  },
  {
   "cell_type": "code",
   "execution_count": 104,
   "metadata": {
    "id": "maDiyS5EEIpJ"
   },
   "outputs": [
    {
     "name": "stdout",
     "output_type": "stream",
     "text": [
      "[1, 4, 27, 16, 125, 36, 343, 64, 729, 100, 1331, 144]\n"
     ]
    }
   ],
   "source": [
    "'''Print squares of even numbers and cubes of odd numbers for numbers from 1 till 12.\n",
    "So the output comes in the form as follows: [1, 4, 27, 16, 125, 36, ....]\n",
    "'''\n",
    "\n",
    "# BEGIN_YOUR_CODE\n",
    "listo = []\n",
    "for i in range(1, 13):\n",
    "    if i % 2 != 0:\n",
    "        listo.append(i*i*i)\n",
    "    if i%2==0:   \n",
    "        listo.append(i*i)\n",
    "        \n",
    "print(listo)\n",
    "\n",
    "# END_YOUR_CODE"
   ]
  },
  {
   "cell_type": "code",
   "execution_count": 105,
   "metadata": {
    "id": "tM242AlVvnm9"
   },
   "outputs": [],
   "source": [
    "''' Sum function\n",
    "Modify the function below to return a sum of a and b\n",
    "'''\n",
    "\n",
    "def add(a: int, b: int) -> int:\n",
    "    \n",
    "    # BEGIN_YOUR_CODE\n",
    "    return a+b\n",
    "    #raise Exception(\"Not implemented yet\")\n",
    "    # END_YOUR_CODE"
   ]
  },
  {
   "cell_type": "markdown",
   "metadata": {
    "id": "o4HwFdtlvnm_"
   },
   "source": [
    "We defined ```add_test``` to test your ```add``` function. For this function we ```import random``` library. This is a very commonly used package that helps to generate random values. For example:\n",
    "\n",
    "``` python\n",
    "random.randint(0, 100) #Returns any random integer from 0 to 100\n",
    "```"
   ]
  },
  {
   "cell_type": "code",
   "execution_count": 106,
   "metadata": {
    "id": "TfVs9QUIvnnA"
   },
   "outputs": [],
   "source": [
    "import random\n",
    "\n",
    "def add_test():\n",
    "    a = random.randint(0, 9)\n",
    "    b = random.randint(0, 9)\n",
    "    result = add(a, b)\n",
    "\n",
    "    return('Value of a is {0}, value of b is {1}, and their sum is {2}.'.format(a, b,result))"
   ]
  },
  {
   "cell_type": "code",
   "execution_count": 107,
   "metadata": {
    "id": "cOLrlf2GvnnB"
   },
   "outputs": [
    {
     "name": "stdout",
     "output_type": "stream",
     "text": [
      "Value of a is 8, value of b is 2, and their sum is 10.\n"
     ]
    }
   ],
   "source": [
    "# Here we call our function 'add_test' to test your add function with random values\n",
    "if __name__ == '__main__':\n",
    "    print(add_test())"
   ]
  },
  {
   "cell_type": "markdown",
   "metadata": {
    "id": "12yDhDMxvnnB"
   },
   "source": [
    "<a id='part2'></a>\n",
    "## Part 2 - Numpy Basics [20 points]"
   ]
  },
  {
   "cell_type": "markdown",
   "metadata": {
    "id": "-JmI82NyvnnC"
   },
   "source": [
    "In this section we will explore one of the most commonly used package - Numpy. You can refer to the [Official NumPy Guide](https://numpy.org/doc/stable/)."
   ]
  },
  {
   "cell_type": "code",
   "execution_count": 108,
   "metadata": {
    "id": "CstiC-8CvnnC"
   },
   "outputs": [],
   "source": [
    "'''Import the numpy package\n",
    "'''\n",
    "\n",
    "# BEGIN_YOUR_CODE\n",
    "import numpy as np\n",
    "# END_YOUR_CODE"
   ]
  },
  {
   "cell_type": "code",
   "execution_count": 109,
   "metadata": {
    "id": "2Cdaj9aTvnnE"
   },
   "outputs": [
    {
     "name": "stdout",
     "output_type": "stream",
     "text": [
      "[46 21 34 34 25 32 43 10  6 42]\n"
     ]
    }
   ],
   "source": [
    "''' Random integers\n",
    "Create an array of random integers from 0 to 50 with the length 10 using numpy random generator\n",
    "'''\n",
    "\n",
    "# BEGIN_YOUR_CODE\n",
    "rng = np.random.default_rng()\n",
    "array = rng.integers(0, 50, 10)\n",
    "# END_YOUR_CODE\n",
    "print(array)\n"
   ]
  },
  {
   "cell_type": "code",
   "execution_count": 110,
   "metadata": {
    "id": "D_NEdSyVvnnF"
   },
   "outputs": [
    {
     "name": "stdout",
     "output_type": "stream",
     "text": [
      "The first 2 elements are [46 21] \n",
      "The last two elements are [ 6 42] \n",
      "Elements in the middle are [34 34 25 32 43 10].\n"
     ]
    }
   ],
   "source": [
    "''' Slicing\n",
    "Slice the above array and extract the first 2 elements, the last two elements, and all elements that are left in the middle.\n",
    "'''\n",
    "\n",
    "# BEGIN_YOUR_CODE\n",
    "first_two = array[0:2]\n",
    "last_two = array[-2:]\n",
    "middle = array[2:8]\n",
    "# END_YOUR_CODE\n",
    "\n",
    "print('The first 2 elements are {0} \\nThe last two elements are {1} \\nElements in the middle are {2}.'.format(first_two, last_two, middle))"
   ]
  },
  {
   "cell_type": "code",
   "execution_count": 111,
   "metadata": {
    "id": "0qYPrGdcEIpO"
   },
   "outputs": [
    {
     "name": "stdout",
     "output_type": "stream",
     "text": [
      "[array([46, 21]), array([34, 34]), array([25, 32]), array([43, 10]), array([ 6, 42])]\n"
     ]
    }
   ],
   "source": [
    "'''Split an array\n",
    "For the above list 'array' split the list into 5 equal parts  and print it in the form\n",
    "[array([1,2]), array([3,4]), array([5,6]), array([7,8]), array([9,10])]\n",
    "\n",
    "'''\n",
    "\n",
    "# BEGIN_YOUR_CODE\n",
    "subArrays = [array[0:2], array[2:4], array[4:6], array[6:8], array[8:10]]\n",
    "print(subArrays)\n",
    "\n",
    "# END_YOUR_CODE"
   ]
  },
  {
   "cell_type": "code",
   "execution_count": 112,
   "metadata": {
    "id": "RbaWdjmPEIpO"
   },
   "outputs": [
    {
     "name": "stdout",
     "output_type": "stream",
     "text": [
      "[82 82 82 53 16  3 52 30  4 89]\n",
      "[57 44 20 27 33 94  8 73 53  4]\n",
      "[ 3  4 16 30 52 53 82 89]\n",
      "[ 4 53]\n"
     ]
    }
   ],
   "source": [
    "'''Generate two arrays of size 10 (integers randomly selected between 1 and 100). \n",
    "Print unique elements of array1 and common elements of both arrays separately\n",
    "'''\n",
    "\n",
    "# BEGIN_YOUR_CODE\n",
    "array1 = rng.integers(1, 100, 10)\n",
    "array2 = rng.integers(1, 100, 10)\n",
    "unique_elements_array1 = np.unique(array1)\n",
    "common_elements_array1_array2 = np.intersect1d(array1, array2)\n",
    "\n",
    "print(array1)\n",
    "print(array2)\n",
    "print(unique_elements_array1)\n",
    "print(common_elements_array1_array2)\n",
    "# END_YOUR_CODE"
   ]
  },
  {
   "cell_type": "code",
   "execution_count": 113,
   "metadata": {
    "id": "x39Fry3OvnnF"
   },
   "outputs": [
    {
     "name": "stdout",
     "output_type": "stream",
     "text": [
      "(5, 2)\n",
      "(5, 2)\n"
     ]
    }
   ],
   "source": [
    "'''Changing dimensions\n",
    "Convert your 1D array defined above to a 2D matrix and print its shape. The final output dimension should be 5x2.\n",
    "'''\n",
    "\n",
    "# BEGIN_YOUR_CODE\n",
    "new_array1 = np.reshape(array1, (5, 2))\n",
    "new_array2 = np.reshape(array2, (5, 2))\n",
    "\n",
    "print(new_array1.shape)\n",
    "print(new_array2.shape)\n",
    "# END_YOUR_CODE"
   ]
  },
  {
   "cell_type": "code",
   "execution_count": 114,
   "metadata": {
    "id": "GTPk6XwivnnG"
   },
   "outputs": [
    {
     "data": {
      "text/plain": [
       "[1, 2, 3, 4, 5, 6]"
      ]
     },
     "execution_count": 114,
     "metadata": {},
     "output_type": "execute_result"
    }
   ],
   "source": [
    "'''Changing dimensions\n",
    "Convert a matrix below to 1D array and print its dimension\n",
    "'''\n",
    "\n",
    "A = np.array([[1,2], [3,4], [5,6]])\n",
    "\n",
    "# BEGIN_YOUR_CODE\n",
    "list(A.flatten())\n",
    "# END_YOUR_CODE"
   ]
  },
  {
   "cell_type": "code",
   "execution_count": 115,
   "metadata": {
    "id": "ALyMwuojvnnM"
   },
   "outputs": [
    {
     "name": "stdout",
     "output_type": "stream",
     "text": [
      "\n",
      "Matrix A is \n",
      "[[-1.61833787  0.79810626 -1.66140911  0.19584045 -0.1707083   2.05388507]\n",
      " [ 1.4176058  -0.7964146   0.43479349 -0.50089338 -0.40551608 -0.44750101]\n",
      " [ 1.27356011  0.65643479 -0.15916767 -1.19218438  0.07121771 -0.41626752]\n",
      " [ 0.48280264  1.00603339 -2.13841415  0.05467773  0.1826929  -1.89747922]\n",
      " [-1.4408613  -0.10407252  0.10321017  0.20902312  0.36424279 -0.36601946]] \n",
      "Matrix B is \n",
      "[[ 0.21085555  0.15784944 -0.63115481 -0.06308769  0.99047495]\n",
      " [ 0.39473412 -0.70358846  0.30260606  0.00745092 -0.85870432]\n",
      " [ 1.25486452 -1.02745187 -0.72103059  0.54189335  0.41136179]\n",
      " [ 1.17383259  0.57282462  0.61460973  0.94793049 -0.0343125 ]\n",
      " [ 0.95948126 -0.60907318  0.08105951  0.33896329 -0.42776703]\n",
      " [ 0.32186793  0.27041998  0.34163068 -0.6758773  -0.54845546]], \n",
      "Their product is \n",
      "[[-1.38386687  1.66159346  3.26905836 -2.05265775 -4.03186152]\n",
      " [-0.59094132  0.17643871 -1.94283294 -0.16956719  2.70293279]\n",
      " [-1.13715542 -0.9361485  -1.35957269 -0.98632879  0.87101693]\n",
      " [-2.55576754  0.97242536  0.94174795  0.21446456 -0.30468645]\n",
      " [ 0.26165257 -0.46135431  0.83644539  0.71504265 -1.25755057]]\n"
     ]
    }
   ],
   "source": [
    "''' Matrices\n",
    "Create two matrices A and B of size 5X6 and 6X5 respectively with random values from 0 to 1, and perform the dot product on them\n",
    "'''\n",
    "\n",
    "# BEGIN_YOUR_CODE\n",
    "A = np.random.randn(5, 6)\n",
    "B = np.random.randn(6, 5)\n",
    "dot_product = np.dot(A, B)\n",
    "# END_YOUR_CODE\n",
    "\n",
    "print('\\nMatrix A is \\n{0} \\nMatrix B is \\n{1}, \\nTheir product is \\n{2}'.format(A, B, dot_product))"
   ]
  },
  {
   "cell_type": "code",
   "execution_count": 116,
   "metadata": {
    "id": "cf2kSBLXvnnN"
   },
   "outputs": [
    {
     "data": {
      "text/plain": [
       "[2.053885072628828,\n",
       " 1.4176057974569702,\n",
       " 1.273560114358292,\n",
       " 1.0060333859859938,\n",
       " 0.36424279463238407]"
      ]
     },
     "execution_count": 116,
     "metadata": {},
     "output_type": "execute_result"
    }
   ],
   "source": [
    "''' Maximum value\n",
    "Return the maximum value present in each row of Matrix A created in the previous question. \n",
    "Result should come in the form: [row1_max row2_max row3_max row4_max row5_max]\n",
    "'''\n",
    "\n",
    "# BEGIN_YOUR_CODE\n",
    "listo = []\n",
    "for i in A:\n",
    "    listo.append(max(i))\n",
    "listo\n",
    "    \n",
    "\n",
    "# END_YOUR_CODE"
   ]
  },
  {
   "cell_type": "code",
   "execution_count": 117,
   "metadata": {
    "id": "khuCG55GvnnO"
   },
   "outputs": [
    {
     "data": {
      "text/plain": [
       "array([[-4.85501361,  2.39431879, -4.98422733,  0.58752135, -0.5121249 ,\n",
       "         6.16165522],\n",
       "       [ 4.25281739, -2.38924379,  1.30438046, -1.50268013, -1.21654824,\n",
       "        -1.34250303],\n",
       "       [ 3.82068034,  1.96930437, -0.477503  , -3.57655314,  0.21365312,\n",
       "        -1.24880257],\n",
       "       [ 1.44840792,  3.01810016, -6.41524246,  0.16403318,  0.54807871,\n",
       "        -5.69243765],\n",
       "       [-4.32258391, -0.31221755,  0.30963051,  0.62706936,  1.09272838,\n",
       "        -1.09805838]])"
      ]
     },
     "execution_count": 117,
     "metadata": {},
     "output_type": "execute_result"
    }
   ],
   "source": [
    "''' Multiply the Matrix A from previous question with a scalar 3\n",
    "'''\n",
    "\n",
    "# BEGIN_YOUR_CODE\n",
    "np.multiply(A, 3)\n",
    "\n",
    "# END_YOUR_CODE"
   ]
  },
  {
   "cell_type": "code",
   "execution_count": 118,
   "metadata": {
    "id": "KVFM3ERnvnnP"
   },
   "outputs": [
    {
     "name": "stdout",
     "output_type": "stream",
     "text": [
      "\n",
      "Matrix A is \n",
      "[[3 0 5 2]\n",
      " [8 0 3 7]] \n",
      "Matrix B is \n",
      "[[0 0 7 6]\n",
      " [2 7 5 8]], \n",
      "Their element-wise multiplication is \n",
      "[[ 0  0 35 12]\n",
      " [16  0 15 56]]\n"
     ]
    }
   ],
   "source": [
    "''' Element-wise multiplication\n",
    "Define two matrices A and B 2x4 with random values from 0 to 9. Perform element-wise multiplication of Matrices A and B\n",
    "''' \n",
    "\n",
    "# BEGIN_YOUR_CODE\n",
    "A = np.random.randint(0, 9, (2, 4))\n",
    "B = np.random.randint(0, 9, (2, 4))\n",
    "multiplicaiton = np.multiply(A, B)\n",
    "# END_YOUR_CODE\n",
    "\n",
    "print('\\nMatrix A is \\n{0} \\nMatrix B is \\n{1}, \\nTheir element-wise multiplication is \\n{2}'.format(A, B, multiplicaiton))"
   ]
  },
  {
   "cell_type": "markdown",
   "metadata": {
    "id": "uiyFNoJivnnQ"
   },
   "source": [
    "<a id='part3'></a>\n",
    "## Part 3 - Algorithms [30 points]"
   ]
  },
  {
   "cell_type": "markdown",
   "metadata": {
    "id": "bE9PC_sEvnnQ"
   },
   "source": [
    "### Euclidian Distance\n",
    "\n",
    "Let point $p$ have Cartesian coordinates $(p_1,p_2)$ and let point $q$ have coordinates $(q_1,q_2)$. Then the distance between $p$ and $q$ is given by:\n",
    "    $d(p,q) = \\sqrt{(q_1-p_1)^2 + (q_2-p_2)^2}$.</math>"
   ]
  },
  {
   "cell_type": "code",
   "execution_count": 119,
   "metadata": {
    "id": "eWfSpbVqvnnR"
   },
   "outputs": [],
   "source": [
    "''' Euclidean distance\n",
    "Using numpy library return the Euclidean distance between two locations, where the locations are pairs of numbers (e.g., (3, 5)) '''\n",
    "\n",
    "def euclidean_distance(loc1: int, loc2: int) -> float:\n",
    "\n",
    "    # BEGIN_YOUR_CODE\n",
    "    return np.sqrt(np.add(np.square(loc2[0] - loc1[0]), np.square(loc2[1] - loc1[1])))\n",
    "    \n",
    "    # END_YOUR_CODE"
   ]
  },
  {
   "cell_type": "code",
   "execution_count": 120,
   "metadata": {
    "id": "aKXPrvGBvnnR"
   },
   "outputs": [],
   "source": [
    "import random\n",
    "def euclidean_distance_test():\n",
    "    random.seed(34)\n",
    "    for _ in range(10):\n",
    "        x1 = random.randint(0, 10)\n",
    "        x2 = random.randint(0, 10)\n",
    "        y1 = random.randint(0, 10)\n",
    "        y2 = random.randint(0, 10)\n",
    "        dist = euclidean_distance((x1, x2), (y1, y2))\n",
    "    return('Loc1 is ({0}, {1}), loc2 is ({2}, {3}). Euclidian disctance is {4}.'.format(x1, x2, y1, y2, dist))"
   ]
  },
  {
   "cell_type": "code",
   "execution_count": 121,
   "metadata": {
    "id": "yI3g4R1hvnnR"
   },
   "outputs": [
    {
     "name": "stdout",
     "output_type": "stream",
     "text": [
      "Loc1 is (5, 3), loc2 is (3, 7). Euclidian disctance is 4.47213595499958.\n"
     ]
    }
   ],
   "source": [
    "if __name__ == '__main__':\n",
    "    print(euclidean_distance_test())"
   ]
  },
  {
   "cell_type": "markdown",
   "metadata": {
    "id": "lTuFruDrvnnR"
   },
   "source": [
    "### String Operations"
   ]
  },
  {
   "cell_type": "code",
   "execution_count": 122,
   "metadata": {
    "id": "AGJHIeXkvnnS"
   },
   "outputs": [],
   "source": [
    "''' Alphabetically first word\n",
    "Given a string, lowecase, sort our all words in the alphabetical order and return the word that comes first.\n",
    "If the input text is an empty string, return an empty string or throw an error. '''\n",
    "\n",
    "def first_word(text: str) -> str:\n",
    "    \n",
    "    # BEGIN_YOUR_CODE\n",
    "    if len(text) == 0:\n",
    "        return ''\n",
    "    words = [word.lower() for word in text.split(' ')]\n",
    "    words.sort()\n",
    "    \n",
    "    return words[0]\n",
    "    \n",
    "    # END_YOUR_CODE"
   ]
  },
  {
   "cell_type": "code",
   "execution_count": 123,
   "metadata": {
    "id": "Suevhw9TvnnS"
   },
   "outputs": [],
   "source": [
    "def first_word_test():\n",
    "    result0 = first_word('WelCome tO Ub')\n",
    "    result1 = first_word('CSE368 IntRo to AI cLasS')\n",
    "    result2 = first_word('SequenCes of DeCiSions')\n",
    "    result3 = first_word('Wolf, Panther, Leopard, Dog, Cat')\n",
    "    return result0, result1, result2, result3"
   ]
  },
  {
   "cell_type": "code",
   "execution_count": 124,
   "metadata": {
    "id": "DfSoFXLrvnnT"
   },
   "outputs": [
    {
     "name": "stdout",
     "output_type": "stream",
     "text": [
      "('to', 'ai', 'decisions', 'cat')\n"
     ]
    }
   ],
   "source": [
    "if __name__ == '__main__':\n",
    "    print(first_word_test())"
   ]
  },
  {
   "cell_type": "markdown",
   "metadata": {
    "id": "zW6tTqawDOBv"
   },
   "source": [
    "## Load from Drive*\n",
    "\n",
    "*If you are using Goolge Colab, uncomment the following piece of code and verify the file using the command, if you can see your file ```museum.csv``` you are good to go."
   ]
  },
  {
   "cell_type": "code",
   "execution_count": null,
   "metadata": {
    "id": "yTuuRLB_EIpP"
   },
   "outputs": [],
   "source": [
    "# !pwd\n",
    "# !ls"
   ]
  },
  {
   "cell_type": "code",
   "execution_count": null,
   "metadata": {
    "id": "nV7Jv5SPDGsy"
   },
   "outputs": [],
   "source": [
    "#from google.colab import drive\n",
    "#drive.mount('/content/drive')\n",
    "#%cd ..\n",
    "#%cd /content/drive/MyDrive"
   ]
  },
  {
   "cell_type": "markdown",
   "metadata": {
    "id": "zGMa8NVpvnnU"
   },
   "source": [
    "<a id='part4'></a>\n",
    "##  Part 4 - Pandas Basics [20 points]\n",
    "\n",
    "Some important resources:\n",
    "\n",
    "- [A Pandas guide](https://pandasguide.readthedocs.io/en/latest/) covers fundamental information about the package\n",
    "\n",
    "- [Pandas Cheat Sheet](https://www.datacamp.com/community/blog/python-pandas-cheat-sheet)"
   ]
  },
  {
   "cell_type": "code",
   "execution_count": 125,
   "metadata": {
    "id": "-JA6l-hpvnnU"
   },
   "outputs": [],
   "source": [
    "'''Install and import pandas library\n",
    "'''\n",
    "\n",
    "# BEGIN_YOUR_CODE\n",
    "import pandas as pd\n",
    "# END_YOUR_CODE"
   ]
  },
  {
   "cell_type": "code",
   "execution_count": 126,
   "metadata": {
    "id": "vNYL_RNyvnnV"
   },
   "outputs": [],
   "source": [
    "'''Read given 'DataFile' and extract into Dataframe\n",
    "'''\n",
    "# BEGIN_YOUR_CODE\n",
    "DataFile = pd.read_csv('museums.csv', low_memory=False)\n",
    "# END_YOUR_CODE"
   ]
  },
  {
   "cell_type": "code",
   "execution_count": 127,
   "metadata": {
    "id": "nQhbLF7CvnnV"
   },
   "outputs": [
    {
     "data": {
      "text/html": [
       "<div>\n",
       "<style scoped>\n",
       "    .dataframe tbody tr th:only-of-type {\n",
       "        vertical-align: middle;\n",
       "    }\n",
       "\n",
       "    .dataframe tbody tr th {\n",
       "        vertical-align: top;\n",
       "    }\n",
       "\n",
       "    .dataframe thead th {\n",
       "        text-align: right;\n",
       "    }\n",
       "</style>\n",
       "<table border=\"1\" class=\"dataframe\">\n",
       "  <thead>\n",
       "    <tr style=\"text-align: right;\">\n",
       "      <th></th>\n",
       "      <th>Museum ID</th>\n",
       "      <th>Zip Code (Physical Location)</th>\n",
       "      <th>Latitude</th>\n",
       "      <th>Longitude</th>\n",
       "      <th>Locale Code (NCES)</th>\n",
       "      <th>County Code (FIPS)</th>\n",
       "      <th>State Code (FIPS)</th>\n",
       "      <th>Region Code (AAM)</th>\n",
       "      <th>Tax Period</th>\n",
       "      <th>Income</th>\n",
       "      <th>Revenue</th>\n",
       "    </tr>\n",
       "  </thead>\n",
       "  <tbody>\n",
       "    <tr>\n",
       "      <th>count</th>\n",
       "      <td>3.307200e+04</td>\n",
       "      <td>9221.000000</td>\n",
       "      <td>33007.000000</td>\n",
       "      <td>33007.000000</td>\n",
       "      <td>32995.000000</td>\n",
       "      <td>30536.000000</td>\n",
       "      <td>33071.000000</td>\n",
       "      <td>33072.000000</td>\n",
       "      <td>23280.000000</td>\n",
       "      <td>2.296100e+04</td>\n",
       "      <td>2.229000e+04</td>\n",
       "    </tr>\n",
       "    <tr>\n",
       "      <th>mean</th>\n",
       "      <td>8.403812e+09</td>\n",
       "      <td>47805.644616</td>\n",
       "      <td>38.925372</td>\n",
       "      <td>-90.816757</td>\n",
       "      <td>2.505834</td>\n",
       "      <td>85.701926</td>\n",
       "      <td>29.065828</td>\n",
       "      <td>3.670083</td>\n",
       "      <td>201347.458548</td>\n",
       "      <td>1.069682e+08</td>\n",
       "      <td>2.097605e+07</td>\n",
       "    </tr>\n",
       "    <tr>\n",
       "      <th>std</th>\n",
       "      <td>2.662542e+06</td>\n",
       "      <td>30210.265032</td>\n",
       "      <td>5.126213</td>\n",
       "      <td>16.489087</td>\n",
       "      <td>1.211841</td>\n",
       "      <td>105.668318</td>\n",
       "      <td>15.431254</td>\n",
       "      <td>1.539274</td>\n",
       "      <td>67.670742</td>\n",
       "      <td>2.509287e+09</td>\n",
       "      <td>2.485197e+08</td>\n",
       "    </tr>\n",
       "    <tr>\n",
       "      <th>min</th>\n",
       "      <td>8.400100e+09</td>\n",
       "      <td>1002.000000</td>\n",
       "      <td>0.000000</td>\n",
       "      <td>-166.541260</td>\n",
       "      <td>1.000000</td>\n",
       "      <td>1.000000</td>\n",
       "      <td>1.000000</td>\n",
       "      <td>1.000000</td>\n",
       "      <td>199906.000000</td>\n",
       "      <td>-9.230000e+02</td>\n",
       "      <td>-2.127393e+06</td>\n",
       "    </tr>\n",
       "    <tr>\n",
       "      <th>25%</th>\n",
       "      <td>8.401801e+09</td>\n",
       "      <td>20180.000000</td>\n",
       "      <td>35.567720</td>\n",
       "      <td>-97.651155</td>\n",
       "      <td>1.000000</td>\n",
       "      <td>25.000000</td>\n",
       "      <td>17.000000</td>\n",
       "      <td>2.000000</td>\n",
       "      <td>201312.000000</td>\n",
       "      <td>0.000000e+00</td>\n",
       "      <td>0.000000e+00</td>\n",
       "    </tr>\n",
       "    <tr>\n",
       "      <th>50%</th>\n",
       "      <td>8.403600e+09</td>\n",
       "      <td>47448.000000</td>\n",
       "      <td>39.831640</td>\n",
       "      <td>-86.776840</td>\n",
       "      <td>2.000000</td>\n",
       "      <td>61.000000</td>\n",
       "      <td>29.000000</td>\n",
       "      <td>4.000000</td>\n",
       "      <td>201312.000000</td>\n",
       "      <td>8.781000e+03</td>\n",
       "      <td>3.307000e+03</td>\n",
       "    </tr>\n",
       "    <tr>\n",
       "      <th>75%</th>\n",
       "      <td>8.404801e+09</td>\n",
       "      <td>74743.000000</td>\n",
       "      <td>42.237490</td>\n",
       "      <td>-77.616930</td>\n",
       "      <td>4.000000</td>\n",
       "      <td>109.000000</td>\n",
       "      <td>42.000000</td>\n",
       "      <td>5.000000</td>\n",
       "      <td>201408.000000</td>\n",
       "      <td>2.163770e+05</td>\n",
       "      <td>1.676960e+05</td>\n",
       "    </tr>\n",
       "    <tr>\n",
       "      <th>max</th>\n",
       "      <td>8.409504e+09</td>\n",
       "      <td>99901.000000</td>\n",
       "      <td>70.669760</td>\n",
       "      <td>0.000000</td>\n",
       "      <td>4.000000</td>\n",
       "      <td>840.000000</td>\n",
       "      <td>90.000000</td>\n",
       "      <td>6.000000</td>\n",
       "      <td>201504.000000</td>\n",
       "      <td>8.318144e+10</td>\n",
       "      <td>5.840349e+09</td>\n",
       "    </tr>\n",
       "  </tbody>\n",
       "</table>\n",
       "</div>"
      ],
      "text/plain": [
       "          Museum ID  Zip Code (Physical Location)      Latitude     Longitude  \\\n",
       "count  3.307200e+04                   9221.000000  33007.000000  33007.000000   \n",
       "mean   8.403812e+09                  47805.644616     38.925372    -90.816757   \n",
       "std    2.662542e+06                  30210.265032      5.126213     16.489087   \n",
       "min    8.400100e+09                   1002.000000      0.000000   -166.541260   \n",
       "25%    8.401801e+09                  20180.000000     35.567720    -97.651155   \n",
       "50%    8.403600e+09                  47448.000000     39.831640    -86.776840   \n",
       "75%    8.404801e+09                  74743.000000     42.237490    -77.616930   \n",
       "max    8.409504e+09                  99901.000000     70.669760      0.000000   \n",
       "\n",
       "       Locale Code (NCES)  County Code (FIPS)  State Code (FIPS)  \\\n",
       "count        32995.000000        30536.000000       33071.000000   \n",
       "mean             2.505834           85.701926          29.065828   \n",
       "std              1.211841          105.668318          15.431254   \n",
       "min              1.000000            1.000000           1.000000   \n",
       "25%              1.000000           25.000000          17.000000   \n",
       "50%              2.000000           61.000000          29.000000   \n",
       "75%              4.000000          109.000000          42.000000   \n",
       "max              4.000000          840.000000          90.000000   \n",
       "\n",
       "       Region Code (AAM)     Tax Period        Income       Revenue  \n",
       "count       33072.000000   23280.000000  2.296100e+04  2.229000e+04  \n",
       "mean            3.670083  201347.458548  1.069682e+08  2.097605e+07  \n",
       "std             1.539274      67.670742  2.509287e+09  2.485197e+08  \n",
       "min             1.000000  199906.000000 -9.230000e+02 -2.127393e+06  \n",
       "25%             2.000000  201312.000000  0.000000e+00  0.000000e+00  \n",
       "50%             4.000000  201312.000000  8.781000e+03  3.307000e+03  \n",
       "75%             5.000000  201408.000000  2.163770e+05  1.676960e+05  \n",
       "max             6.000000  201504.000000  8.318144e+10  5.840349e+09  "
      ]
     },
     "execution_count": 127,
     "metadata": {},
     "output_type": "execute_result"
    }
   ],
   "source": [
    "'''Provide the main statistics about the entries of the dataset (mean, std, etc.)\n",
    "'''\n",
    "\n",
    "# BEGIN_YOUR_CODE\n",
    "DataFile.describe()\n",
    "\n",
    "# END_YOUR_CODE"
   ]
  },
  {
   "cell_type": "code",
   "execution_count": 128,
   "metadata": {
    "id": "JnuZGhGwvnnW"
   },
   "outputs": [
    {
     "data": {
      "text/plain": [
       "(33072, 25)"
      ]
     },
     "execution_count": 128,
     "metadata": {},
     "output_type": "execute_result"
    }
   ],
   "source": [
    "''' Print shape of the dataset '''\n",
    "\n",
    "# BEGIN_YOUR_CODE\n",
    "DataFile.shape\n",
    "\n",
    "# END_YOUR_CODE"
   ]
  },
  {
   "cell_type": "code",
   "execution_count": 129,
   "metadata": {
    "id": "nFWD5zl8vnne"
   },
   "outputs": [
    {
     "data": {
      "text/plain": [
       "Index(['Museum ID', 'Museum Name', 'Legal Name', 'Alternate Name',\n",
       "       'Museum Type', 'Institution Name',\n",
       "       'Street Address (Administrative Location)',\n",
       "       'City (Administrative Location)', 'State (Administrative Location)',\n",
       "       'Zip Code (Administrative Location)',\n",
       "       'Street Address (Physical Location)', 'City (Physical Location)',\n",
       "       'State (Physical Location)', 'Zip Code (Physical Location)',\n",
       "       'Phone Number', 'Latitude', 'Longitude', 'Locale Code (NCES)',\n",
       "       'County Code (FIPS)', 'State Code (FIPS)', 'Region Code (AAM)',\n",
       "       'Employer ID Number', 'Tax Period', 'Income', 'Revenue'],\n",
       "      dtype='object')"
      ]
     },
     "execution_count": 129,
     "metadata": {},
     "output_type": "execute_result"
    }
   ],
   "source": [
    "''' Return all the colums names'''\n",
    "\n",
    "# BEGIN_YOUR_CODE\n",
    "DataFile.columns\n",
    "# END_YOUR_CODE"
   ]
  },
  {
   "cell_type": "code",
   "execution_count": 130,
   "metadata": {
    "id": "6-1Dj0sGvnng"
   },
   "outputs": [
    {
     "data": {
      "text/plain": [
       "['HISTORY MUSEUM',\n",
       " 'ARBORETUM, BOTANICAL GARDEN, OR NATURE CENTER',\n",
       " 'SCIENCE & TECHNOLOGY MUSEUM OR PLANETARIUM',\n",
       " 'HISTORIC PRESERVATION',\n",
       " 'GENERAL MUSEUM',\n",
       " 'ZOO, AQUARIUM, OR WILDLIFE CONSERVATION',\n",
       " 'ART MUSEUM',\n",
       " \"CHILDREN'S MUSEUM\",\n",
       " 'NATURAL HISTORY MUSEUM']"
      ]
     },
     "execution_count": 130,
     "metadata": {},
     "output_type": "execute_result"
    }
   ],
   "source": [
    "''' Print a list of museums types '''\n",
    "\n",
    "# BEGIN_YOUR_CODE\n",
    "list(DataFile['Museum Type'].unique())\n",
    "\n",
    "# END_YOUR_CODE"
   ]
  },
  {
   "cell_type": "code",
   "execution_count": 131,
   "metadata": {
    "id": "_PSWXOEAEIpQ"
   },
   "outputs": [
    {
     "data": {
      "text/html": [
       "<div>\n",
       "<style scoped>\n",
       "    .dataframe tbody tr th:only-of-type {\n",
       "        vertical-align: middle;\n",
       "    }\n",
       "\n",
       "    .dataframe tbody tr th {\n",
       "        vertical-align: top;\n",
       "    }\n",
       "\n",
       "    .dataframe thead th {\n",
       "        text-align: right;\n",
       "    }\n",
       "</style>\n",
       "<table border=\"1\" class=\"dataframe\">\n",
       "  <thead>\n",
       "    <tr style=\"text-align: right;\">\n",
       "      <th></th>\n",
       "      <th>Museum ID</th>\n",
       "      <th>Museum Name</th>\n",
       "      <th>Legal Name</th>\n",
       "      <th>Alternate Name</th>\n",
       "      <th>Museum Type</th>\n",
       "      <th>Institution Name</th>\n",
       "      <th>Street Address (Administrative Location)</th>\n",
       "      <th>City (Administrative Location)</th>\n",
       "      <th>State (Administrative Location)</th>\n",
       "      <th>Zip Code (Administrative Location)</th>\n",
       "      <th>...</th>\n",
       "      <th>Latitude</th>\n",
       "      <th>Longitude</th>\n",
       "      <th>Locale Code (NCES)</th>\n",
       "      <th>County Code (FIPS)</th>\n",
       "      <th>State Code (FIPS)</th>\n",
       "      <th>Region Code (AAM)</th>\n",
       "      <th>Employer ID Number</th>\n",
       "      <th>Tax Period</th>\n",
       "      <th>Income</th>\n",
       "      <th>Revenue</th>\n",
       "    </tr>\n",
       "  </thead>\n",
       "  <tbody>\n",
       "    <tr>\n",
       "      <th>0</th>\n",
       "      <td>8400200098</td>\n",
       "      <td>ALASKA AVIATION HERITAGE MUSEUM</td>\n",
       "      <td>ALASKA AVIATION HERITAGE MUSEUM</td>\n",
       "      <td>NaN</td>\n",
       "      <td>HISTORY MUSEUM</td>\n",
       "      <td>NaN</td>\n",
       "      <td>4721 AIRCRAFT DR</td>\n",
       "      <td>ANCHORAGE</td>\n",
       "      <td>AK</td>\n",
       "      <td>99502</td>\n",
       "      <td>...</td>\n",
       "      <td>61.17925</td>\n",
       "      <td>-149.97254</td>\n",
       "      <td>1.0</td>\n",
       "      <td>20.0</td>\n",
       "      <td>2.0</td>\n",
       "      <td>6</td>\n",
       "      <td>920071852</td>\n",
       "      <td>201312.0</td>\n",
       "      <td>602912.0</td>\n",
       "      <td>550236.0</td>\n",
       "    </tr>\n",
       "    <tr>\n",
       "      <th>1</th>\n",
       "      <td>8400200117</td>\n",
       "      <td>ALASKA BOTANICAL GARDEN</td>\n",
       "      <td>ALASKA BOTANICAL GARDEN INC</td>\n",
       "      <td>NaN</td>\n",
       "      <td>ARBORETUM, BOTANICAL GARDEN, OR NATURE CENTER</td>\n",
       "      <td>NaN</td>\n",
       "      <td>4601 CAMPBELL AIRSTRIP RD</td>\n",
       "      <td>ANCHORAGE</td>\n",
       "      <td>AK</td>\n",
       "      <td>99507</td>\n",
       "      <td>...</td>\n",
       "      <td>61.16890</td>\n",
       "      <td>-149.76708</td>\n",
       "      <td>4.0</td>\n",
       "      <td>20.0</td>\n",
       "      <td>2.0</td>\n",
       "      <td>6</td>\n",
       "      <td>920115504</td>\n",
       "      <td>201312.0</td>\n",
       "      <td>1379576.0</td>\n",
       "      <td>1323742.0</td>\n",
       "    </tr>\n",
       "    <tr>\n",
       "      <th>2</th>\n",
       "      <td>8400200153</td>\n",
       "      <td>ALASKA CHALLENGER CENTER FOR SPACE SCIENCE TEC...</td>\n",
       "      <td>ALASKA CHALLENGER CENTER FOR SPACE SCIENCE TEC...</td>\n",
       "      <td>NaN</td>\n",
       "      <td>SCIENCE &amp; TECHNOLOGY MUSEUM OR PLANETARIUM</td>\n",
       "      <td>NaN</td>\n",
       "      <td>9711 KENAI SPUR HWY</td>\n",
       "      <td>KENAI</td>\n",
       "      <td>AK</td>\n",
       "      <td>99611</td>\n",
       "      <td>...</td>\n",
       "      <td>60.56149</td>\n",
       "      <td>-151.21598</td>\n",
       "      <td>3.0</td>\n",
       "      <td>122.0</td>\n",
       "      <td>2.0</td>\n",
       "      <td>6</td>\n",
       "      <td>921761906</td>\n",
       "      <td>201312.0</td>\n",
       "      <td>740030.0</td>\n",
       "      <td>729080.0</td>\n",
       "    </tr>\n",
       "    <tr>\n",
       "      <th>3</th>\n",
       "      <td>8400200143</td>\n",
       "      <td>ALASKA EDUCATORS HISTORICAL SOCIETY</td>\n",
       "      <td>ALASKA EDUCATORS HISTORICAL SOCIETY</td>\n",
       "      <td>NaN</td>\n",
       "      <td>HISTORIC PRESERVATION</td>\n",
       "      <td>NaN</td>\n",
       "      <td>214 BIRCH STREET</td>\n",
       "      <td>KENAI</td>\n",
       "      <td>AK</td>\n",
       "      <td>99611</td>\n",
       "      <td>...</td>\n",
       "      <td>60.56280</td>\n",
       "      <td>-151.26597</td>\n",
       "      <td>3.0</td>\n",
       "      <td>122.0</td>\n",
       "      <td>2.0</td>\n",
       "      <td>6</td>\n",
       "      <td>920165178</td>\n",
       "      <td>201412.0</td>\n",
       "      <td>0.0</td>\n",
       "      <td>0.0</td>\n",
       "    </tr>\n",
       "    <tr>\n",
       "      <th>4</th>\n",
       "      <td>8400200027</td>\n",
       "      <td>ALASKA HERITAGE MUSEUM</td>\n",
       "      <td>ALASKA AVIATION HERITAGE MUSEUM</td>\n",
       "      <td>NaN</td>\n",
       "      <td>HISTORY MUSEUM</td>\n",
       "      <td>NaN</td>\n",
       "      <td>301 W NORTHERN LIGHTS BLVD</td>\n",
       "      <td>ANCHORAGE</td>\n",
       "      <td>AK</td>\n",
       "      <td>99503</td>\n",
       "      <td>...</td>\n",
       "      <td>61.17925</td>\n",
       "      <td>-149.97254</td>\n",
       "      <td>1.0</td>\n",
       "      <td>20.0</td>\n",
       "      <td>2.0</td>\n",
       "      <td>6</td>\n",
       "      <td>920071852</td>\n",
       "      <td>201312.0</td>\n",
       "      <td>602912.0</td>\n",
       "      <td>550236.0</td>\n",
       "    </tr>\n",
       "    <tr>\n",
       "      <th>5</th>\n",
       "      <td>8400200096</td>\n",
       "      <td>ALASKA HISTORICAL MUSEUM</td>\n",
       "      <td>ALASKA HISTORICAL MUSEUM INC</td>\n",
       "      <td>NaN</td>\n",
       "      <td>HISTORIC PRESERVATION</td>\n",
       "      <td>NaN</td>\n",
       "      <td>1675 E 5TH AVE</td>\n",
       "      <td>ANCHORAGE</td>\n",
       "      <td>AK</td>\n",
       "      <td>99501</td>\n",
       "      <td>...</td>\n",
       "      <td>61.21785</td>\n",
       "      <td>-149.85049</td>\n",
       "      <td>1.0</td>\n",
       "      <td>20.0</td>\n",
       "      <td>2.0</td>\n",
       "      <td>6</td>\n",
       "      <td>920062352</td>\n",
       "      <td>NaN</td>\n",
       "      <td>NaN</td>\n",
       "      <td>NaN</td>\n",
       "    </tr>\n",
       "    <tr>\n",
       "      <th>6</th>\n",
       "      <td>8400200078</td>\n",
       "      <td>ALASKA JEWISH MUSEUM</td>\n",
       "      <td>ALASKA JEWISH HISTORICAL MUSEUM AND CULTURAL C...</td>\n",
       "      <td>NaN</td>\n",
       "      <td>GENERAL MUSEUM</td>\n",
       "      <td>NaN</td>\n",
       "      <td>1117 E 35TH AVE</td>\n",
       "      <td>ANCHORAGE</td>\n",
       "      <td>AK</td>\n",
       "      <td>99508</td>\n",
       "      <td>...</td>\n",
       "      <td>61.18946</td>\n",
       "      <td>-149.86071</td>\n",
       "      <td>1.0</td>\n",
       "      <td>20.0</td>\n",
       "      <td>2.0</td>\n",
       "      <td>6</td>\n",
       "      <td>711010049</td>\n",
       "      <td>201312.0</td>\n",
       "      <td>2658938.0</td>\n",
       "      <td>34374.0</td>\n",
       "    </tr>\n",
       "    <tr>\n",
       "      <th>7</th>\n",
       "      <td>8400200084</td>\n",
       "      <td>ALASKA LIGHTHOUSE ASSOCIATION</td>\n",
       "      <td>ALASKA LIGHTHOUSE ASSOCIATION</td>\n",
       "      <td>NaN</td>\n",
       "      <td>HISTORIC PRESERVATION</td>\n",
       "      <td>NaN</td>\n",
       "      <td>2116 B 2ND ST</td>\n",
       "      <td>DOUGLAS</td>\n",
       "      <td>AK</td>\n",
       "      <td>99824</td>\n",
       "      <td>...</td>\n",
       "      <td>58.28299</td>\n",
       "      <td>-134.40583</td>\n",
       "      <td>3.0</td>\n",
       "      <td>110.0</td>\n",
       "      <td>2.0</td>\n",
       "      <td>6</td>\n",
       "      <td>911833974</td>\n",
       "      <td>201312.0</td>\n",
       "      <td>16500.0</td>\n",
       "      <td>16500.0</td>\n",
       "    </tr>\n",
       "    <tr>\n",
       "      <th>8</th>\n",
       "      <td>8400200107</td>\n",
       "      <td>ALASKA MASONIC LIBRARY AND MUSEUM FOUNDATION</td>\n",
       "      <td>ALASKA MASONIC LIBRARY AND MUSEUM FOUNDATION</td>\n",
       "      <td>NaN</td>\n",
       "      <td>GENERAL MUSEUM</td>\n",
       "      <td>NaN</td>\n",
       "      <td>PO BOX 190668</td>\n",
       "      <td>ANCHORAGE</td>\n",
       "      <td>AK</td>\n",
       "      <td>99519</td>\n",
       "      <td>...</td>\n",
       "      <td>61.21833</td>\n",
       "      <td>-149.89456</td>\n",
       "      <td>1.0</td>\n",
       "      <td>20.0</td>\n",
       "      <td>2.0</td>\n",
       "      <td>6</td>\n",
       "      <td>920095561</td>\n",
       "      <td>201406.0</td>\n",
       "      <td>0.0</td>\n",
       "      <td>0.0</td>\n",
       "    </tr>\n",
       "    <tr>\n",
       "      <th>9</th>\n",
       "      <td>8400200073</td>\n",
       "      <td>ALASKA MINING HALL OF FAME FOUNDATION</td>\n",
       "      <td>ALASKA MINING HALL OF FAME FOUNDATION</td>\n",
       "      <td>NaN</td>\n",
       "      <td>HISTORY MUSEUM</td>\n",
       "      <td>NaN</td>\n",
       "      <td>PO BOX 81906</td>\n",
       "      <td>FAIRBANKS</td>\n",
       "      <td>AK</td>\n",
       "      <td>99708</td>\n",
       "      <td>...</td>\n",
       "      <td>64.85079</td>\n",
       "      <td>-147.82945</td>\n",
       "      <td>2.0</td>\n",
       "      <td>90.0</td>\n",
       "      <td>2.0</td>\n",
       "      <td>6</td>\n",
       "      <td>550819611</td>\n",
       "      <td>201412.0</td>\n",
       "      <td>184295.0</td>\n",
       "      <td>31393.0</td>\n",
       "    </tr>\n",
       "  </tbody>\n",
       "</table>\n",
       "<p>10 rows × 25 columns</p>\n",
       "</div>"
      ],
      "text/plain": [
       "    Museum ID                                        Museum Name  \\\n",
       "0  8400200098                    ALASKA AVIATION HERITAGE MUSEUM   \n",
       "1  8400200117                            ALASKA BOTANICAL GARDEN   \n",
       "2  8400200153  ALASKA CHALLENGER CENTER FOR SPACE SCIENCE TEC...   \n",
       "3  8400200143                ALASKA EDUCATORS HISTORICAL SOCIETY   \n",
       "4  8400200027                             ALASKA HERITAGE MUSEUM   \n",
       "5  8400200096                           ALASKA HISTORICAL MUSEUM   \n",
       "6  8400200078                               ALASKA JEWISH MUSEUM   \n",
       "7  8400200084                      ALASKA LIGHTHOUSE ASSOCIATION   \n",
       "8  8400200107       ALASKA MASONIC LIBRARY AND MUSEUM FOUNDATION   \n",
       "9  8400200073              ALASKA MINING HALL OF FAME FOUNDATION   \n",
       "\n",
       "                                          Legal Name Alternate Name  \\\n",
       "0                    ALASKA AVIATION HERITAGE MUSEUM            NaN   \n",
       "1                        ALASKA BOTANICAL GARDEN INC            NaN   \n",
       "2  ALASKA CHALLENGER CENTER FOR SPACE SCIENCE TEC...            NaN   \n",
       "3                ALASKA EDUCATORS HISTORICAL SOCIETY            NaN   \n",
       "4                    ALASKA AVIATION HERITAGE MUSEUM            NaN   \n",
       "5                       ALASKA HISTORICAL MUSEUM INC            NaN   \n",
       "6  ALASKA JEWISH HISTORICAL MUSEUM AND CULTURAL C...            NaN   \n",
       "7                      ALASKA LIGHTHOUSE ASSOCIATION            NaN   \n",
       "8       ALASKA MASONIC LIBRARY AND MUSEUM FOUNDATION            NaN   \n",
       "9              ALASKA MINING HALL OF FAME FOUNDATION            NaN   \n",
       "\n",
       "                                     Museum Type Institution Name  \\\n",
       "0                                 HISTORY MUSEUM              NaN   \n",
       "1  ARBORETUM, BOTANICAL GARDEN, OR NATURE CENTER              NaN   \n",
       "2     SCIENCE & TECHNOLOGY MUSEUM OR PLANETARIUM              NaN   \n",
       "3                          HISTORIC PRESERVATION              NaN   \n",
       "4                                 HISTORY MUSEUM              NaN   \n",
       "5                          HISTORIC PRESERVATION              NaN   \n",
       "6                                 GENERAL MUSEUM              NaN   \n",
       "7                          HISTORIC PRESERVATION              NaN   \n",
       "8                                 GENERAL MUSEUM              NaN   \n",
       "9                                 HISTORY MUSEUM              NaN   \n",
       "\n",
       "  Street Address (Administrative Location) City (Administrative Location)  \\\n",
       "0                         4721 AIRCRAFT DR                      ANCHORAGE   \n",
       "1                4601 CAMPBELL AIRSTRIP RD                      ANCHORAGE   \n",
       "2                      9711 KENAI SPUR HWY                          KENAI   \n",
       "3                         214 BIRCH STREET                          KENAI   \n",
       "4               301 W NORTHERN LIGHTS BLVD                      ANCHORAGE   \n",
       "5                           1675 E 5TH AVE                      ANCHORAGE   \n",
       "6                          1117 E 35TH AVE                      ANCHORAGE   \n",
       "7                            2116 B 2ND ST                        DOUGLAS   \n",
       "8                            PO BOX 190668                      ANCHORAGE   \n",
       "9                             PO BOX 81906                      FAIRBANKS   \n",
       "\n",
       "  State (Administrative Location) Zip Code (Administrative Location)  ...  \\\n",
       "0                              AK                              99502  ...   \n",
       "1                              AK                              99507  ...   \n",
       "2                              AK                              99611  ...   \n",
       "3                              AK                              99611  ...   \n",
       "4                              AK                              99503  ...   \n",
       "5                              AK                              99501  ...   \n",
       "6                              AK                              99508  ...   \n",
       "7                              AK                              99824  ...   \n",
       "8                              AK                              99519  ...   \n",
       "9                              AK                              99708  ...   \n",
       "\n",
       "   Latitude  Longitude Locale Code (NCES)  County Code (FIPS)  \\\n",
       "0  61.17925 -149.97254                1.0                20.0   \n",
       "1  61.16890 -149.76708                4.0                20.0   \n",
       "2  60.56149 -151.21598                3.0               122.0   \n",
       "3  60.56280 -151.26597                3.0               122.0   \n",
       "4  61.17925 -149.97254                1.0                20.0   \n",
       "5  61.21785 -149.85049                1.0                20.0   \n",
       "6  61.18946 -149.86071                1.0                20.0   \n",
       "7  58.28299 -134.40583                3.0               110.0   \n",
       "8  61.21833 -149.89456                1.0                20.0   \n",
       "9  64.85079 -147.82945                2.0                90.0   \n",
       "\n",
       "  State Code (FIPS)  Region Code (AAM)  Employer ID Number  Tax Period  \\\n",
       "0               2.0                  6           920071852    201312.0   \n",
       "1               2.0                  6           920115504    201312.0   \n",
       "2               2.0                  6           921761906    201312.0   \n",
       "3               2.0                  6           920165178    201412.0   \n",
       "4               2.0                  6           920071852    201312.0   \n",
       "5               2.0                  6           920062352         NaN   \n",
       "6               2.0                  6           711010049    201312.0   \n",
       "7               2.0                  6           911833974    201312.0   \n",
       "8               2.0                  6           920095561    201406.0   \n",
       "9               2.0                  6           550819611    201412.0   \n",
       "\n",
       "      Income    Revenue  \n",
       "0   602912.0   550236.0  \n",
       "1  1379576.0  1323742.0  \n",
       "2   740030.0   729080.0  \n",
       "3        0.0        0.0  \n",
       "4   602912.0   550236.0  \n",
       "5        NaN        NaN  \n",
       "6  2658938.0    34374.0  \n",
       "7    16500.0    16500.0  \n",
       "8        0.0        0.0  \n",
       "9   184295.0    31393.0  \n",
       "\n",
       "[10 rows x 25 columns]"
      ]
     },
     "execution_count": 131,
     "metadata": {},
     "output_type": "execute_result"
    }
   ],
   "source": [
    "'''Print top 10 rows of the dataset'''\n",
    "\n",
    "# BEGIN_YOUR_CODE\n",
    "DataFile.head(10)\n",
    "\n",
    "# END_YOUR_CODE"
   ]
  },
  {
   "cell_type": "markdown",
   "metadata": {
    "id": "YNq5ppEGvnnh"
   },
   "source": [
    "<a id='part5'></a>\n",
    "## Part 5 - Matplotlib Basics [20 points]"
   ]
  },
  {
   "cell_type": "markdown",
   "metadata": {
    "id": "MyidlhZlIPa2"
   },
   "source": [
    "Heatmaps is a useful plot tool which can help us to visualize the data density or distribution. Refer the below documentation for more details on heatmap.\n",
    "\n",
    "[Matplotlib tutorial](https://machinelearningknowledge.ai/matplotlib-heatmap-complete-tutorial-for-beginners/)\n",
    "\n",
    "**Note:** You can only use matplotlib library for the following tasks"
   ]
  },
  {
   "cell_type": "code",
   "execution_count": 132,
   "metadata": {
    "id": "bfFqEdGEvnnh"
   },
   "outputs": [],
   "source": [
    "''' Install and import matplotlib library\n",
    "'''\n",
    "\n",
    "# BEGIN_YOUR_CODE\n",
    "import matplotlib.pyplot as plt\n",
    "%matplotlib inline\n",
    "# END_YOUR_CODE"
   ]
  },
  {
   "cell_type": "code",
   "execution_count": 133,
   "metadata": {
    "id": "25-jR3OHstb_"
   },
   "outputs": [
    {
     "data": {
      "image/png": "[encoded data removed]",
      "text/plain": [
       "<Figure size 432x288 with 1 Axes>"
      ]
     },
     "metadata": {
      "needs_background": "light"
     },
     "output_type": "display_data"
    }
   ],
   "source": [
    "''' Heatmap\n",
    "Take any random numpy array of dimension 10x15 and plot a heatmap\n",
    "'''\n",
    "\n",
    "# BEGIN YOUR CODE\n",
    "randomData = np.random.rand(10, 15)\n",
    "fig, ax = plt.subplots()\n",
    "im = ax.imshow(randomData)\n",
    "ax.set_title(\"Random Array\")\n",
    "fig.tight_layout()\n",
    "# END YOUR CODE"
   ]
  },
  {
   "cell_type": "code",
   "execution_count": 134,
   "metadata": {
    "id": "VD6WIdUU4-PA"
   },
   "outputs": [
    {
     "data": {
      "text/plain": [
       "[<matplotlib.lines.Line2D at 0x13ca4d730>]"
      ]
     },
     "execution_count": 134,
     "metadata": {},
     "output_type": "execute_result"
    },
    {
     "data": {
      "image/png": "[encoded data removed]",
      "text/plain": [
       "<Figure size 432x288 with 1 Axes>"
      ]
     },
     "metadata": {
      "needs_background": "light"
     },
     "output_type": "display_data"
    }
   ],
   "source": [
    "'''For the given value x plot the function y = 1/x using list comprehension on y.\n",
    "You can check https://docs.python.org/3/tutorial/datastructures.html#list-comprehensions to learn how to use list comprehension\n",
    "'''\n",
    "\n",
    "x = range(25)\n",
    "# BEGIN YOUR CODE\n",
    "squares = [np.divide(1, x1) for x1 in x if x1 != 0]\n",
    "plt.plot(squares)\n",
    "# END YOUR CODE"
   ]
  },
  {
   "cell_type": "code",
   "execution_count": 135,
   "metadata": {
    "id": "bRpSO832EIpQ"
   },
   "outputs": [
    {
     "data": {
      "text/plain": [
       "[<matplotlib.lines.Line2D at 0x13caa3be0>]"
      ]
     },
     "execution_count": 135,
     "metadata": {},
     "output_type": "execute_result"
    },
    {
     "data": {
      "image/png": "[encoded data removed]",
      "text/plain": [
       "<Figure size 432x288 with 1 Axes>"
      ]
     },
     "metadata": {
      "needs_background": "light"
     },
     "output_type": "display_data"
    }
   ],
   "source": [
    "'''Draw a line for given GPAs of students [3.5, 2.3, 3.8, 2.4, 2.9, 3.3] using markers\n",
    "'''\n",
    "\n",
    "# BEGIN_YOUR_CODE\n",
    "x = [3.5, 2.3, 3.8, 2.4, 2.9, 3.3]\n",
    "plt.plot(x, marker='D', mfc='red')\n",
    "\n",
    "# END_YOUR_CODE"
   ]
  },
  {
   "cell_type": "code",
   "execution_count": 137,
   "metadata": {
    "id": "6dx1hZ8gEIpQ"
   },
   "outputs": [
    {
     "data": {
      "text/plain": [
       "<BarContainer object of 9 artists>"
      ]
     },
     "execution_count": 137,
     "metadata": {},
     "output_type": "execute_result"
    },
    {
     "data": {
      "image/png": "[encoded data removed]",
      "text/plain": [
       "<Figure size 432x288 with 1 Axes>"
      ]
     },
     "metadata": {
      "needs_background": "light"
     },
     "output_type": "display_data"
    }
   ],
   "source": [
    "''' Museum (\"museum.csv\"): total number of museums per type\n",
    "\n",
    "Plot a bar graph which shows the total number of museums in USA corresponding to the museum type\n",
    "'''\n",
    "\n",
    "# BEGIN YOUR CODE\n",
    "fig = plt.figure()\n",
    "dup = DataFile.pivot_table(columns='Museum Type', aggfunc='size')\n",
    "ax = fig.add_axes([0,0,1,1])\n",
    "types = pd.DataFrame({'type':dup.index, 'count':dup.values})\n",
    "plt.xticks(rotation=90)\n",
    "ax.bar(types['type'], types['count'])\n",
    "# END YOUR CODE"
   ]
  },
  {
   "cell_type": "code",
   "execution_count": 138,
   "metadata": {},
   "outputs": [
    {
     "data": {
      "text/plain": [
       "<BarContainer object of 51 artists>"
      ]
     },
     "execution_count": 138,
     "metadata": {},
     "output_type": "execute_result"
    },
    {
     "data": {
      "image/png": "[encoded data removed]",
      "text/plain": [
       "<Figure size 1332x756 with 1 Axes>"
      ]
     },
     "metadata": {
      "needs_background": "light"
     },
     "output_type": "display_data"
    }
   ],
   "source": [
    "''' Museum (\"museum.csv\"): total number of museums per state\n",
    "\n",
    "Plot a graph which shows the total number of museums per each state (\"State (Physical Location)\")\n",
    "'''\n",
    "\n",
    "# BEGIN YOUR CODE\n",
    "fig = plt.figure()\n",
    "fig.set_size_inches(18.5, 10.5)\n",
    "dup = DataFile.pivot_table(columns='State (Administrative Location)', aggfunc='size')\n",
    "ax = fig.add_axes([0,0,1,1])\n",
    "types = pd.DataFrame({'state':dup.index, 'count':dup.values})\n",
    "plt.xticks(rotation=90)\n",
    "ax.bar(types['state'], types['count'])\n",
    "# END YOUR CODE"
   ]
  },
  {
   "cell_type": "markdown",
   "metadata": {
    "id": "JPq3SqvVEIpQ"
   },
   "source": []
  },
  {
   "cell_type": "markdown",
   "metadata": {
    "id": "Oo6h1NH6R6Pq"
   },
   "source": [
    "#### Results analyzing\n",
    "\n",
    "Analyze the graph and answer the following two questions:\n",
    "\n",
    "**1) What is your inference from the above graph?**\n",
    "\n",
    "*YOUR ANSWER:*\n",
    "\n",
    "**2) Which state has the most number of museum?**\n",
    "\n",
    "*YOUR ANSWER:*\n",
    "\n",
    "**3) Which is the most common type of museum?**\n",
    "\n",
    "*YOUR ANSWER:*\n"
   ]
  },
  {
   "cell_type": "markdown",
   "metadata": {
    "id": "toxZCPhevnni"
   },
   "source": [
    "## References Used\n",
    "\n",
    "**List below all the references you used to complete the assignment**"
   ]
  },
  {
   "cell_type": "code",
   "execution_count": 139,
   "metadata": {
    "id": "YW_6TvjFrilZ"
   },
   "outputs": [
    {
     "data": {
      "text/plain": [
       "'\\n    1. The above graph shows the distribution of museum across the states. \\n'"
      ]
     },
     "execution_count": 139,
     "metadata": {},
     "output_type": "execute_result"
    }
   ],
   "source": [
    "\"\"\"\n",
    "    1. The above graph shows the distribution of museum across the states. \n",
    "\"\"\""
   ]
  },
  {
   "cell_type": "code",
   "execution_count": 140,
   "metadata": {
    "id": "hkdGrp2QEIpR"
   },
   "outputs": [
    {
     "data": {
      "text/plain": [
       "'\\n    2. California has the most number of museum.\\n'"
      ]
     },
     "execution_count": 140,
     "metadata": {},
     "output_type": "execute_result"
    }
   ],
   "source": [
    "\"\"\"\n",
    "    2. California has the most number of museum.\n",
    "\"\"\""
   ]
  },
  {
   "cell_type": "code",
   "execution_count": 141,
   "metadata": {
    "id": "3keb1CKCEIpR"
   },
   "outputs": [
    {
     "data": {
      "text/plain": [
       "'\\n    3. the most common type of museum is Historic Preservation.\\n'"
      ]
     },
     "execution_count": 141,
     "metadata": {},
     "output_type": "execute_result"
    }
   ],
   "source": [
    "\"\"\"\n",
    "    3. the most common type of museum is Historic Preservation.\n",
    "\"\"\""
   ]
  },
  {
   "cell_type": "markdown",
   "metadata": {
    "id": "bSo5ve2EEIpR"
   },
   "source": []
  }
 ],
 "metadata": {
  "celltoolbar": "Raw Cell Format",
  "colab": {
   "collapsed_sections": [
    "uiyFNoJivnnQ",
    "bE9PC_sEvnnQ",
    "lTuFruDrvnnR",
    "zGMa8NVpvnnU",
    "toxZCPhevnni"
   ],
   "name": "spring22_cse574_c&d_Assignment_1_UPDATED.ipynb",
   "provenance": []
  },
  "kernelspec": {
   "display_name": "Python 3 (ipykernel)",
   "language": "python",
   "name": "python3"
  },
  "language_info": {
   "codemirror_mode": {
    "name": "ipython",
    "version": 3
   },
   "file_extension": ".py",
   "mimetype": "text/x-python",
   "name": "python",
   "nbconvert_exporter": "python",
   "pygments_lexer": "ipython3",
   "version": "3.9.8"
  }
 },
 "nbformat": 4,
 "nbformat_minor": 1
}
