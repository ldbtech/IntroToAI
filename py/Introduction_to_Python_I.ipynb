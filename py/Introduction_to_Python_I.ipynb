{
 "cells": [
  {
   "cell_type": "markdown",
   "metadata": {
    "id": "cPz3i5ZpQkrw"
   },
   "source": [
    "###Welcome to Python Tutorial Part 1\n"
   ]
  },
  {
   "cell_type": "markdown",
   "metadata": {
    "id": "Gd-YqJX5qVC8"
   },
   "source": [
    "### Basic Data Types"
   ]
  },
  {
   "cell_type": "markdown",
   "metadata": {
    "id": "bNZjM00SqjEB"
   },
   "source": [
    "Strings"
   ]
  },
  {
   "cell_type": "code",
   "execution_count": 6,
   "metadata": {
    "colab": {
     "base_uri": "https://localhost:8080/"
    },
    "id": "KpQLPTiEQjL9",
    "outputId": "36da3d19-b256-4296-a7f9-8a17f093b47f"
   },
   "outputs": [
    {
     "name": "stdout",
     "output_type": "stream",
     "text": [
      "Hello\n",
      "Hello\n",
      "Hello 5\n"
     ]
    }
   ],
   "source": [
    "a = 'Hello'# String literals can use single quotes\n",
    "print(a)\n",
    "# a= 5\n",
    "# print(a)\n",
    "#a = 6.0\n",
    "#a = \"Hello\"# or double quotes; it does not matter\n",
    "# a = '''hello\n",
    "# How are you'''# Triple quotes for sentences\n",
    "print(a)\n",
    "print(a, len(a))# print and len of string\n",
    "# String concatenation"
   ]
  },
  {
   "cell_type": "code",
   "execution_count": 7,
   "metadata": {
    "colab": {
     "base_uri": "https://localhost:8080/"
    },
    "id": "K_VZs9cgrUMO",
    "outputId": "29b8084b-232d-46c8-ae6c-883c5ce9bc9a"
   },
   "outputs": [
    {
     "name": "stdout",
     "output_type": "stream",
     "text": [
      "<class 'int'> <class 'str'>\n"
     ]
    }
   ],
   "source": [
    "a = 6#casting to string using str and f\n",
    "b = str(a)\n",
    "print(type(a), type(b))"
   ]
  },
  {
   "cell_type": "code",
   "execution_count": 16,
   "metadata": {
    "colab": {
     "base_uri": "https://localhost:8080/"
    },
    "id": "t9aZpxgSrUBT",
    "outputId": "e79ca58d-1b7a-4eb7-dc22-5d6353bbc9f0"
   },
   "outputs": [
    {
     "name": "stdout",
     "output_type": "stream",
     "text": [
      "Hello \n",
      "HELLO \n",
      "hello \n",
      " hello \n",
      "heGGGGo \n",
      "hello\n"
     ]
    }
   ],
   "source": [
    "s = 'hello '\n",
    "print(s.capitalize())# Capitalize a string\n",
    "print(s.upper())# Convert a string to uppercase; prints \"HELLO\"\n",
    "print(s.rjust(2))# Right-justify a string, padding with spaces\n",
    "print(s.center(7))# Center a string, padding with spaces\n",
    "print(s.replace('l',\"GG\"))# Replace all instances of one substring with another\n",
    "print(\"    hello  \".strip())# Strip leading and trailing whitespace"
   ]
  },
  {
   "cell_type": "code",
   "execution_count": 17,
   "metadata": {
    "colab": {
     "base_uri": "https://localhost:8080/"
    },
    "id": "2oPP1olksAAo",
    "outputId": "f4da9c92-acec-4bac-d4f2-a77b052f5c80"
   },
   "outputs": [
    {
     "name": "stdout",
     "output_type": "stream",
     "text": [
      "hello hello hello hello hello hello hello hello hello hello \n"
     ]
    }
   ],
   "source": [
    "print(s*10)# Print a string N Times*"
   ]
  },
  {
   "cell_type": "code",
   "execution_count": 19,
   "metadata": {
    "colab": {
     "base_uri": "https://localhost:8080/"
    },
    "id": "OSCcWLJUsPAd",
    "outputId": "7db67abf-d4b0-4933-bf46-935456256252"
   },
   "outputs": [
    {
     "name": "stdout",
     "output_type": "stream",
     "text": [
      "o\n"
     ]
    }
   ],
   "source": [
    "#string as individual char\n",
    "s = 'hello'\n",
    "print(s[4])"
   ]
  },
  {
   "cell_type": "markdown",
   "metadata": {
    "id": "CjvkibgeqjNq"
   },
   "source": [
    "Numbers"
   ]
  },
  {
   "cell_type": "code",
   "execution_count": 20,
   "metadata": {
    "colab": {
     "base_uri": "https://localhost:8080/"
    },
    "id": "lsrSeZSQtWGX",
    "outputId": "9c023bf6-12e1-4bb5-f519-e118c086d700"
   },
   "outputs": [
    {
     "name": "stdout",
     "output_type": "stream",
     "text": [
      "<class 'int'> <class 'float'>\n"
     ]
    }
   ],
   "source": [
    "# integers and floats, type check\n",
    "a = 5\n",
    "b = 2.5\n",
    "print(type(a), type(b))"
   ]
  },
  {
   "cell_type": "code",
   "execution_count": 21,
   "metadata": {
    "colab": {
     "base_uri": "https://localhost:8080/"
    },
    "id": "NF8PgzAlsgty",
    "outputId": "28933d53-b128-4429-9e35-cfc63f566d0a"
   },
   "outputs": [
    {
     "name": "stdout",
     "output_type": "stream",
     "text": [
      "6\n",
      "1.5\n",
      "12.5\n",
      "25\n"
     ]
    }
   ],
   "source": [
    "print(a+1)# Addition\n",
    "print(b-1)# Subtraction\n",
    "print(a*b)# Multiplication\n",
    "print(a**2)# Exponentiation"
   ]
  },
  {
   "cell_type": "code",
   "execution_count": 25,
   "metadata": {
    "colab": {
     "base_uri": "https://localhost:8080/"
    },
    "id": "aNdvlZjJsg2H",
    "outputId": "d146d4a0-294e-4d4f-add7-aa9ce68b865a"
   },
   "outputs": [
    {
     "name": "stdout",
     "output_type": "stream",
     "text": [
      "2\n",
      "2.5\n",
      "2\n"
     ]
    }
   ],
   "source": [
    "print(a%3)# Modulus\n",
    "print(a/2)# Division\n",
    "print(a//2)# Floor Division"
   ]
  },
  {
   "cell_type": "code",
   "execution_count": 28,
   "metadata": {
    "colab": {
     "base_uri": "https://localhost:8080/"
    },
    "id": "uWIrYgHusg_w",
    "outputId": "c48a10f4-dcd8-457a-be55-ed5ee43b2c69"
   },
   "outputs": [
    {
     "name": "stdout",
     "output_type": "stream",
     "text": [
      "0\n",
      "-1\n"
     ]
    }
   ],
   "source": [
    "#increment and decrement\n",
    "a = 1\n",
    "a = a-1\n",
    "print(a)\n",
    "a -= 1\n",
    "print(a)"
   ]
  },
  {
   "cell_type": "markdown",
   "metadata": {
    "id": "NFkiACkCqjSE"
   },
   "source": [
    "Booleans"
   ]
  },
  {
   "cell_type": "code",
   "execution_count": 31,
   "metadata": {
    "colab": {
     "base_uri": "https://localhost:8080/"
    },
    "id": "5VkHym38tEEx",
    "outputId": "81e98433-ab67-481d-e074-dfed14afb0a5"
   },
   "outputs": [
    {
     "name": "stdout",
     "output_type": "stream",
     "text": [
      "False\n",
      "True\n",
      "False\n"
     ]
    }
   ],
   "source": [
    "a = True\n",
    "b = False\n",
    "\n",
    "\n",
    "print(a and b) # Logical AND;\n",
    "print(a or b) # Logical OR;\n",
    "print(not a) # Logical NOT;"
   ]
  },
  {
   "cell_type": "markdown",
   "metadata": {
    "id": "5ljjsbNsu0pN"
   },
   "source": [
    "### Containers"
   ]
  },
  {
   "cell_type": "markdown",
   "metadata": {
    "id": "n5x-Ms4Lu5vg"
   },
   "source": [
    "Lists"
   ]
  },
  {
   "cell_type": "code",
   "execution_count": 35,
   "metadata": {
    "colab": {
     "base_uri": "https://localhost:8080/"
    },
    "id": "gsBZskrmu4Lx",
    "outputId": "66df631d-437c-4601-88a8-2f739c0ac8cf"
   },
   "outputs": [
    {
     "name": "stdout",
     "output_type": "stream",
     "text": [
      "c++\n",
      "python\n"
     ]
    }
   ],
   "source": [
    "# Create a list\n",
    "a = ['python', 'go', 'c++', 'java']\n",
    "print(a[2])\n",
    "# Negative indices count from the end of the list; prints \"2\"\n",
    "print(a[-4])"
   ]
  },
  {
   "cell_type": "code",
   "execution_count": 36,
   "metadata": {
    "colab": {
     "base_uri": "https://localhost:8080/"
    },
    "id": "YHSgaUCMvMHg",
    "outputId": "5a985979-5042-48ec-d46d-c643e22e7937"
   },
   "outputs": [
    {
     "name": "stdout",
     "output_type": "stream",
     "text": [
      "['python', 5, True, 'java']\n"
     ]
    }
   ],
   "source": [
    "# Lists can contain elements of different types\n",
    "a = ['python', 5, True, 'java']\n",
    "print(a)"
   ]
  },
  {
   "cell_type": "code",
   "execution_count": 39,
   "metadata": {
    "colab": {
     "base_uri": "https://localhost:8080/"
    },
    "id": "TlnJoQTovMQF",
    "outputId": "3c4fd237-7973-4b85-85db-b13839b1c242"
   },
   "outputs": [
    {
     "name": "stdout",
     "output_type": "stream",
     "text": [
      "[0, 1, 2, 3, 4]\n",
      "[0, 1, 2, 3, 4, 5]\n",
      "popped value:  5\n",
      "[0, 1, 2, 3, 4]\n"
     ]
    }
   ],
   "source": [
    "# Add a new element to the end of the list\n",
    "nums = list(range(5))\n",
    "print(nums)\n",
    "nums.append(5)\n",
    "print(nums)\n",
    "# Remove and return the last element of the list\n",
    "popped_element = nums.pop()\n",
    "print(\"popped value: \", popped_element)\n",
    "print(nums)\n",
    "# Sort"
   ]
  },
  {
   "cell_type": "code",
   "execution_count": 45,
   "metadata": {
    "colab": {
     "base_uri": "https://localhost:8080/"
    },
    "id": "YK_y4Dagvfqh",
    "outputId": "667f16c9-f84a-4313-8cff-f9044bf146dd"
   },
   "outputs": [
    {
     "name": "stdout",
     "output_type": "stream",
     "text": [
      "[0, 1, 2, 3, 4]\n",
      "[0, 1]\n",
      "[0, 1, 2, 3]\n",
      "[0, 1, 2, 3]\n",
      "[0, 1, 7, 8, 4]\n",
      "[4, 8, 7, 1, 0]\n"
     ]
    }
   ],
   "source": [
    "nums = list(range(5))# range is a built-in function that creates a list of integers\n",
    "print(nums)# Prints \"[0, 1, 2, 3, 4]\"\n",
    "print(nums[0:2])      # Get a slice from the start to index 2 (exclusive); prints \"[0, 1]\"\n",
    "      # Get a slice of the whole list; prints [\"0, 1, 2, 3, 4]\"\n",
    "print(nums[0:4]) \n",
    "print(nums[:-1])# Slice indices can be negative; prints [\"0, 1, 2, 3]\"\n",
    "nums[2:4] = [7,8]\n",
    "print(nums)# Assign a new sublist to a slice\n",
    "      # Prints \"[0, 1, 8, 9, 4]\"\n",
    "print(nums[::-1])     # reversing a list"
   ]
  },
  {
   "cell_type": "code",
   "execution_count": 47,
   "metadata": {
    "colab": {
     "base_uri": "https://localhost:8080/"
    },
    "id": "IWsB917w2u2p",
    "outputId": "655f63b5-cb12-4542-e1e5-9aa59089ee36"
   },
   "outputs": [
    {
     "name": "stdout",
     "output_type": "stream",
     "text": [
      "['python', 'go', 'c++', 'java', 5]\n",
      "['python', 'go', 'c++', 'java', 5, 7, 8]\n"
     ]
    }
   ],
   "source": [
    "# use append() to add a single value and extend() to add multiple values\n",
    "a = ['python', 'go', 'c++', 'java']\n",
    "a.append(5)\n",
    "print(a)\n",
    "a.extend([7,8])\n",
    "print(a)"
   ]
  },
  {
   "cell_type": "markdown",
   "metadata": {
    "id": "d_qsYt-6u54C"
   },
   "source": [
    "Tuples"
   ]
  },
  {
   "cell_type": "code",
   "execution_count": 50,
   "metadata": {
    "colab": {
     "base_uri": "https://localhost:8080/"
    },
    "id": "HUZGDWVhw55g",
    "outputId": "3d5ff166-1d91-4831-e12b-f2b2df8be2e3"
   },
   "outputs": [
    {
     "name": "stdout",
     "output_type": "stream",
     "text": [
      "(4, 8, 9, 1, 0)\n",
      "4\n"
     ]
    },
    {
     "ename": "AttributeError",
     "evalue": "'tuple' object has no attribute 'append'",
     "output_type": "error",
     "traceback": [
      "\u001b[0;31m---------------------------------------------------------------------------\u001b[0m",
      "\u001b[0;31mAttributeError\u001b[0m                            Traceback (most recent call last)",
      "\u001b[0;32m/var/folders/0t/8d1js5vn0hb_9swxckrbj1cw0000gn/T/ipykernel_7758/1707739049.py\u001b[0m in \u001b[0;36m<module>\u001b[0;34m\u001b[0m\n\u001b[1;32m      3\u001b[0m \u001b[0mprint\u001b[0m\u001b[0;34m(\u001b[0m\u001b[0mb\u001b[0m\u001b[0;34m)\u001b[0m\u001b[0;34m\u001b[0m\u001b[0;34m\u001b[0m\u001b[0m\n\u001b[1;32m      4\u001b[0m \u001b[0mprint\u001b[0m\u001b[0;34m(\u001b[0m\u001b[0mb\u001b[0m\u001b[0;34m[\u001b[0m\u001b[0;36m0\u001b[0m\u001b[0;34m]\u001b[0m\u001b[0;34m)\u001b[0m\u001b[0;34m\u001b[0m\u001b[0;34m\u001b[0m\u001b[0m\n\u001b[0;32m----> 5\u001b[0;31m \u001b[0mb\u001b[0m\u001b[0;34m.\u001b[0m\u001b[0mappend\u001b[0m\u001b[0;34m(\u001b[0m\u001b[0;36m1\u001b[0m\u001b[0;34m)\u001b[0m\u001b[0;34m\u001b[0m\u001b[0;34m\u001b[0m\u001b[0m\n\u001b[0m",
      "\u001b[0;31mAttributeError\u001b[0m: 'tuple' object has no attribute 'append'"
     ]
    }
   ],
   "source": [
    "#same as list, but not mutable\n",
    "b = (4,8,9,1,0)\n",
    "print(b)\n",
    "print(b[0])\n",
    "b.append(1)"
   ]
  },
  {
   "cell_type": "markdown",
   "metadata": {
    "id": "hp5w8zLou5_2"
   },
   "source": [
    "Sets"
   ]
  },
  {
   "cell_type": "code",
   "execution_count": 71,
   "metadata": {
    "colab": {
     "base_uri": "https://localhost:8080/",
     "height": 160
    },
    "id": "RXxU8PJ8vyks",
    "outputId": "456dd005-e6a5-418b-9ae2-4156588b82f6"
   },
   "outputs": [
    {
     "name": "stdout",
     "output_type": "stream",
     "text": [
      "{'dog', 'cat', 6, 7, 8, 'lion', 'tiger', 'horse'}\n",
      "False\n",
      "{'dog', 'cat', 6, 7, 8, 'lion', 'tiger', 'horse', 'fish'}\n",
      "{'dog', 'cat', 6, 7, 8, 'lion', 'Fish', 'tiger', 'horse', 'fish'}\n",
      "{'cat', 6, 7, 8, 'lion', 'Fish', 'tiger', 'horse', 'fish'}\n"
     ]
    }
   ],
   "source": [
    "animals = {'cat', 'dog', 6, 'horse', 'tiger', 'lion', 7, 8} #unordered\n",
    "print(animals)\n",
    "print('Fish' in animals)# Check if an element is in a set; prints \"True\"\n",
    "# prints \"False\"\n",
    "animals.add('fish')# Add an element to a set\n",
    "print(animals)\n",
    "animals.add('Fish')# Adding an element that is already in the set does nothing\n",
    "print(animals)\n",
    "animals.pop()# Remove an element from a set\n",
    "print(animals)"
   ]
  },
  {
   "cell_type": "markdown",
   "metadata": {
    "id": "D93pHesuu6HZ"
   },
   "source": [
    "Dictionaries"
   ]
  },
  {
   "cell_type": "code",
   "execution_count": 63,
   "metadata": {
    "colab": {
     "base_uri": "https://localhost:8080/"
    },
    "id": "2HLc5WIIvAPA",
    "outputId": "068d8475-2551-4fe8-85a2-22b64345138a"
   },
   "outputs": [
    {
     "name": "stdout",
     "output_type": "stream",
     "text": [
      "big\n",
      "False\n"
     ]
    }
   ],
   "source": [
    "d = {'cat': 'cute', 'dog': 'big'}  # Create a new dictionary with some data\n",
    "#dictionary = {key: value}\n",
    "print(d['dog'])\n",
    "     # Get an entry from a dictionary; prints \"cute\"\n",
    "print('Cat' in d)     # Check if a dictionary has a given key; prints \"True\""
   ]
  },
  {
   "cell_type": "code",
   "execution_count": 64,
   "metadata": {
    "colab": {
     "base_uri": "https://localhost:8080/"
    },
    "id": "2xEqgziwxhGU",
    "outputId": "13c5a517-01f0-4536-ebbc-79a8643ba09c"
   },
   "outputs": [
    {
     "name": "stdout",
     "output_type": "stream",
     "text": [
      "wet\n"
     ]
    }
   ],
   "source": [
    "d['fish'] = 'wet'  # Set an entry in a dictionary\n",
    "print(d['fish'])     # Prints \"wet\""
   ]
  },
  {
   "cell_type": "code",
   "execution_count": 65,
   "metadata": {
    "colab": {
     "base_uri": "https://localhost:8080/"
    },
    "id": "C0w7f8fnxznv",
    "outputId": "b71644d3-9a50-41e5-ea7e-1ae4a2e5a092"
   },
   "outputs": [
    {
     "name": "stdout",
     "output_type": "stream",
     "text": [
      "N/A\n",
      "wet\n"
     ]
    }
   ],
   "source": [
    " print(d.get('monkey', 'N/A')) # Get an element with a default; prints \"N/A\"\n",
    " print(d.get('fish', 'N/A'))  # Get an element with a default; prints \"wet\""
   ]
  },
  {
   "cell_type": "code",
   "execution_count": 66,
   "metadata": {
    "colab": {
     "base_uri": "https://localhost:8080/"
    },
    "id": "yzU9-czwx2nL",
    "outputId": "6eefd67c-bef4-4388-d56b-ca5db8833e64"
   },
   "outputs": [
    {
     "name": "stdout",
     "output_type": "stream",
     "text": [
      "N/A\n"
     ]
    }
   ],
   "source": [
    "del d['fish']    # Remove an element from a dictionary\n",
    "print(d.get('fish', 'N/A'))# \"fish\" is no longer a key; prints \"N/A\"\n"
   ]
  },
  {
   "cell_type": "code",
   "execution_count": 68,
   "metadata": {},
   "outputs": [
    {
     "name": "stdout",
     "output_type": "stream",
     "text": [
      "[0, 1, 2, 3]\n"
     ]
    }
   ],
   "source": [
    "nums= [0,1,2,3]\n",
    "print(nums[:999]) #[0,1,2,3]"
   ]
  },
  {
   "cell_type": "markdown",
   "metadata": {
    "id": "cY9exPdyyHS1"
   },
   "source": [
    "### Conditional Statements"
   ]
  },
  {
   "cell_type": "code",
   "execution_count": 78,
   "metadata": {
    "id": "hiV31_6qyO5j"
   },
   "outputs": [
    {
     "name": "stdout",
     "output_type": "stream",
     "text": [
      "S2 is larger than S1\n"
     ]
    }
   ],
   "source": [
    "#if, else, elif\n",
    "s1 = 80\n",
    "s2 = 60\n",
    "s3 = 70\n",
    "if s1>s2:\n",
    "    print(\"S2 is larger than S1\")\n",
    "# elif s2>s3:\n",
    "#     print(\"S2 is less than S3\")\n",
    "# else:\n",
    "#     print(\"else executed\")\n",
    "\n",
    "\n",
    "#  You can use IF statement without an else or without an elif\n",
    "#     but you cannot use else without an If\n",
    "\n"
   ]
  },
  {
   "cell_type": "code",
   "execution_count": 80,
   "metadata": {},
   "outputs": [
    {
     "name": "stdout",
     "output_type": "stream",
     "text": [
      "B\n"
     ]
    }
   ],
   "source": [
    "a = 40\n",
    "b = 50\n",
    "print(\"A\") if a > b else print(\"B\") #shorthand"
   ]
  },
  {
   "cell_type": "markdown",
   "metadata": {
    "id": "l1d9R3M_ymd6"
   },
   "source": [
    "### Loops"
   ]
  },
  {
   "cell_type": "code",
   "execution_count": 92,
   "metadata": {
    "colab": {
     "base_uri": "https://localhost:8080/"
    },
    "id": "i3aqZjvIyPEu",
    "outputId": "4e32a3b4-8096-41ed-9f26-dcd14a56a365"
   },
   "outputs": [
    {
     "name": "stdout",
     "output_type": "stream",
     "text": [
      "5\n",
      "a\n",
      "b\n",
      "c\n",
      "d\n",
      "e\n"
     ]
    }
   ],
   "source": [
    "# While Loop\n",
    "# a = 1\n",
    "# while a<10:\n",
    "#     a += 1\n",
    "#     print(a, a**2)\n",
    "\n",
    "\n",
    "# For Loop (in list, range, string)\n",
    "# for i in range(15): \n",
    "#     print(i,i**2)\n",
    "\n",
    "# nums = [0,1,2,3]\n",
    "# for i in nums:\n",
    "#     print(i)\n",
    "    \n",
    "fr = 'abcde'\n",
    "# for i in fr:\n",
    "#     print(i)\n",
    " \n",
    "string_length = len(fr)\n",
    "print(string_length)\n",
    "\n",
    "for i in range(5):\n",
    "    print(fr[i])\n",
    "    "
   ]
  },
  {
   "cell_type": "code",
   "execution_count": 94,
   "metadata": {
    "colab": {
     "base_uri": "https://localhost:8080/"
    },
    "id": "_isXD8hUzKBH",
    "outputId": "1e168ca9-2ec0-4b86-9f8b-876db4d04329"
   },
   "outputs": [
    {
     "name": "stdout",
     "output_type": "stream",
     "text": [
      "1 cat\n",
      "2 dog\n",
      "3 monkey\n"
     ]
    }
   ],
   "source": [
    "# enumerate()\n",
    "# animals = ['cat', 'dog', 'monkey']\n",
    "# for idx, letter in enumerate(animals):\n",
    "#     print(idx, letter)\n",
    "    \n",
    "    \n",
    "# looping over dictionaries: key, value pairs, We always access the dictionarie values using their key\n",
    "animals = {1:'cat', 2:'dog', 3:'monkey'}\n",
    "for key, value in animals.items():\n",
    "    print(key, value)"
   ]
  },
  {
   "cell_type": "markdown",
   "metadata": {
    "id": "SoYHdbPCzlfD"
   },
   "source": [
    "### Functions"
   ]
  },
  {
   "cell_type": "code",
   "execution_count": 99,
   "metadata": {
    "colab": {
     "base_uri": "https://localhost:8080/"
    },
    "id": "C5DA0tlo0PEP",
    "outputId": "c6075697-70df-4fec-9697-4473e6e23fc3"
   },
   "outputs": [],
   "source": [
    "#define a func, pass keyword\n",
    "def sum():\n",
    "      pass"
   ]
  },
  {
   "cell_type": "code",
   "execution_count": 100,
   "metadata": {
    "colab": {
     "base_uri": "https://localhost:8080/"
    },
    "id": "5yC_Io40z5wJ",
    "outputId": "33ce6ed3-ca02-4e51-db01-b96cf92d012c"
   },
   "outputs": [
    {
     "name": "stdout",
     "output_type": "stream",
     "text": [
      "-1 negative\n",
      "0 Zero\n",
      "1 positive\n"
     ]
    }
   ],
   "source": [
    "#arguments\n",
    "def sign(x): #x= 1\n",
    "    if x>0:\n",
    "        return 'positive'\n",
    "    elif x<0:\n",
    "        return 'negative'\n",
    "    else:\n",
    "        return 'Zero'\n",
    "\n",
    "for x in [-1,0,1]:\n",
    "    print(x, sign(x))"
   ]
  },
  {
   "cell_type": "code",
   "execution_count": 101,
   "metadata": {
    "colab": {
     "base_uri": "https://localhost:8080/"
    },
    "id": "tB9Ba92Gzoli",
    "outputId": "46bf2e2b-95f9-45e8-ddc5-d1f4a55072ab"
   },
   "outputs": [
    {
     "name": "stdout",
     "output_type": "stream",
     "text": [
      "0 0\n",
      "1 1\n",
      "4 8\n",
      "9 27\n",
      "16 64\n"
     ]
    }
   ],
   "source": [
    "def my_function(x):\n",
    "  return x**2\n",
    "\n",
    "# For such simple functions one may use lambdas:\n",
    "my_lambda_function = lambda x: x**3\n",
    "\n",
    "for i in range(5):# i = 0,1,2,3,4\n",
    "  print(my_function(i), my_lambda_function(i))"
   ]
  },
  {
   "cell_type": "code",
   "execution_count": 102,
   "metadata": {
    "colab": {
     "base_uri": "https://localhost:8080/"
    },
    "id": "QvsxW4ZF6Kna",
    "outputId": "c6fd7914-411f-45dd-8fe1-98dc68c4d8f3"
   },
   "outputs": [
    {
     "name": "stdout",
     "output_type": "stream",
     "text": [
      "Hello, Bob!\n",
      "HELLO, FRED\n"
     ]
    }
   ],
   "source": [
    "def hello(name, loud=False):\n",
    "    if loud: # this means if loud == True\n",
    "        print('HELLO, {}'.format(name.upper()))\n",
    "    else:\n",
    "        print('Hello, {}!'.format(name,loud))\n",
    "        \n",
    "hello('Bob') # Bob False\n",
    "hello('Fred', loud=True) #FRED True"
   ]
  },
  {
   "cell_type": "markdown",
   "metadata": {},
   "source": [
    "# Numpy"
   ]
  },
  {
   "cell_type": "code",
   "execution_count": 104,
   "metadata": {},
   "outputs": [],
   "source": [
    "#to import a package\n",
    "import numpy as np\n",
    "#import numpy "
   ]
  },
  {
   "cell_type": "markdown",
   "metadata": {},
   "source": [
    "1d Array"
   ]
  },
  {
   "cell_type": "code",
   "execution_count": 111,
   "metadata": {},
   "outputs": [
    {
     "name": "stdout",
     "output_type": "stream",
     "text": [
      "Empty array is =  []\n",
      "Empty array= []\n",
      "Printing an array =  [1 2 3 4 5]\n",
      "Element at index 3 is =  4\n",
      "2\n",
      "Type of array is =  <class 'numpy.ndarray'>\n",
      "Shape of array is =  (5,)\n",
      "(0,)\n",
      "After changing an element, array look like  [ 1  2 10  4  5]\n",
      "After splitting array in 2 parts [array([ 1,  2, 10]), array([4, 5])]\n",
      "[array([1, 2]), array([10,  4]), array([5])]\n"
     ]
    }
   ],
   "source": [
    "#Declare an empty array\n",
    "arr1=np.array([]) #OR arr1=np.array(())\n",
    "print(\"Empty array is = \",arr1)\n",
    "a1=np.array(())\n",
    "print(\"Empty array=\",a1)\n",
    "\n",
    "arr2=np.array([1,2,3,4,5])\n",
    "print(\"Printing an array = \",arr2)\n",
    "\n",
    "# #to print the element at given index\n",
    "print(\"Element at index 3 is = \",arr2[3]) #4\n",
    "print(arr2[1]) #2\n",
    "\n",
    "# #to print type of array\n",
    "print(\"Type of array is = \",type(arr2))\n",
    "\n",
    "# #to print shape (or dimensions) of array\n",
    "print(\"Shape of array is = \",arr2.shape)\n",
    "print(a1.shape)\n",
    "\n",
    "# #to change an element of an array\n",
    "arr2[2]=10\n",
    "print(\"After changing an element, array look like \",arr2)\n",
    "\n",
    "# #to split an array\n",
    "print(\"After splitting array in 2 parts\",np.array_split(arr2, 2))\n",
    "print(np.array_split(arr2,3))"
   ]
  },
  {
   "cell_type": "markdown",
   "metadata": {},
   "source": [
    "2d array"
   ]
  },
  {
   "cell_type": "code",
   "execution_count": 115,
   "metadata": {},
   "outputs": [
    {
     "name": "stdout",
     "output_type": "stream",
     "text": [
      "Printing 2-D array\n",
      "[[1 2 3 4]\n",
      " [5 6 7 8]]\n",
      "Shape of array is =  (2, 4)\n",
      "Element at given index is =  3\n"
     ]
    }
   ],
   "source": [
    "#to create a 2-D array\n",
    "arr3=np.array([[1,2,3,4],[5,6,7,8]])\n",
    "\n",
    "\n",
    "#arr3=np.array([1,2,3],[4,5,6]) #this is wrong, it will throw an error\n",
    "\n",
    "print(\"Printing 2-D array\")\n",
    "print(arr3)\n",
    "\n",
    "#to print shape of an array\n",
    "print(\"Shape of array is = \",arr3.shape)\n",
    "\n",
    "#to print element at given index\n",
    "print(\"Element at given index is = \",arr3[0][2])"
   ]
  },
  {
   "cell_type": "markdown",
   "metadata": {},
   "source": [
    "Various functions to create array"
   ]
  },
  {
   "cell_type": "code",
   "execution_count": 116,
   "metadata": {},
   "outputs": [
    {
     "name": "stdout",
     "output_type": "stream",
     "text": [
      "[[0. 0.]\n",
      " [0. 0.]\n",
      " [0. 0.]]\n"
     ]
    }
   ],
   "source": [
    "#Create an array of all zeros\n",
    "arr4=np.zeros((3,2))\n",
    "print(arr4)"
   ]
  },
  {
   "cell_type": "code",
   "execution_count": 118,
   "metadata": {},
   "outputs": [
    {
     "name": "stdout",
     "output_type": "stream",
     "text": [
      "[[1. 1.]\n",
      " [1. 1.]\n",
      " [1. 1.]\n",
      " [1. 1.]]\n"
     ]
    }
   ],
   "source": [
    "#Create an array of all ones\n",
    "arr5=np.ones((4,2))\n",
    "print(arr5)"
   ]
  },
  {
   "cell_type": "code",
   "execution_count": 120,
   "metadata": {},
   "outputs": [
    {
     "name": "stdout",
     "output_type": "stream",
     "text": [
      "[[10 10 10 10 10]\n",
      " [10 10 10 10 10]\n",
      " [10 10 10 10 10]\n",
      " [10 10 10 10 10]]\n"
     ]
    }
   ],
   "source": [
    "#Create a constant array\n",
    "arr6=np.full((4,5),10)\n",
    "print(arr6)"
   ]
  },
  {
   "cell_type": "code",
   "execution_count": 122,
   "metadata": {},
   "outputs": [
    {
     "name": "stdout",
     "output_type": "stream",
     "text": [
      "[[1. 0. 0. 0. 0. 0.]\n",
      " [0. 1. 0. 0. 0. 0.]\n",
      " [0. 0. 1. 0. 0. 0.]\n",
      " [0. 0. 0. 1. 0. 0.]\n",
      " [0. 0. 0. 0. 1. 0.]\n",
      " [0. 0. 0. 0. 0. 1.]]\n"
     ]
    }
   ],
   "source": [
    "#Create n*n Identity matrix\n",
    "'''\n",
    "2*2 Identity matrix\n",
    "1 0\n",
    "0 1\n",
    "'''\n",
    "arr7=np.eye(6)\n",
    "print(arr7)"
   ]
  },
  {
   "cell_type": "code",
   "execution_count": 124,
   "metadata": {},
   "outputs": [
    {
     "name": "stdout",
     "output_type": "stream",
     "text": [
      "[[0.83291293 0.19655615]]\n",
      "[[108 238 168 112]\n",
      " [173 205 157 105]\n",
      " [223 116 214 124]\n",
      " [150 135 121 113]\n",
      " [226 141 147 239]]\n"
     ]
    }
   ],
   "source": [
    "#Create an array filled with random values\n",
    "arr8=np.random.random((1,2))\n",
    "print(arr8)\n",
    "arr9 = np.random.randint(100,250, size=(5,4))\n",
    "print(arr9)"
   ]
  },
  {
   "cell_type": "markdown",
   "metadata": {},
   "source": [
    "Array Slicing"
   ]
  },
  {
   "cell_type": "code",
   "execution_count": 125,
   "metadata": {},
   "outputs": [
    {
     "name": "stdout",
     "output_type": "stream",
     "text": [
      "[[ 1  2  3  4  5]\n",
      " [ 6  7  8  9 10]\n",
      " [11 12 13 14 15]]\n"
     ]
    }
   ],
   "source": [
    "#Example\n",
    "arr9=np.array([[1,2,3,4,5],[6,7,8,9,10],[11,12,13,14,15]])\n",
    "print(arr9)"
   ]
  },
  {
   "cell_type": "code",
   "execution_count": 126,
   "metadata": {},
   "outputs": [
    {
     "name": "stdout",
     "output_type": "stream",
     "text": [
      "[[ 7  8  9]\n",
      " [12 13 14]]\n"
     ]
    }
   ],
   "source": [
    "'''\n",
    "Suppose we want to print the following subarray from above array -\n",
    "[[ 7  8  9]\n",
    " [12 13 14]]\n",
    "''' \n",
    "print(arr9[1:3,1:4])\n",
    "#print(arr9[0:2,2:4])"
   ]
  },
  {
   "cell_type": "markdown",
   "metadata": {},
   "source": [
    "Array Modification"
   ]
  },
  {
   "cell_type": "code",
   "execution_count": 127,
   "metadata": {},
   "outputs": [
    {
     "name": "stdout",
     "output_type": "stream",
     "text": [
      "[[ 1  2  3  4  5]\n",
      " [ 6  7 20  9 10]\n",
      " [11 12 13 14 15]]\n"
     ]
    }
   ],
   "source": [
    "#to modify an element in an array\n",
    "arr9[1][2]=20\n",
    "print(arr9)"
   ]
  },
  {
   "cell_type": "markdown",
   "metadata": {},
   "source": [
    "Changing the dimensions"
   ]
  },
  {
   "cell_type": "code",
   "execution_count": 128,
   "metadata": {},
   "outputs": [
    {
     "name": "stdout",
     "output_type": "stream",
     "text": [
      "Before reshaping -\n",
      "[ 1  2  3  4  5  6  7  8  9 10 11 12]\n",
      "After reshaping -\n",
      "[[ 1  2  3  4]\n",
      " [ 5  6  7  8]\n",
      " [ 9 10 11 12]]\n"
     ]
    }
   ],
   "source": [
    "#to reshape an array\n",
    "arr10=np.array([1,2,3,4,5,6,7,8,9,10,11,12])\n",
    "print(\"Before reshaping -\")\n",
    "print(arr10)\n",
    "arr11=np.reshape(arr10,(3,4))\n",
    "print(\"After reshaping -\")\n",
    "print(arr11)"
   ]
  },
  {
   "cell_type": "markdown",
   "metadata": {},
   "source": [
    "Matrices"
   ]
  },
  {
   "cell_type": "code",
   "execution_count": 129,
   "metadata": {},
   "outputs": [
    {
     "name": "stdout",
     "output_type": "stream",
     "text": [
      "[[1 2 3]\n",
      " [4 5 6]\n",
      " [7 8 9]]\n"
     ]
    }
   ],
   "source": [
    "#to create a matrix\n",
    "mat1=np.matrix([[1,2,3],[4,5,6],[7,8,9]])\n",
    "print(mat1)"
   ]
  },
  {
   "cell_type": "code",
   "execution_count": 130,
   "metadata": {},
   "outputs": [
    {
     "name": "stdout",
     "output_type": "stream",
     "text": [
      "[1 5 9]\n"
     ]
    }
   ],
   "source": [
    "#to print diagonal of a matrix\n",
    "print(np.diagonal(mat1))"
   ]
  },
  {
   "cell_type": "code",
   "execution_count": 131,
   "metadata": {},
   "outputs": [
    {
     "name": "stdout",
     "output_type": "stream",
     "text": [
      "Addition - \n",
      "[[ 5  7  9]\n",
      " [11 13 15]\n",
      " [ 8 10 12]]\n",
      "Subtraction - \n",
      "[[-3 -3 -3]\n",
      " [-3 -3 -3]\n",
      " [ 6  6  6]]\n",
      "Multiplication - \n",
      "[[ 4 10 18]\n",
      " [28 40 54]\n",
      " [ 7 16 27]]\n",
      "Division -\n",
      "[[0.25       0.4        0.5       ]\n",
      " [0.57142857 0.625      0.66666667]\n",
      " [7.         4.         3.        ]]\n"
     ]
    }
   ],
   "source": [
    "mat2=np.matrix([[4,5,6],[7,8,9],[1,2,3]])\n",
    "'''\n",
    "A=\n",
    "a b\n",
    "c d\n",
    "\n",
    "B=\n",
    "e f\n",
    "g h\n",
    "\n",
    "A+B=\n",
    "a+e b+f\n",
    "c+g d+h\n",
    "'''\n",
    "\n",
    "#Element-wise addition\n",
    "print(\"Addition - \")\n",
    "print(np.add(mat1,mat2))\n",
    "\n",
    "#Element-wise Subtraction\n",
    "print(\"Subtraction - \")\n",
    "print(np.subtract(mat1,mat2))\n",
    "\n",
    "#Element-wise multiplication\n",
    "print(\"Multiplication - \")\n",
    "print(np.multiply(mat1,mat2))\n",
    "\n",
    "#Element-wise division\n",
    "print(\"Division -\")\n",
    "print(np.divide(mat1,mat2))"
   ]
  },
  {
   "cell_type": "code",
   "execution_count": 132,
   "metadata": {},
   "outputs": [
    {
     "name": "stdout",
     "output_type": "stream",
     "text": [
      "[[ 21  27  33]\n",
      " [ 57  72  87]\n",
      " [ 93 117 141]]\n",
      "[[ 21  27  33]\n",
      " [ 57  72  87]\n",
      " [ 93 117 141]]\n"
     ]
    }
   ],
   "source": [
    "#Matrix Multiplication or Dot Product\n",
    "print(mat1*mat2)\n",
    "\n",
    "#Second Approach\n",
    "print(np.dot(mat1,mat2))"
   ]
  },
  {
   "cell_type": "markdown",
   "metadata": {},
   "source": [
    "In Matrix when we use * we get dot product but when we use * on np arrays we get element wise multiplication"
   ]
  },
  {
   "cell_type": "code",
   "execution_count": 133,
   "metadata": {},
   "outputs": [
    {
     "name": "stdout",
     "output_type": "stream",
     "text": [
      "[[ 4 10 18]\n",
      " [28 40 54]\n",
      " [ 7 16 27]]\n",
      "[[ 21  27  33]\n",
      " [ 57  72  87]\n",
      " [ 93 117 141]]\n"
     ]
    }
   ],
   "source": [
    "a1=np.array([[1,2,3],[4,5,6],[7,8,9]])\n",
    "a2=np.array([[4,5,6],[7,8,9],[1,2,3]])\n",
    "print(a1*a2)\n",
    "print(np.dot(a1,a2))"
   ]
  },
  {
   "cell_type": "code",
   "execution_count": null,
   "metadata": {},
   "outputs": [],
   "source": []
  }
 ],
 "metadata": {
  "colab": {
   "name": "Inroduction to Python.ipynb",
   "provenance": []
  },
  "kernelspec": {
   "display_name": "Python 3 (ipykernel)",
   "language": "python",
   "name": "python3"
  },
  "language_info": {
   "codemirror_mode": {
    "name": "ipython",
    "version": 3
   },
   "file_extension": ".py",
   "mimetype": "text/x-python",
   "name": "python",
   "nbconvert_exporter": "python",
   "pygments_lexer": "ipython3",
   "version": "3.9.7"
  }
 },
 "nbformat": 4,
 "nbformat_minor": 1
}
