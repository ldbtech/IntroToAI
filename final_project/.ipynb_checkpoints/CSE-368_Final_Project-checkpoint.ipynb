{
 "cells": [
  {
   "cell_type": "code",
   "execution_count": 2,
   "id": "416b37bc",
   "metadata": {},
   "outputs": [
    {
     "data": {
      "text/plain": [
       "'\\nCategory:\\n    . Reiforcement Learning\\n    . Supervised Learning\\n    . Generative Models\\n    . RNN, CNN\\nIDEAS IN Artificial Intelligence related to Image Recog:\\n    .\\n'"
      ]
     },
     "execution_count": 2,
     "metadata": {},
     "output_type": "execute_result"
    }
   ],
   "source": [
    "\"\"\"\n",
    "Category:\n",
    "    . Reiforcement Learning\n",
    "    . Supervised Learning\n",
    "    . Generative Models\n",
    "    . RNN, CNN\n",
    "IDEAS IN Artificial Intelligence related to Image Recog:\n",
    "    . \n",
    "\"\"\""
   ]
  },
  {
   "cell_type": "code",
   "execution_count": null,
   "id": "6650695c",
   "metadata": {},
   "outputs": [],
   "source": []
  }
 ],
 "metadata": {
  "kernelspec": {
   "display_name": "Python 3 (ipykernel)",
   "language": "python",
   "name": "python3"
  },
  "language_info": {
   "codemirror_mode": {
    "name": "ipython",
    "version": 3
   },
   "file_extension": ".py",
   "mimetype": "text/x-python",
   "name": "python",
   "nbconvert_exporter": "python",
   "pygments_lexer": "ipython3",
   "version": "3.9.7"
  }
 },
 "nbformat": 4,
 "nbformat_minor": 5
}
