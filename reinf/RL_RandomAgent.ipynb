{
 "cells": [
  {
   "cell_type": "markdown",
   "id": "ae404b5d",
   "metadata": {},
   "source": [
    "Libraries required: gym, numpy, matplotlib"
   ]
  },
  {
   "cell_type": "code",
   "execution_count": 1,
   "id": "6492c1b7",
   "metadata": {},
   "outputs": [
    {
     "name": "stdout",
     "output_type": "stream",
     "text": [
      "Requirement already satisfied: gym in /opt/miniconda3/lib/python3.9/site-packages (0.24.1)\r\n",
      "Requirement already satisfied: numpy>=1.18.0 in /opt/miniconda3/lib/python3.9/site-packages (from gym) (1.21.4)\r\n",
      "Requirement already satisfied: gym-notices>=0.0.4 in /opt/miniconda3/lib/python3.9/site-packages (from gym) (0.0.7)\r\n",
      "Requirement already satisfied: cloudpickle>=1.2.0 in /opt/miniconda3/lib/python3.9/site-packages (from gym) (2.1.0)\r\n",
      "Requirement already satisfied: importlib-metadata>=4.8.0 in /opt/miniconda3/lib/python3.9/site-packages (from gym) (4.11.4)\r\n",
      "Requirement already satisfied: zipp>=0.5 in /opt/miniconda3/lib/python3.9/site-packages (from importlib-metadata>=4.8.0->gym) (3.8.0)\r\n"
     ]
    }
   ],
   "source": [
    "!pip install gym"
   ]
  },
  {
   "cell_type": "code",
   "execution_count": 2,
   "id": "a294edd1",
   "metadata": {},
   "outputs": [],
   "source": [
    "import numpy as np\n",
    "import gym\n",
    "from gym import spaces\n",
    "import matplotlib.pyplot as plt\n",
    "import random\n",
    "import time"
   ]
  },
  {
   "cell_type": "code",
   "execution_count": 4,
   "id": "098f6ddb",
   "metadata": {},
   "outputs": [
    {
     "name": "stdout",
     "output_type": "stream",
     "text": [
      "[[0. 0. 0.]\n",
      " [0. 0. 0.]\n",
      " [0. 0. 0.]]\n"
     ]
    }
   ],
   "source": [
    "grid = np.zeros((3,3)) #this is how you define a 3x3 grid\n",
    "print(grid)"
   ]
  },
  {
   "cell_type": "code",
   "execution_count": 5,
   "id": "3a6a987b",
   "metadata": {},
   "outputs": [
    {
     "data": {
      "text/plain": [
       "<matplotlib.image.AxesImage at 0x7fc14802ccd0>"
      ]
     },
     "execution_count": 5,
     "metadata": {},
     "output_type": "execute_result"
    },
    {
     "data": {
      "image/png": "[encoded data removed]",
      "text/plain": [
       "<Figure size 432x288 with 1 Axes>"
      ]
     },
     "metadata": {
      "needs_background": "light"
     },
     "output_type": "display_data"
    }
   ],
   "source": [
    "pos1 = [0,0] #start position of our agent\n",
    "pos2 = [2,2] #goal position of our agent\n",
    "grid[tuple(pos1)] = 0.8\n",
    "grid[tuple(pos2)] = 0.6\n",
    "\n",
    "plt.imshow(grid)"
   ]
  },
  {
   "cell_type": "code",
   "execution_count": 6,
   "id": "e6c0b562",
   "metadata": {},
   "outputs": [],
   "source": [
    "class GridEnvironment(gym.Env):\n",
    "    \n",
    "    def __init__(self):\n",
    "        self.observation_space = spaces.Discrete(9)\n",
    "        self.action_space = spaces.Discrete(4) #up, down, right, left\n",
    "        self.max_timesteps = 5\n",
    "        \n",
    "    def reset(self):\n",
    "        self.timestep = 0\n",
    "        self.agent_pos = [0,0]\n",
    "        self.goal_pos = [2,2]\n",
    "        self.state = np.zeros((3,3))\n",
    "        self.state[tuple(self.agent_pos)] = 1\n",
    "        self.state[tuple(self.goal_pos)] = 0.5\n",
    "        observation = self.state.flatten()\n",
    "        return observation\n",
    "    \n",
    "    def step(self, action):\n",
    "        if action ==0: #down\n",
    "            self.agent_pos[0] +=1  #[0,1]->[1,1]\n",
    "        if action ==1: #up\n",
    "            self.agent_pos[0] -=1  #[1,1]->[0,1]\n",
    "        if action ==2: #right\n",
    "            self.agent_pos[1] +=1\n",
    "        if action ==3: #left\n",
    "            self.agent_pos[1] -=1    \n",
    "        \n",
    "        self.agent_pos = np.clip(self.agent_pos, 0, 2) #used to prevent agent from going out of the grid\n",
    "        self.state = np.zeros((3,3))\n",
    "        self.state[tuple(self.agent_pos)] = 1\n",
    "        self.state[tuple(self.goal_pos)] = 0.5\n",
    "        observation = self.state.flatten()\n",
    "        \n",
    "        reward = 0\n",
    "        if (self.agent_pos == self.goal_pos).all():\n",
    "            reward = 1\n",
    "        \n",
    "        self.timestep += 1\n",
    "        done = True if self.timestep>= self.max_timesteps else False\n",
    "        info = {}\n",
    "        \n",
    "        return observation, reward, done, info\n",
    "    \n",
    "    \n",
    "    def render(self):\n",
    "        plt.imshow(self.state)"
   ]
  },
  {
   "cell_type": "code",
   "execution_count": 7,
   "id": "a93b72e2",
   "metadata": {},
   "outputs": [
    {
     "data": {
      "image/png": "[encoded data removed]",
      "text/plain": [
       "<Figure size 432x288 with 1 Axes>"
      ]
     },
     "metadata": {
      "needs_background": "light"
     },
     "output_type": "display_data"
    }
   ],
   "source": [
    "env = GridEnvironment()\n",
    "obs = env.reset()\n",
    "env.render()"
   ]
  },
  {
   "cell_type": "code",
   "execution_count": 8,
   "id": "e5ab72e7",
   "metadata": {},
   "outputs": [
    {
     "data": {
      "image/png": "[encoded data removed]",
      "text/plain": [
       "<Figure size 432x288 with 1 Axes>"
      ]
     },
     "metadata": {
      "needs_background": "light"
     },
     "output_type": "display_data"
    }
   ],
   "source": [
    "action = 2\n",
    "observation, reward, done, info = env.step(action)\n",
    "env.render()"
   ]
  },
  {
   "cell_type": "code",
   "execution_count": 9,
   "id": "6ab287e2",
   "metadata": {},
   "outputs": [
    {
     "data": {
      "image/png": "[encoded data removed]",
      "text/plain": [
       "<Figure size 432x288 with 1 Axes>"
      ]
     },
     "metadata": {
      "needs_background": "light"
     },
     "output_type": "display_data"
    }
   ],
   "source": [
    "action = 0\n",
    "observation, reward, done, info = env.step(action)\n",
    "env.render()"
   ]
  },
  {
   "cell_type": "code",
   "execution_count": 10,
   "id": "9f57b311",
   "metadata": {},
   "outputs": [
    {
     "data": {
      "image/png": "[encoded data removed]",
      "text/plain": [
       "<Figure size 432x288 with 1 Axes>"
      ]
     },
     "metadata": {
      "needs_background": "light"
     },
     "output_type": "display_data"
    }
   ],
   "source": [
    "action = 2\n",
    "observation, reward, done, info = env.step(action)\n",
    "env.render()"
   ]
  },
  {
   "cell_type": "code",
   "execution_count": 11,
   "id": "eb4f78ee",
   "metadata": {},
   "outputs": [
    {
     "data": {
      "image/png": "[encoded data removed]",
      "text/plain": [
       "<Figure size 432x288 with 1 Axes>"
      ]
     },
     "metadata": {
      "needs_background": "light"
     },
     "output_type": "display_data"
    }
   ],
   "source": [
    "action = 2\n",
    "observation, reward, done, info = env.step(action)\n",
    "env.render()"
   ]
  },
  {
   "cell_type": "code",
   "execution_count": 12,
   "id": "dac898d9",
   "metadata": {},
   "outputs": [
    {
     "data": {
      "image/png": "[encoded data removed]",
      "text/plain": [
       "<Figure size 432x288 with 1 Axes>"
      ]
     },
     "metadata": {
      "needs_background": "light"
     },
     "output_type": "display_data"
    }
   ],
   "source": [
    "action = 0\n",
    "observation, reward, done, info = env.step(action)\n",
    "env.render()"
   ]
  },
  {
   "cell_type": "code",
   "execution_count": 13,
   "id": "593ca1ed",
   "metadata": {},
   "outputs": [
    {
     "name": "stdout",
     "output_type": "stream",
     "text": [
      "Reward: 1\n"
     ]
    }
   ],
   "source": [
    "print('Reward:', reward)"
   ]
  },
  {
   "cell_type": "code",
   "execution_count": 12,
   "id": "0e136358",
   "metadata": {},
   "outputs": [],
   "source": [
    "class RandomAgent:\n",
    "    '''Random Agent class that contains the contains the information of the agent that takes action randomly'''\n",
    "    def __init__(self, env):\n",
    "        self.env = env\n",
    "        self.observation_space = env.observation_space\n",
    "        self.action_space = env.action_space\n",
    "\n",
    "    def step(self, observation):\n",
    "        return np.random.choice(self.action_space.n)"
   ]
  },
  {
   "cell_type": "code",
   "execution_count": 13,
   "id": "9da1e358",
   "metadata": {},
   "outputs": [
    {
     "name": "stdout",
     "output_type": "stream",
     "text": [
      "Action 2\n",
      "Reward 0\n",
      "Done False\n",
      "Action 0\n",
      "Reward 0\n",
      "Done False\n",
      "Action 1\n",
      "Reward 0\n",
      "Done False\n",
      "Action 1\n",
      "Reward 0\n",
      "Done False\n",
      "Action 2\n",
      "Reward 0\n",
      "Done True\n"
     ]
    },
    {
     "data": {
      "image/png": "[encoded data removed]",
      "text/plain": [
       "<Figure size 432x288 with 1 Axes>"
      ]
     },
     "metadata": {
      "needs_background": "light"
     },
     "output_type": "display_data"
    }
   ],
   "source": [
    "# Random Agent\n",
    "# Create Environment\n",
    "env = GridEnvironment()\n",
    "\n",
    "# Create random agent\n",
    "agent = RandomAgent(env)\n",
    "obs = env.reset()\n",
    "done = False\n",
    "\n",
    "# Repeat steps of Agent till Episode ends\n",
    "# 0 - Right, 1 - Left, 2 - Up, 3 - Down\n",
    "while not done:\n",
    "    action = agent.step(obs)\n",
    "    obs, reward, done, _ = env.step(action)\n",
    "    \n",
    "    print('Action', action)\n",
    "    print('Reward', reward)\n",
    "    print('Done', done)\n",
    "    env.render()\n",
    "    time.sleep(1) "
   ]
  },
  {
   "cell_type": "markdown",
   "id": "994388ce",
   "metadata": {},
   "source": [
    "0 -> Down <br>\n",
    "1 -> Up <br>\n",
    "2 -> Right <br>\n",
    "3 -> Left"
   ]
  },
  {
   "cell_type": "code",
   "execution_count": null,
   "id": "48176c58",
   "metadata": {},
   "outputs": [],
   "source": []
  }
 ],
 "metadata": {
  "kernelspec": {
   "display_name": "Python 3 (ipykernel)",
   "language": "python",
   "name": "python3"
  },
  "language_info": {
   "codemirror_mode": {
    "name": "ipython",
    "version": 3
   },
   "file_extension": ".py",
   "mimetype": "text/x-python",
   "name": "python",
   "nbconvert_exporter": "python",
   "pygments_lexer": "ipython3",
   "version": "3.9.7"
  }
 },
 "nbformat": 4,
 "nbformat_minor": 5
}
