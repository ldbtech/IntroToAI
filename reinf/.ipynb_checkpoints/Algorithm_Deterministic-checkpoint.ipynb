{
 "cells": [
  {
   "cell_type": "code",
   "execution_count": 11,
   "metadata": {
    "colab": {
     "base_uri": "https://localhost:8080/"
    },
    "id": "NIXRkbxUTUy9",
    "outputId": "3f392268-94d4-476c-874e-965ba86c619c"
   },
   "outputs": [
    {
     "name": "stdout",
     "output_type": "stream",
     "text": [
      "Requirement already satisfied: gym in /opt/miniconda3/lib/python3.9/site-packages (0.24.1)\n",
      "Requirement already satisfied: importlib-metadata>=4.8.0 in /opt/miniconda3/lib/python3.9/site-packages (from gym) (4.11.4)\n",
      "Requirement already satisfied: cloudpickle>=1.2.0 in /opt/miniconda3/lib/python3.9/site-packages (from gym) (2.1.0)\n",
      "Requirement already satisfied: numpy>=1.18.0 in /opt/miniconda3/lib/python3.9/site-packages (from gym) (1.21.4)\n",
      "Requirement already satisfied: gym-notices>=0.0.4 in /opt/miniconda3/lib/python3.9/site-packages (from gym) (0.0.7)\n",
      "Requirement already satisfied: zipp>=0.5 in /opt/miniconda3/lib/python3.9/site-packages (from importlib-metadata>=4.8.0->gym) (3.8.0)\n"
     ]
    }
   ],
   "source": [
    "#I certify that the code and data in this assignment were generated independently, using only the tools and resources defined in the course and that I did not receive any external help, coaching or contributions during the production of this work\n",
    "!pip install gym"
   ]
  },
  {
   "cell_type": "code",
   "execution_count": 12,
   "metadata": {
    "id": "hh6gBXUGTX5y"
   },
   "outputs": [
    {
     "ename": "ModuleNotFoundError",
     "evalue": "No module named 'google.colab'",
     "output_type": "error",
     "traceback": [
      "\u001b[0;31m---------------------------------------------------------------------------\u001b[0m",
      "\u001b[0;31mModuleNotFoundError\u001b[0m                       Traceback (most recent call last)",
      "Input \u001b[0;32mIn [12]\u001b[0m, in \u001b[0;36m<cell line: 5>\u001b[0;34m()\u001b[0m\n\u001b[1;32m      3\u001b[0m \u001b[38;5;28;01mimport\u001b[39;00m \u001b[38;5;21;01mgym\u001b[39;00m\n\u001b[1;32m      4\u001b[0m \u001b[38;5;28;01mfrom\u001b[39;00m \u001b[38;5;21;01mgym\u001b[39;00m \u001b[38;5;28;01mimport\u001b[39;00m spaces\n\u001b[0;32m----> 5\u001b[0m \u001b[38;5;28;01mfrom\u001b[39;00m \u001b[38;5;21;01mgoogle\u001b[39;00m\u001b[38;5;21;01m.\u001b[39;00m\u001b[38;5;21;01mcolab\u001b[39;00m \u001b[38;5;28;01mimport\u001b[39;00m widgets\n\u001b[1;32m      6\u001b[0m \u001b[38;5;28;01mimport\u001b[39;00m \u001b[38;5;21;01mtime\u001b[39;00m\n",
      "\u001b[0;31mModuleNotFoundError\u001b[0m: No module named 'google.colab'"
     ]
    }
   ],
   "source": [
    "import numpy as np\n",
    "import matplotlib.pyplot as plt\n",
    "import gym\n",
    "from gym import spaces\n",
    "from google.colab import widgets\n",
    "import time"
   ]
  },
  {
   "cell_type": "code",
   "execution_count": 4,
   "metadata": {
    "id": "tByX1mONTaSz"
   },
   "outputs": [],
   "source": [
    "class DeterGridEnvironment(gym.Env):            #Deterministic enviroment\n",
    "    metadata = { 'render.modes': [] }\n",
    "    \n",
    "    def __init__(self):\n",
    "        self.observation_space = spaces.Discrete(16)  #12\n",
    "        self.action_space = spaces.Discrete(4)   #4\n",
    "        self.max_timesteps = 25   #10\n",
    "\n",
    "    def reset(self):\n",
    "        self.timestep = 0\n",
    "        self.reward=0\n",
    "        self.agent_pos = [0, 0]\n",
    "        self.goal_pos = [3, 3]\n",
    "        self.r1=[0,2]\n",
    "        self.r2=[1,1]\n",
    "        self.r3=[1,3]\n",
    "        self.r4=[3,0]\n",
    "        self.state = np.zeros((4,4))\n",
    "        self.state[tuple(self.agent_pos)] = 1\n",
    "        self.state[tuple(self.goal_pos)] = 0.75\n",
    "        self.state[tuple(self.r1)] = 0.5\n",
    "        self.state[tuple(self.r2)] = 0.25\n",
    "        self.state[tuple(self.r3)] = 0.5\n",
    "        self.state[tuple(self.r4)] = 0.5\n",
    "        observation = self.state.flatten()\n",
    "        \n",
    "        \n",
    "        \"\"\"\n",
    "    self.env.agent_pos=[0,0]\n",
    "    self.env.timestep=0\n",
    "    self.done1=False\n",
    "    self.action=0\n",
    "    self.state=0\n",
    "    self.reward=0   \n",
    "    self.stepno=0\n",
    "    self.rewardsum=0\n",
    "        \"\"\"\n",
    "        return observation\n",
    "    \n",
    "    def step(self, action):\n",
    "        self.state = np.random.choice(self.observation_space.n)\n",
    "        if action == 0:  #Down\n",
    "          self.agent_pos[0] += 1\n",
    "        if action == 1:  #Up\n",
    "          self.agent_pos[0] -= 1\n",
    "        if action == 2:  #Right\n",
    "          self.agent_pos[1] += 1\n",
    "        if action == 3:  #Left\n",
    "          self.agent_pos[1] -= 1\n",
    "          \n",
    "        self.agent_pos = np.clip(self.agent_pos, 0, 3)\n",
    "        self.state = np.zeros((4,4))\n",
    "        self.state[tuple(self.agent_pos)] = 1\n",
    "        self.state[tuple(self.goal_pos)] = 0.75\n",
    "        self.state[tuple(self.r1)] = 0.5\n",
    "        self.state[tuple(self.r2)] = 0.25\n",
    "        self.state[tuple(self.r3)] = 0.5\n",
    "        self.state[tuple(self.r4)] = 0.5\n",
    "        observation = self.state.flatten()\n",
    "        \n",
    "        \n",
    "        if (self.agent_pos == self.goal_pos).all():\n",
    "          self.reward += 100\n",
    "          print('Goal Reached: +100')\n",
    "        elif (self.agent_pos == self.r1).all():\n",
    "          self.reward +=1\n",
    "          print('Got a gold: +1')\n",
    "        elif (self.agent_pos == self.r2).all():\n",
    "          self.reward -=2\n",
    "          print('Bandits: -2')\n",
    "        elif (self.agent_pos == self.r3).all():\n",
    "          self.reward +=1\n",
    "          print('Got a gold: +1')\n",
    "        elif (self.agent_pos == self.r4).all():\n",
    "          self.reward +=1\n",
    "          print('Got a gold: +1')   \n",
    "\n",
    "        \n",
    "        self.timestep += 1\n",
    "        if self.timestep >= self.max_timesteps:\n",
    "          done = True\n",
    "        elif (self.agent_pos == self.goal_pos).all():\n",
    "          done = True\n",
    "        else:\n",
    "          done = False \n",
    "        info = {}\n",
    "        \n",
    "        return observation, self.reward, done, info\n",
    "\n",
    "    def render(self):\n",
    "        plt.imshow(self.state)"
   ]
  },
  {
   "cell_type": "code",
   "execution_count": 5,
   "metadata": {
    "id": "P8j5dZ-FTdIX"
   },
   "outputs": [],
   "source": [
    "class RandomAgent:\n",
    "  def __init__(self, env):\n",
    "    self.env = env\n",
    "    self.observation_space = env.observation_space\n",
    "    self.action_space = env.action_space\n",
    "\n",
    "  def step(self, observation):\n",
    "    return np.random.choice(self.action_space.n)"
   ]
  },
  {
   "cell_type": "code",
   "execution_count": 6,
   "metadata": {
    "colab": {
     "base_uri": "https://localhost:8080/",
     "height": 342
    },
    "id": "776pvfCqTgty",
    "outputId": "35a5baf2-247b-4e60-90fb-908df1631f51"
   },
   "outputs": [
    {
     "ename": "NameError",
     "evalue": "name 'widgets' is not defined",
     "output_type": "error",
     "traceback": [
      "\u001b[0;31m---------------------------------------------------------------------------\u001b[0m",
      "\u001b[0;31mNameError\u001b[0m                                 Traceback (most recent call last)",
      "Input \u001b[0;32mIn [6]\u001b[0m, in \u001b[0;36m<cell line: 7>\u001b[0;34m()\u001b[0m\n\u001b[1;32m      4\u001b[0m obs \u001b[38;5;241m=\u001b[39m env\u001b[38;5;241m.\u001b[39mreset()\n\u001b[1;32m      5\u001b[0m done \u001b[38;5;241m=\u001b[39m \u001b[38;5;28;01mFalse\u001b[39;00m\n\u001b[0;32m----> 7\u001b[0m output_grid \u001b[38;5;241m=\u001b[39m \u001b[43mwidgets\u001b[49m\u001b[38;5;241m.\u001b[39mGrid(\u001b[38;5;241m1\u001b[39m, \u001b[38;5;241m1\u001b[39m)\n\u001b[1;32m      8\u001b[0m \u001b[38;5;28;01mwith\u001b[39;00m output_grid\u001b[38;5;241m.\u001b[39moutput_to(\u001b[38;5;241m0\u001b[39m, \u001b[38;5;241m0\u001b[39m):\n\u001b[1;32m      9\u001b[0m   env\u001b[38;5;241m.\u001b[39mrender()\n",
      "\u001b[0;31mNameError\u001b[0m: name 'widgets' is not defined"
     ]
    }
   ],
   "source": [
    "env = DeterGridEnvironment()\n",
    "agent = RandomAgent(env)\n",
    "\n",
    "obs = env.reset()\n",
    "done = False\n",
    "\n",
    "output_grid = widgets.Grid(1, 1)\n",
    "with output_grid.output_to(0, 0):\n",
    "  env.render()\n",
    "\n",
    "\n",
    "while not done:\n",
    "  action = agent.step(obs)\n",
    "  obs, reward, done, info = env.step(action)\n",
    "  with output_grid.output_to(0, 0):\n",
    "    output_grid.clear_cell()\n",
    "    env.render()\n",
    "  time.sleep(1)\n",
    "print('Total reward:', env.reward)"
   ]
  },
  {
   "cell_type": "code",
   "execution_count": 7,
   "metadata": {
    "id": "G9fLq5_dYup3"
   },
   "outputs": [],
   "source": [
    "class q_learning:\n",
    "\n",
    "  def __init__(self):\n",
    "    self.env = DeterGridEnvironment()\n",
    "    self.env.reset()\n",
    "    self.agent = RandomAgent(self.env)\n",
    "    self.q_values=np.zeros((16,4))\n",
    "    self.totalreward=[]\n",
    "    self.stepstaken=[]\n",
    "    self.epsilondecay=[]\n",
    "    self.epsilon=1\n",
    "    self.lr=0.2\n",
    "    self.df=0.9\n",
    "    self.decay=0.9954\n",
    "\n",
    "  def reset(self):\n",
    "    self.env.agent_pos=[0,0]\n",
    "    self.env.timestep=0\n",
    "    self.done1=False\n",
    "    self.action=0\n",
    "    self.state=0\n",
    "    self.reward=0   \n",
    "    self.stepno=0\n",
    "    self.rewardsum=0\n",
    "\n",
    "  def action1(self,state1,epsilon):\n",
    "    if np.random.rand()>epsilon:\n",
    "      return np.argmax(self.q_values[state1])\n",
    "    else:\n",
    "      return np.random.randint(4)\n",
    "  \n",
    "  def takeaction(self,action):\n",
    "    if action == 0:  #Down\n",
    "        self.env.agent_pos[0] += 1\n",
    "    elif action == 1:  #Up\n",
    "        self.env.agent_pos[0] -= 1\n",
    "    elif action == 2:  #Right\n",
    "        self.env.agent_pos[1] += 1\n",
    "    elif action == 3:  #Left\n",
    "        self.env.agent_pos[1] -= 1\n",
    "    self.env.agent_pos = np.clip(self.env.agent_pos, 0, 3)\n",
    "    \n",
    "    if (self.env.agent_pos == self.env.goal_pos).all():\n",
    "        self.reward = 100\n",
    "    elif (self.env.agent_pos == self.env.r1).all():\n",
    "        self.reward =1\n",
    "    elif (self.env.agent_pos == self.env.r2).all():\n",
    "        self.reward =-2 \n",
    "    elif (self.env.agent_pos == self.env.r3).all():\n",
    "        self.reward =1\n",
    "    elif (self.env.agent_pos == self.env.r4).all():\n",
    "        self.reward =1\n",
    "    else:\n",
    "        self.reward = 0\n",
    "\n",
    "    self.env.timestep+=1\n",
    "    self.stepno+=1\n",
    "\n",
    "    return(self.env.agent_pos,self.reward)\n",
    "  \n",
    "  def training(self):\n",
    "    for episode in range(1000):\n",
    "      self.reset()\n",
    "      while not self.done1:\n",
    "        self.q_values[15]=0\n",
    "        action=self.action1(self.state,self.epsilon)\n",
    "        \n",
    "        self.env.agent_pos, reward = self.takeaction(action)\n",
    "        newstate=4*self.env.agent_pos[0]+self.env.agent_pos[1]  #state update\n",
    "        \n",
    "        self.q_values[self.state,action]=self.q_values[self.state,action] + self.lr*(reward+self.df*np.max(self.q_values[newstate])-self.q_values[self.state,action])\n",
    "        self.state=newstate\n",
    "\n",
    "        self.rewardsum+=reward\n",
    "\n",
    "        \n",
    "        \n",
    "        if self.env.timestep >= self.env.max_timesteps:\n",
    "          self.done1 = True\n",
    "        elif (self.env.agent_pos == self.env.goal_pos).all():\n",
    "          self.done1 = True\n",
    "\n",
    "      self.stepstaken.append(self.stepno)\n",
    "      self.totalreward.append(self.rewardsum)\n",
    "      self.epsilondecay.append(self.epsilon)\n",
    "      self.epsilon*=self.decay\n",
    "  \n",
    "  def evaluation(self):\n",
    "    self.stepstaken=[]\n",
    "    self.totalreward=[]\n",
    "    for episode in range(10):\n",
    "      self.reset()\n",
    "      while not self.done1:\n",
    "        self.q_values[15]=0\n",
    "        action=self.action1(self.state,self.epsilon)\n",
    "        \n",
    "        self.env.agent_pos, reward = self.takeaction(action)\n",
    "        newstate=4*self.env.agent_pos[0]+self.env.agent_pos[1]  #state update\n",
    "        \n",
    "        self.q_values[self.state,action]=self.q_values[self.state,action] + self.lr*(reward+self.df*np.max(self.q_values[newstate])-self.q_values[self.state,action])\n",
    "        self.state=newstate\n",
    "\n",
    "        self.rewardsum+=reward\n",
    "\n",
    "        \n",
    "        \n",
    "        if self.env.timestep >= self.env.max_timesteps:\n",
    "          self.done1 = True\n",
    "        elif (self.env.agent_pos == self.env.goal_pos).all():\n",
    "          self.done1 = True\n",
    "\n",
    "      self.stepstaken.append(self.stepno)\n",
    "      self.totalreward.append(self.rewardsum)"
   ]
  },
  {
   "cell_type": "code",
   "execution_count": 8,
   "metadata": {
    "id": "e-GMRzGsug__"
   },
   "outputs": [],
   "source": [
    "class sarsa:\n",
    "\n",
    "  def __init__(self):\n",
    "    self.env = DeterGridEnvironment()\n",
    "    self.env.reset()\n",
    "    self.agent = RandomAgent(self.env)\n",
    "    self.q_values=np.zeros((16,4))\n",
    "    self.totalreward=[]\n",
    "    self.stepstaken=[]\n",
    "    self.epsilon=1\n",
    "    self.lr=0.2\n",
    "    self.df=0.9\n",
    "    self.decay=0.9954\n",
    "    self.epsilondecay=[]\n",
    "\n",
    "  def reset(self):\n",
    "    self.env.agent_pos=[0,0]\n",
    "    self.env.timestep=0\n",
    "    self.done1=False\n",
    "    self.action=0\n",
    "    self.state=0\n",
    "    self.reward=0   \n",
    "    self.stepno=0\n",
    "    self.rewardsum=0\n",
    "\n",
    "  def action1(self,state1,epsilon):\n",
    "    if np.random.rand()>epsilon:\n",
    "      return np.argmax(self.q_values[state1])\n",
    "    else:\n",
    "      return np.random.randint(4)\n",
    "  \n",
    "  def takeaction(self,action):\n",
    "    if action == 0:  #Down\n",
    "        self.env.agent_pos[0] += 1\n",
    "    elif action == 1:  #Up\n",
    "        self.env.agent_pos[0] -= 1\n",
    "    elif action == 2:  #Right\n",
    "        self.env.agent_pos[1] += 1\n",
    "    elif action == 3:  #Left\n",
    "        self.env.agent_pos[1] -= 1\n",
    "    self.env.agent_pos = np.clip(self.env.agent_pos, 0, 3)\n",
    "    \n",
    "    if (self.env.agent_pos == self.env.goal_pos).all():\n",
    "        self.reward = 100\n",
    "    elif (self.env.agent_pos == self.env.r1).all():\n",
    "        self.reward =1\n",
    "    elif (self.env.agent_pos == self.env.r2).all():\n",
    "        self.reward =-2 \n",
    "    elif (self.env.agent_pos == self.env.r3).all():\n",
    "        self.reward =1\n",
    "    elif (self.env.agent_pos == self.env.r4).all():\n",
    "        self.reward =1\n",
    "    else:\n",
    "        self.reward = 0\n",
    "\n",
    "    self.env.timestep+=1\n",
    "    self.stepno+=1\n",
    "\n",
    "    return(self.env.agent_pos,self.reward)\n",
    "  \n",
    "  def training(self):\n",
    "    for episode in range(1000):\n",
    "      self.reset()\n",
    "      action=self.action1(self.state,self.epsilon)\n",
    "      while not self.done1:\n",
    "        self.q_values[15]=0\n",
    "        \n",
    "        self.env.agent_pos, reward = self.takeaction(action)\n",
    "        newstate=4*self.env.agent_pos[0]+self.env.agent_pos[1]  #state update\n",
    "        \n",
    "        nextaction=self.action1(newstate,self.epsilon)\n",
    "        self.q_values[self.state,action]=self.q_values[self.state,action] + self.lr*(reward+self.df*self.q_values[newstate,nextaction]-self.q_values[self.state,action])\n",
    "        self.state=newstate\n",
    "        action=nextaction\n",
    "        self.rewardsum+=reward\n",
    "\n",
    "        if self.env.timestep >= self.env.max_timesteps:\n",
    "          self.done1 = True\n",
    "        elif (self.env.agent_pos == self.env.goal_pos).all():\n",
    "          self.done1 = True\n",
    "\n",
    "      self.stepstaken.append(self.stepno)\n",
    "      self.totalreward.append(self.rewardsum)\n",
    "      self.epsilondecay.append(self.epsilon)\n",
    "      self.epsilon*=self.decay\n",
    "\n",
    "  def evaluation(self):\n",
    "    self.stepstaken=[]\n",
    "    self.totalreward=[]\n",
    "    for episode in range(10):\n",
    "      self.reset()\n",
    "      action=self.action1(self.state,self.epsilon)\n",
    "      while not self.done1:\n",
    "        self.q_values[15]=0\n",
    "        \n",
    "        self.env.agent_pos, reward = self.takeaction(action)\n",
    "        newstate=4*self.env.agent_pos[0]+self.env.agent_pos[1]  #state update\n",
    "        \n",
    "        nextaction=self.action1(newstate,self.epsilon)\n",
    "        self.q_values[self.state,action]=self.q_values[self.state,action] + self.lr*(reward+self.df*self.q_values[newstate,nextaction]-self.q_values[self.state,action])\n",
    "        self.state=newstate\n",
    "        action=nextaction\n",
    "        self.rewardsum+=reward\n",
    "\n",
    "        if self.env.timestep >= self.env.max_timesteps:\n",
    "          self.done1 = True\n",
    "        elif (self.env.agent_pos == self.env.goal_pos).all():\n",
    "          self.done1 = True\n",
    "      self.stepstaken.append(self.stepno)\n",
    "      self.totalreward.append(self.rewardsum) \n"
   ]
  },
  {
   "cell_type": "code",
   "execution_count": 9,
   "metadata": {
    "id": "ASMDs19vjhG1"
   },
   "outputs": [],
   "source": [
    "def QLimplemetation():\n",
    "    print('Implementing Q learning:\\n')\n",
    "    table1=q_learning()\n",
    "    table1.training()\n",
    "    print('Q table values after training:')\n",
    "    print(table1.q_values)\n",
    "\n",
    "    plot1 = plt.figure(1)\n",
    "    plt.xlabel('Episodes')\n",
    "    plt.title('Q learning results after training for deterministic environment')\n",
    "    plt.plot(table1.totalreward)\n",
    "    plt.plot(table1.stepstaken)\n",
    "    plt.legend(['Reward per episode','Steps per episode'],loc='best')\n",
    "\n",
    "    plot2 = plt.figure(2)\n",
    "    plt.plot(table1.epsilondecay)\n",
    "    plt.xlabel('Episodes')\n",
    "    plt.ylabel('Epsilon')\n",
    "    \n",
    "    print('Q table values after evaluation:')\n",
    "    table1.evaluation()\n",
    "    print(table1.q_values)\n",
    "\n",
    "    plot3=plt.figure(3)\n",
    "    plt.xlabel('Episodes')\n",
    "    plt.title('Q learning results after evaluation for deterministic environment:')\n",
    "    plt.plot(table1.totalreward)\n",
    "    plt.plot(table1.stepstaken)\n",
    "    plt.legend(['Reward per episode','Steps per episode'],loc='best')\n",
    "    plt.show()\n",
    "\n",
    "def sarsaimplementation():\n",
    "  print('Implementing SARSA:\\n')\n",
    "  table2=sarsa()\n",
    "  table2.training()\n",
    "  print('Q table values after training:')\n",
    "  print(table2.q_values)\n",
    "\n",
    "  plot1=plt.figure(1)\n",
    "  plt.xlabel('Episodes')\n",
    "  plt.title('SARSA results after training for deterministic environment')\n",
    "  plt.plot(table2.totalreward)\n",
    "  plt.plot(table2.stepstaken)\n",
    "  plt.legend(['Reward per episode','Steps per episode'],loc='best')\n",
    "\n",
    "  plot2=plt.figure(2)\n",
    "  plt.plot(table2.epsilondecay)\n",
    "  plt.xlabel('Episodes')\n",
    "  plt.ylabel('Epsilon')\n",
    "\n",
    "  table2.evaluation()\n",
    "  print('Q values after evaluation:')\n",
    "  print(table2.q_values)\n",
    "\n",
    "  plot3=plt.figure(3)\n",
    "  plt.xlabel('Episodes')\n",
    "  plt.title('SARSA results after evaluation for deterministic environment:')\n",
    "  plt.plot(table2.totalreward)\n",
    "  plt.plot(table2.stepstaken)\n",
    "  plt.legend(['Reward per episode','Steps per episode'],loc='best')\n",
    "  plt.show()"
   ]
  },
  {
   "cell_type": "code",
   "execution_count": 10,
   "metadata": {
    "colab": {
     "base_uri": "https://localhost:8080/",
     "height": 1000
    },
    "id": "l4Zv-wB5h5dn",
    "outputId": "dd59335f-9094-4dcc-e1b2-8aac9958c2af"
   },
   "outputs": [
    {
     "name": "stdout",
     "output_type": "stream",
     "text": [
      "Implementing Q learning:\n",
      "\n",
      "Q table values after training:\n",
      "[[ 57.96754942  54.60894008  60.678       54.61015273]\n",
      " [ 64.4160372   60.67793116  67.42        54.60946999]\n",
      " [ 73.79992529  67.41893567  73.8         60.67720069]\n",
      " [ 82.          73.79947674  73.79987704  67.41986222]\n",
      " [ 38.39318239  50.39393157  64.41875207  53.06613285]\n",
      " [ 68.00787456  60.33872391  73.79999755  56.8225816 ]\n",
      " [ 80.3194895   66.80507072  82.          64.31149833]\n",
      " [ 90.          73.79998543  81.99996055  73.79999781]\n",
      " [ 53.81980574  24.59609921  29.27891942  27.77727504]\n",
      " [ 49.22775663  48.786852    80.07616523  22.07008999]\n",
      " [ 81.45755482  68.37775144  89.9999512   61.63908754]\n",
      " [100.          81.99766083  89.99948841  80.99262885]\n",
      " [ 22.83417416  17.43752504  69.26918014  35.91001487]\n",
      " [ 25.36213042  34.77757842  85.34187427  24.80744923]\n",
      " [ 71.7926414   76.42245475  98.55884812  54.98223775]\n",
      " [  0.           0.           0.           0.        ]]\n",
      "Q table values after evaluation:\n",
      "[[ 57.96754942  54.60894008  60.678       54.61015273]\n",
      " [ 64.4160372   60.67793116  67.42        54.60946999]\n",
      " [ 73.79992529  67.41893567  73.8         60.67720069]\n",
      " [ 82.          73.79947674  73.79987704  67.41986222]\n",
      " [ 38.39318239  50.39393157  64.41875207  53.06613285]\n",
      " [ 68.00787456  60.33872391  73.79999755  56.8225816 ]\n",
      " [ 80.3194895   66.80507072  82.          64.31149833]\n",
      " [ 90.          73.79998543  81.99996055  73.79999781]\n",
      " [ 53.81980574  24.59609921  29.27891942  27.77727504]\n",
      " [ 49.22775663  48.786852    80.07616523  22.07008999]\n",
      " [ 81.45755482  68.37775144  89.9999512   61.63908754]\n",
      " [100.          81.99766083  89.99948841  80.99262885]\n",
      " [ 22.83417416  17.43752504  69.26918014  35.91001487]\n",
      " [ 25.36213042  34.77757842  85.34187427  24.80744923]\n",
      " [ 71.7926414   76.42245475  98.55884812  54.98223775]\n",
      " [  0.           0.           0.           0.        ]]\n"
     ]
    },
    {
     "data": {
      "image/png": "[encoded data removed]",
      "text/plain": [
       "<Figure size 432x288 with 1 Axes>"
      ]
     },
     "metadata": {
      "needs_background": "light"
     },
     "output_type": "display_data"
    },
    {
     "data": {
      "image/png": "[encoded data removed]",
      "text/plain": [
       "<Figure size 432x288 with 1 Axes>"
      ]
     },
     "metadata": {
      "needs_background": "light"
     },
     "output_type": "display_data"
    },
    {
     "data": {
      "image/png": "[encoded data removed]",
      "text/plain": [
       "<Figure size 432x288 with 1 Axes>"
      ]
     },
     "metadata": {
      "needs_background": "light"
     },
     "output_type": "display_data"
    },
    {
     "name": "stdout",
     "output_type": "stream",
     "text": [
      "Implementing SARSA:\n",
      "\n",
      "Q table values after training:\n",
      "[[ 58.83298639  48.55403953  29.6956292   48.23863253]\n",
      " [ 14.70966278  10.7851958   44.69735928  16.24989523]\n",
      " [ 52.17004589  18.60637585   3.4187571   12.46316877]\n",
      " [ 28.93458      3.25051022   5.71222955  17.15662518]\n",
      " [ 65.9632872   41.95566622  51.3094972   52.37754625]\n",
      " [ 67.11234025  16.77120191  45.84031628  22.45368283]\n",
      " [ 73.36460013  35.89768257  41.93034179  28.59558914]\n",
      " [ 78.175877     1.26955728  18.00415726   6.19446842]\n",
      " [ 73.83482649  48.5790478   63.79475204  60.03267156]\n",
      " [ 79.43776401  34.35039847  62.53060569  48.11109129]\n",
      " [ 89.4851029   43.56202858  77.20356248  52.7837945 ]\n",
      " [ 99.99998354  34.11670664  70.98040573  45.31112497]\n",
      " [ 71.88047623  58.08433949  80.99008997  67.71096792]\n",
      " [ 79.41042732  63.37010235  90.          67.24953368]\n",
      " [ 88.26845472  70.50735852 100.          74.40906917]\n",
      " [  0.           0.           0.           0.        ]]\n",
      "Q values after evaluation:\n",
      "[[ 58.18705542  48.55403953  29.6956292   48.23863253]\n",
      " [ 14.70966278  10.7851958   44.69735928  16.24989523]\n",
      " [ 52.17004589  18.60637585   3.4187571   12.46316877]\n",
      " [ 28.93458      3.25051022   5.71222955  17.15662518]\n",
      " [ 66.43312766  43.46454725  51.3094972   52.37754625]\n",
      " [ 67.11234025  16.77120191  45.84031628  22.45368283]\n",
      " [ 73.36460013  35.89768257  41.93034179  28.59558914]\n",
      " [ 78.175877     1.26955728  18.00415726   6.19446842]\n",
      " [ 73.89060786  48.5790478   63.79475204  60.03267156]\n",
      " [ 79.43776401  34.35039847  62.53060569  48.11109129]\n",
      " [ 89.4851029   43.56202858  77.20356248  52.7837945 ]\n",
      " [ 99.99998354  34.11670664  70.98040573  45.31112497]\n",
      " [ 71.88047623  58.08433949  80.99893592  67.71096792]\n",
      " [ 79.41042732  63.37010235  90.          67.24953368]\n",
      " [ 88.26845472  70.50735852 100.          74.40906917]\n",
      " [  0.           0.           0.           0.        ]]\n"
     ]
    },
    {
     "data": {
      "image/png": "[encoded data removed]",
      "text/plain": [
       "<Figure size 432x288 with 1 Axes>"
      ]
     },
     "metadata": {
      "needs_background": "light"
     },
     "output_type": "display_data"
    },
    {
     "data": {
      "image/png": "[encoded data removed]",
      "text/plain": [
       "<Figure size 432x288 with 1 Axes>"
      ]
     },
     "metadata": {
      "needs_background": "light"
     },
     "output_type": "display_data"
    },
    {
     "data": {
      "image/png": "[encoded data removed]",
      "text/plain": [
       "<Figure size 432x288 with 1 Axes>"
      ]
     },
     "metadata": {
      "needs_background": "light"
     },
     "output_type": "display_data"
    }
   ],
   "source": [
    "if __name__ == \"__main__\":\n",
    "  QLimplemetation()\n",
    "  sarsaimplementation()"
   ]
  },
  {
   "cell_type": "code",
   "execution_count": null,
   "metadata": {
    "id": "bGkMbl6VCB8F"
   },
   "outputs": [],
   "source": []
  }
 ],
 "metadata": {
  "colab": {
   "collapsed_sections": [],
   "name": "Algorithm_Deterministic.ipynb",
   "provenance": []
  },
  "kernelspec": {
   "display_name": "Python 3 (ipykernel)",
   "language": "python",
   "name": "python3"
  },
  "language_info": {
   "codemirror_mode": {
    "name": "ipython",
    "version": 3
   },
   "file_extension": ".py",
   "mimetype": "text/x-python",
   "name": "python",
   "nbconvert_exporter": "python",
   "pygments_lexer": "ipython3",
   "version": "3.9.7"
  }
 },
 "nbformat": 4,
 "nbformat_minor": 1
}
