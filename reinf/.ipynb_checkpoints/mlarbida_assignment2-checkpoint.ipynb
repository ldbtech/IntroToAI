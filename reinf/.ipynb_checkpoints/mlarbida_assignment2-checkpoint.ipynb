{
 "cells": [
  {
   "cell_type": "code",
   "execution_count": 1,
   "id": "af1121cb",
   "metadata": {},
   "outputs": [
    {
     "name": "stdout",
     "output_type": "stream",
     "text": [
      "Requirement already satisfied: gym in /opt/miniconda3/lib/python3.9/site-packages (0.24.1)\r\n",
      "Requirement already satisfied: gym-notices>=0.0.4 in /opt/miniconda3/lib/python3.9/site-packages (from gym) (0.0.7)\r\n",
      "Requirement already satisfied: importlib-metadata>=4.8.0 in /opt/miniconda3/lib/python3.9/site-packages (from gym) (4.11.4)\r\n",
      "Requirement already satisfied: cloudpickle>=1.2.0 in /opt/miniconda3/lib/python3.9/site-packages (from gym) (2.1.0)\r\n",
      "Requirement already satisfied: numpy>=1.18.0 in /opt/miniconda3/lib/python3.9/site-packages (from gym) (1.21.4)\r\n",
      "Requirement already satisfied: zipp>=0.5 in /opt/miniconda3/lib/python3.9/site-packages (from importlib-metadata>=4.8.0->gym) (3.8.0)\r\n"
     ]
    }
   ],
   "source": [
    "!pip install gym"
   ]
  },
  {
   "cell_type": "code",
   "execution_count": 39,
   "id": "5e5a9925",
   "metadata": {},
   "outputs": [],
   "source": [
    "import numpy as np\n",
    "import gym\n",
    "from gym import spaces\n",
    "import matplotlib.pyplot as plt\n",
    "import random\n",
    "import time"
   ]
  },
  {
   "cell_type": "code",
   "execution_count": 3,
   "id": "9de60cc9",
   "metadata": {},
   "outputs": [],
   "source": [
    "class Environment:\n",
    "    def __init__(self):\n",
    "        self.observation_space = spaces.Discrete(36) #6*6 grid\n",
    "        self.action_space = spaces.Discrete(4) # 4 actions = up, down, right, left\n",
    "        self.max_timesteps = 30 # change this later as we see fit .\n",
    "        \n",
    "    def earn_reward(self):\n",
    "        if (self.agent_pos == self.goal_pos).all():\n",
    "            self.reward=100 # reaching the goal is +10 rewards. \n",
    "        elif (self.agent_pos == self.r1).all(): # which position has more reward than the other.\n",
    "            self.reward =3\n",
    "       # elif (self.agent_pos == self.nr1).all():\n",
    "        #    self.reward=-3\n",
    "        elif (self.agent_pos == self.r2).all():\n",
    "            self.reward=3\n",
    "        elif (self.agent_pos == self.r3).all():\n",
    "            self.reward=7\n",
    "        elif (self.agent_pos == self.nr2).all():\n",
    "            self.reward=-5\n",
    "        elif (self.agent_pos == self.r4).all():\n",
    "            self.reward=7\n",
    "        #elif (self.agent_pos == self.nr3).all():\n",
    "         #   self.reward=-7\n",
    "        #elif (self.agent_pos == self.nr4).all():\n",
    "         #   self.reward=-9\n",
    "        elif (self.agent_pos == self.r5).all():\n",
    "            self.reward = 10\n",
    "        else:\n",
    "            self.reward = 0\n",
    "            \n",
    "    def grid_coloring(self):\n",
    "        # Color for rewards location\n",
    "        self.r1 = [0, 2]\n",
    "        self.nr1 = [1, 3]\n",
    "        self.r2 = [2, 0]\n",
    "        self.r3 = [5, 0]\n",
    "        self.nr2 = [2 ,2]\n",
    "        self.r4 = [2, 5]\n",
    "        self.nr3 = [4, 1]\n",
    "        self.nr4 = [4, 4]\n",
    "        self.r5 = [5, 2]\n",
    "        # Positive Rewards\n",
    "        self.state[tuple(self.r1)] = 0.2\n",
    "        self.state[tuple(self.r2)] = 0.2\n",
    "        self.state[tuple(self.r3)] = 0.2\n",
    "        self.state[tuple(self.r4)] = 0.2\n",
    "        self.state[tuple(self.r5)] = 0.2\n",
    "        # Negative Rewards with different color.\n",
    "       # self.state[tuple(self.nr1)] = 0.8\n",
    "        self.state[tuple(self.nr2)] = 0.8\n",
    "       # self.state[tuple(self.nr3)] = 0.8\n",
    "       # self.state[tuple(self.nr4)] = 0.8\n",
    "        \n",
    "    def reset(self):\n",
    "        self.reward = 0\n",
    "        self.done = False\n",
    "        self.timestep = 0 # initial value for timestep\n",
    "        self.agent_pos = [0, 0]\n",
    "        self.goal_pos = [5, 5] # the goal position.\n",
    "        self.state = np.zeros((6,6)) #  (6, 6) grid of zeros.\n",
    "        self.state_pos = 0 # We need it for Q-values when the state is been flatten.\n",
    "        self.state[tuple(self.agent_pos)] = 1\n",
    "        self.state[tuple(self.goal_pos)] = 0.5\n",
    "        self.total_steps = 0\n",
    "        # coloring\n",
    "        self.grid_coloring()\n",
    "        \n",
    "        observation = self.state.flatten() # flatten into one dim\n",
    "        return observation\n",
    "        \n",
    "    def step(self, action):\n",
    "        if action == 0:\n",
    "            self.agent_pos[0] +=1 # down\n",
    "        if action == 1:\n",
    "            self.agent_pos[0] -=1 # up\n",
    "        if action == 2:\n",
    "            self.agent_pos[1] +=1 # right\n",
    "        if action == 3:\n",
    "            self.agent_pos[1] -=1 # left\n",
    "        self.agent_pos = np.clip(self.agent_pos, 0, 5) # 0 is min and max is 2 ==> 5, edge cases\n",
    "        self.earn_reward() # earn reward base on where the agent CURRENTLY is.\n",
    "        #self.state = np.zeros((6, 6))\n",
    "        #coloring\n",
    "        # Positive Rewards\n",
    "        self.state[tuple(self.r1)] = 0.2\n",
    "        self.state[tuple(self.r2)] = 0.2\n",
    "        self.state[tuple(self.r3)] = 0.2\n",
    "        self.state[tuple(self.r4)] = 0.2\n",
    "        self.state[tuple(self.r5)] = 0.2\n",
    "        # Negative Rewards with different color.\n",
    "        #self.state[tuple(self.nr1)] = 0.8\n",
    "        self.state[tuple(self.nr2)] = 0.8\n",
    "        #self.state[tuple(self.nr3)] = 0.8\n",
    "        #self.state[tuple(self.nr4)] = 0.8\n",
    "        self.state[tuple(self.agent_pos)] = 1\n",
    "        self.state[tuple(self.goal_pos)] = 0.5\n",
    "        \n",
    "        observation = self.state.flatten() # flatten into one dim\n",
    "        \n",
    "        self.timestep+=1\n",
    "        \n",
    "        done = True if self.timestep >= self.max_timesteps else False\n",
    "        \n",
    "        info = {'timestep':self.timestep, 'agent_pos':self.agent_pos}\n",
    "        \n",
    "        return observation, info, self.reward, done\n",
    "    def render(self):\n",
    "        plt.imshow(self.state)\n",
    "    \n",
    "        "
   ]
  },
  {
   "cell_type": "code",
   "execution_count": 4,
   "id": "6f020540",
   "metadata": {},
   "outputs": [
    {
     "data": {
      "image/png": "[encoded data removed]",
      "text/plain": [
       "<Figure size 432x288 with 1 Axes>"
      ]
     },
     "metadata": {
      "needs_background": "light"
     },
     "output_type": "display_data"
    }
   ],
   "source": [
    "env = Environment()\n",
    "env.reset()\n",
    "env.render()"
   ]
  },
  {
   "cell_type": "code",
   "execution_count": 32,
   "id": "9759bc12",
   "metadata": {},
   "outputs": [],
   "source": [
    "\"\"\"\n",
    "    . Sarsa Algo below\n",
    "\"\"\"\n",
    "class SarsaImp:\n",
    "    def __init__(self, learning_rate, discount_factor, eps_decay):\n",
    "        self.env = Environment()\n",
    "        self.ql = np.zeros((36, 4)) # total states by total actions \n",
    "        self.env.reset() # reset environement whenever instantanious of the class being created.\n",
    "        \n",
    "        # needs an update\n",
    "        self.epsilon = 1\n",
    "        self.total_rewards = []\n",
    "        self.total_steps = []\n",
    "        self.epislon_decay = []\n",
    "        \n",
    "        #input\n",
    "        self.learning_rate = learning_rate\n",
    "        self.discount_factor = discount_factor\n",
    "        self.eps_decay = eps_decay\n",
    "    def earn_reward(self):\n",
    "        self.reward = 0\n",
    "        if (self.env.agent_pos == self.env.goal_pos).all():\n",
    "            self.reward=200 # reaching the goal is +10 rewards. \n",
    "        elif (self.env.agent_pos == self.env.r1).all(): # which position has more reward than the other.\n",
    "            self.reward =1\n",
    "       # elif (self.env.agent_pos == self.env.nr1).all():\n",
    "        #    self.reward=-3\n",
    "        elif (self.env.agent_pos == self.env.r2).all():\n",
    "            self.reward=1\n",
    "        elif (self.env.agent_pos == self.env.r3).all():\n",
    "            self.reward=1\n",
    "        elif (self.env.agent_pos == self.env.nr2).all():\n",
    "            self.reward=-3\n",
    "        elif (self.env.agent_pos == self.env.r4).all():\n",
    "            self.reward=1\n",
    "        #elif (self.env.agent_pos == self.env.nr3).all():\n",
    "         #   self.reward=-7\n",
    "        #elif (self.env.agent_pos == self.env.nr4).all():\n",
    "         #   self.reward=-9\n",
    "        elif (self.env.agent_pos == self.env.r5).all():\n",
    "            self.reward = 10\n",
    "        else:\n",
    "            self.reward = 0\n",
    "            \n",
    "    def reset(self):\n",
    "        self.agent_pos = [0, 0]\n",
    "        self.goal_pos = [5, 5] # the goal position.\n",
    "        self.env.reset()\n",
    "        self.action = 0\n",
    "        self.state = 0\n",
    "        self.reward = 0\n",
    "       # self.totalSteps = 0\n",
    "        self.total_req= 0\n",
    "        self.env.timestep = 0\n",
    "        self.number = 0\n",
    "        self.env.done = False\n",
    "    \n",
    "    def step(self, action):\n",
    "        if action == 0:\n",
    "            self.env.agent_pos[0] +=1 # down\n",
    "        if action == 1:\n",
    "            self.env.agent_pos[0] -=1 # up\n",
    "        if action == 2:\n",
    "            self.env.agent_pos[1] +=1 # right\n",
    "        if action == 3:\n",
    "            self.env.agent_pos[1] -=1 # left\n",
    "        self.env.agent_pos = np.clip(self.env.agent_pos, 0, 5) # 0 is min and max is 2 ==> 5, edge cases\n",
    "        self.earn_reward() # earn reward base on where the agent CURRENTLY is.\n",
    "        \n",
    "        self.env.timestep+=1\n",
    "        self.number +=1\n",
    "        done = False\n",
    "        if self.env.timestep >= self.env.max_timesteps:\n",
    "            done = True\n",
    "        elif (self.env.agent_pos == self.env.goal_pos).all():\n",
    "            done = True\n",
    "        return self.env.agent_pos, self.reward, done\n",
    "    \n",
    "    # Greedy Epsilon\n",
    "    def greedy_algo(self, state):\n",
    "       # np.seed(3)\n",
    "        if np.random.rand() > self.epsilon:\n",
    "            #re = np.argmax(self.ql[state])\n",
    "           # print(re)\n",
    "            return np.argmax(self.ql[state])\n",
    "        else:\n",
    "            return np.random.randint(4)\n",
    "            \n",
    "    def trainingSarsa(self, episodes):\n",
    "        for episode in range(episodes):\n",
    "            self.reset() # reset for every new episode\n",
    "            #self.total_req = 0\n",
    "            action = self.greedy_algo(self.state)\n",
    "            done = False\n",
    "            while not done:\n",
    "                self.ql[-1] = 0 #terminal\n",
    "                self.env.agent_pos, reward, done = self.step(action)\n",
    "                #agent_pos = info['agent_pos'] # agent pos\n",
    "                next_state = (6 * self.env.agent_pos[0]) + self.env.agent_pos[1]\n",
    "                next_action = self.greedy_algo(next_state)\n",
    "                self.ql[self.state, action] = self.ql[self.state, action] +self.learning_rate*(reward+self.discount_factor*self.ql[next_state, next_action]-self.ql[self.state, action])\n",
    "                self.state = next_state\n",
    "                action = next_action\n",
    "                self.total_req+=reward\n",
    "            self.total_steps.append(self.env.timestep)\n",
    "            self.total_rewards.append(self.total_req)\n",
    "            self.epislon_decay.append(self.epsilon)\n",
    "            self.epsilon*=self.eps_decay\n",
    "                \n",
    "    def evalSarsa(self, episodes):\n",
    "        self.total_steps = []\n",
    "        self.total_rewards = []\n",
    "        for episode in range(episodes):\n",
    "            self.reset() # reset for every new episode\n",
    "            #self.total_req = 0\n",
    "            action = self.greedy_algo(self.state)\n",
    "            done = False\n",
    "            while not done:\n",
    "                self.ql[-1] = 0 #terminal\n",
    "                self.env.agent_pos, reward, done = self.step(action)\n",
    "                self.total_req+=reward\n",
    "                #agent_pos = info['agent_pos'] # agent pos\n",
    "                # this basically calculating the location if it was in flatten array\n",
    "                next_state = (6 * self.env.agent_pos[0]) + self.env.agent_pos[1]\n",
    "                next_action = self.greedy_algo(next_state)\n",
    "                self.ql[self.state, action] = self.ql[self.state, action] +self.learning_rate*(reward+self.discount_factor*self.ql[next_state, next_action]-self.ql[self.state, action])\n",
    "                self.state = next_state\n",
    "                action = next_action\n",
    "            self.total_steps.append(self.number)\n",
    "            self.total_rewards.append(self.total_req)\n",
    "    def plottingSarsaTraining(self):\n",
    "        print(\"----Training----\")\n",
    "        print(\"Q_VALUES\", self.ql)\n",
    "      #  print(len(self.total_rewards))\n",
    "        plt.title(\"Cumulative reward per episode\")\n",
    "        plt.plot(self.total_rewards)\n",
    "        plt.show()\n",
    "        print(\"Total steps per ep\")\n",
    "        plt.plot(self.total_steps)\n",
    "        plt.show()\n",
    "        plt.title(\"epsilon decay per episode\")\n",
    "        plt.plot(self.epislon_decay)\n",
    "        plt.show()\n",
    "    def plottingSarsaEval(self):\n",
    "        print(\"++++++++++++++++++++++++++++[Eval]++++++++++++++++++++++++++++\")\n",
    "        print(\"Q-VALUES\\n\", self.ql)\n",
    "        print(\"-------------------------[Reward Per Episode]-------------------------\")\n",
    "        plt.title('Cumulative reward per episode.')\n",
    "        plt.plot(self.total_rewards)\n",
    "        plt.show()\n",
    "        print(\"-------------------------[Total Steps per Episode]-------------------------\")\n",
    "        plt.title('Total Steps per episode')\n",
    "        plt.plot(self.total_steps)\n",
    "        plt.show()"
   ]
  },
  {
   "cell_type": "code",
   "execution_count": 41,
   "id": "39a025b0",
   "metadata": {},
   "outputs": [
    {
     "name": "stdout",
     "output_type": "stream",
     "text": [
      "time it took 0.9183599948883057\n",
      "----Training----\n",
      "Q_VALUES [[ 8.42964962e+01  6.49244392e+01  5.17031754e+01  6.61492888e+01]\n",
      " [ 5.33228478e+00  3.87223131e+00  4.26813698e+00  6.71773176e+01]\n",
      " [ 2.89901928e+00  4.25021501e+00  3.62054665e+00  1.27494846e+01]\n",
      " [ 7.39582273e-01  1.52091727e+00  8.24596569e-01  4.77733148e+00]\n",
      " [ 2.49451885e-01  3.08228390e-01  1.21043186e-01  2.02995966e+00]\n",
      " [ 1.22645473e+00  5.71220978e-03  1.90753803e-02  1.10444825e-01]\n",
      " [ 9.36960373e+01  5.53546142e+01  4.61158713e+01  7.50791961e+01]\n",
      " [ 1.32773861e+01  2.99800088e+00  6.70448795e-01  6.90109875e+01]\n",
      " [-1.92731456e+00  4.84709911e+00  1.23553006e+00  3.89845060e+00]\n",
      " [ 2.87174243e-01  3.07196646e+00  3.34623165e-01  9.04860977e-01]\n",
      " [ 9.11613846e-01  8.17859997e-02  2.63475869e-01  2.12639172e-01]\n",
      " [ 6.44605619e+00  0.00000000e+00  2.83211825e-01  7.49634285e-02]\n",
      " [ 1.03015844e+02  5.81860195e+01  6.55825762e+01  8.43660635e+01]\n",
      " [ 6.62201514e+00  1.21232674e+01 -1.61193223e+00  8.42637624e+01]\n",
      " [ 2.47161508e-01  2.58933607e+00 -7.07348108e-01  1.57642271e+00]\n",
      " [ 1.05836503e+00  5.97399187e-01  1.92271408e+00 -2.40948922e+00]\n",
      " [ 9.44997852e-02  1.02417213e-01  6.87558310e+00 -1.25383530e-01]\n",
      " [ 2.63027462e+01  2.15827451e+00  4.54325191e+00  7.50394037e-01]\n",
      " [ 1.14472500e+02  7.45169206e+01  7.59794975e+01  9.02292273e+01]\n",
      " [ 1.06066558e+02  3.59463644e+01  5.75929458e+01  3.09539663e+01]\n",
      " [ 7.75198336e+01 -2.77949057e+00  1.75190318e+00  1.23295456e+01]\n",
      " [ 1.74558528e+01  4.42865482e-01  4.62488793e+00 -8.19923925e-01]\n",
      " [-4.59098058e-03  9.91677081e-01  2.95825107e+01  1.05570668e+00]\n",
      " [ 6.55951583e+01  1.97703268e+00  2.58914817e+00  2.38926687e+00]\n",
      " [ 1.27196164e+02  8.03154831e+01  1.11815816e+02  9.02091948e+01]\n",
      " [ 1.40196628e+02  5.14859161e+01  1.12198281e+02  7.93304892e+01]\n",
      " [ 1.51962440e+02  1.03424811e+01  5.42778291e+01  3.39315963e+01]\n",
      " [ 1.58882341e+02  3.04240687e+00  2.54401732e+01  8.66375650e+01]\n",
      " [ 1.79017204e+02  3.28716281e+00  3.71206881e-02  1.80657297e+01]\n",
      " [ 1.73156454e+02  1.28895384e+01  3.08678863e+01  5.96411572e+00]\n",
      " [ 7.81400276e+01  7.30307232e+01  1.40219534e+02  1.16031017e+02]\n",
      " [ 1.34238885e+02  1.08657767e+02  1.55799912e+02  9.80577738e+01]\n",
      " [ 1.51665800e+02  1.28267805e+02  1.61999989e+02  1.29307586e+02]\n",
      " [ 1.59099348e+02  1.33920511e+02  1.79999999e+02  1.46819818e+02]\n",
      " [ 1.79301409e+02  1.57461035e+02  2.00000000e+02  1.40929431e+02]\n",
      " [ 0.00000000e+00  0.00000000e+00  0.00000000e+00  0.00000000e+00]]\n"
     ]
    },
    {
     "data": {
      "image/png": "[encoded data removed]",
      "text/plain": [
       "<Figure size 432x288 with 1 Axes>"
      ]
     },
     "metadata": {
      "needs_background": "light"
     },
     "output_type": "display_data"
    },
    {
     "name": "stdout",
     "output_type": "stream",
     "text": [
      "Total steps per ep\n"
     ]
    },
    {
     "data": {
      "image/png": "[encoded data removed]",
      "text/plain": [
       "<Figure size 432x288 with 1 Axes>"
      ]
     },
     "metadata": {
      "needs_background": "light"
     },
     "output_type": "display_data"
    },
    {
     "data": {
      "image/png": "[encoded data removed]",
      "text/plain": [
       "<Figure size 432x288 with 1 Axes>"
      ]
     },
     "metadata": {
      "needs_background": "light"
     },
     "output_type": "display_data"
    },
    {
     "name": "stdout",
     "output_type": "stream",
     "text": [
      "++++++++++++++++++++++++++++[Eval]++++++++++++++++++++++++++++\n",
      "Q-VALUES\n",
      " [[ 8.43362992e+01  6.49244392e+01  5.17031754e+01  6.61492888e+01]\n",
      " [ 5.33228478e+00  3.87223131e+00  4.26813698e+00  6.71773176e+01]\n",
      " [ 2.89901928e+00  4.25021501e+00  3.62054665e+00  1.27494846e+01]\n",
      " [ 7.39582273e-01  1.52091727e+00  8.24596569e-01  4.77733148e+00]\n",
      " [ 2.49451885e-01  3.08228390e-01  1.21043186e-01  2.02995966e+00]\n",
      " [ 1.22645473e+00  5.71220978e-03  1.90753803e-02  1.10444825e-01]\n",
      " [ 9.37187768e+01  5.53546142e+01  4.61158713e+01  7.50791961e+01]\n",
      " [ 1.32773861e+01  2.99800088e+00  6.70448795e-01  6.90109875e+01]\n",
      " [-1.92731456e+00  4.84709911e+00  1.23553006e+00  3.89845060e+00]\n",
      " [ 2.87174243e-01  3.07196646e+00  3.34623165e-01  9.04860977e-01]\n",
      " [ 9.11613846e-01  8.17859997e-02  2.63475869e-01  2.12639172e-01]\n",
      " [ 6.44605619e+00  0.00000000e+00  2.83211825e-01  7.49634285e-02]\n",
      " [ 1.03026919e+02  5.81860195e+01  6.55825762e+01  8.43660635e+01]\n",
      " [ 6.62201514e+00  1.21232674e+01 -1.61193223e+00  8.42637624e+01]\n",
      " [ 2.47161508e-01  2.58933607e+00 -7.07348108e-01  1.57642271e+00]\n",
      " [ 1.05836503e+00  5.97399187e-01  1.92271408e+00 -2.40948922e+00]\n",
      " [ 9.44997852e-02  1.02417213e-01  6.87558310e+00 -1.25383530e-01]\n",
      " [ 2.63027462e+01  2.15827451e+00  4.54325191e+00  7.50394037e-01]\n",
      " [ 1.14477017e+02  7.45169206e+01  7.59794975e+01  9.02292273e+01]\n",
      " [ 1.06066558e+02  3.59463644e+01  5.75929458e+01  3.09539663e+01]\n",
      " [ 7.75198336e+01 -2.77949057e+00  1.75190318e+00  1.23295456e+01]\n",
      " [ 1.74558528e+01  4.42865482e-01  4.62488793e+00 -8.19923925e-01]\n",
      " [-4.59098058e-03  9.91677081e-01  2.95825107e+01  1.05570668e+00]\n",
      " [ 6.55951583e+01  1.97703268e+00  2.58914817e+00  2.38926687e+00]\n",
      " [ 1.27197667e+02  8.03154831e+01  1.11815816e+02  9.02091948e+01]\n",
      " [ 1.40196628e+02  5.14859161e+01  1.12198281e+02  7.93304892e+01]\n",
      " [ 1.51962440e+02  1.03424811e+01  5.42778291e+01  3.39315963e+01]\n",
      " [ 1.58882341e+02  3.04240687e+00  2.54401732e+01  8.66375650e+01]\n",
      " [ 1.79017204e+02  3.28716281e+00  3.71206881e-02  1.80657297e+01]\n",
      " [ 1.73156454e+02  1.28895384e+01  3.08678863e+01  5.96411572e+00]\n",
      " [ 7.81400276e+01  7.30307232e+01  1.40219926e+02  1.16031017e+02]\n",
      " [ 1.34238885e+02  1.08657767e+02  1.55799988e+02  9.80577738e+01]\n",
      " [ 1.51665800e+02  1.28267805e+02  1.61999999e+02  1.29307586e+02]\n",
      " [ 1.59099348e+02  1.33920511e+02  1.80000000e+02  1.46819818e+02]\n",
      " [ 1.79301409e+02  1.57461035e+02  2.00000000e+02  1.40929431e+02]\n",
      " [ 0.00000000e+00  0.00000000e+00  0.00000000e+00  0.00000000e+00]]\n",
      "-------------------------[Reward Per Episode]-------------------------\n"
     ]
    },
    {
     "data": {
      "image/png": "[encoded data removed]",
      "text/plain": [
       "<Figure size 432x288 with 1 Axes>"
      ]
     },
     "metadata": {
      "needs_background": "light"
     },
     "output_type": "display_data"
    },
    {
     "name": "stdout",
     "output_type": "stream",
     "text": [
      "-------------------------[Total Steps per Episode]-------------------------\n"
     ]
    },
    {
     "data": {
      "image/png": "[encoded data removed]",
      "text/plain": [
       "<Figure size 432x288 with 1 Axes>"
      ]
     },
     "metadata": {
      "needs_background": "light"
     },
     "output_type": "display_data"
    }
   ],
   "source": [
    "sarsa = SarsaImp(0.2, 0.9, 0.9959)\n",
    "start_time = time.time()\n",
    "sarsa.trainingSarsa(2000)\n",
    "print(\"time it took\", time.time()-start_time)\n",
    "sarsa.plottingSarsaTraining()\n",
    "sarsa.evalSarsa(10)\n",
    "sarsa.plottingSarsaEval()"
   ]
  },
  {
   "cell_type": "code",
   "execution_count": 25,
   "id": "6566495d",
   "metadata": {},
   "outputs": [],
   "source": [
    "class DoubleQL:\n",
    "    def __init__(self, learning_rate, discount_factor, eps_decay):\n",
    "        self.env = Environment()\n",
    "        self.env.reset()\n",
    "        # non updated\n",
    "        self.learning_rate = learning_rate\n",
    "        self.discount_factor = discount_factor \n",
    "        self.eps_decay = eps_decay\n",
    "        \n",
    "        self.epsilon = 1\n",
    "        self.ql_a = np.zeros((36, 4))\n",
    "        self.ql_b = np.zeros((36, 4))\n",
    "        \n",
    "        # we need this to call action, epsilon greedy and reset later\n",
    "        self.sarsa = SarsaImp(self.learning_rate, self.discount_factor, self.eps_decay)\n",
    "        \n",
    "        self.all_rewards = []\n",
    "        self.total_steps = []\n",
    "        self.epsilon_decay = []\n",
    "        \n",
    "    def training(self, episodes):\n",
    "        for ep in range(episodes):\n",
    "            self.sarsa.reset() # we have resetted our env\n",
    "            done = False \n",
    "            totalRew = 0\n",
    "            while not done:\n",
    "                action = self.sarsa.greedy_algo(self.sarsa.state)\n",
    "                #print(\"Action: \", action)\n",
    "                self.env.agent_pos, reward, done = self.sarsa.step(action)\n",
    "                next_state=6*self.env.agent_pos[0]+self.env.agent_pos[1]  #state update\n",
    "                \n",
    "                if np.random.rand() <= 0.5:\n",
    "                    a_ = np.argmax(self.ql_a[next_state])\n",
    "                    self.ql_a[self.sarsa.state, action] = self.learning_rate * (reward + self.eps_decay * self.ql_b[next_state, a_]-self.ql_a[self.sarsa.state, action])\n",
    "                else:\n",
    "                    b_ = np.argmax(self.ql_b[next_state])\n",
    "                    self.ql_b[self.sarsa.state, action] = self.learning_rate * (reward + self.eps_decay*self.ql_a[next_state, b_]-self.ql_b[self.sarsa.state, action])\n",
    "                totalRew +=reward\n",
    "                self.sarsa.state = next_state\n",
    "            self.all_rewards.append(totalRew)\n",
    "            self.total_steps.append(self.sarsa.number)\n",
    "\n",
    "        return self.all_rewards, self.total_steps\n",
    "    "
   ]
  },
  {
   "cell_type": "code",
   "execution_count": 40,
   "id": "9f4eb1f9",
   "metadata": {},
   "outputs": [
    {
     "name": "stdout",
     "output_type": "stream",
     "text": [
      "time it took 2.2437639236450195\n",
      "Q-Value A [[ 3.31694677e-02  5.50557881e-03  3.31694677e-02  5.50557881e-03]\n",
      " [ 5.50557881e-03  3.31694677e-02  1.99836134e-01  5.50557881e-03]\n",
      " [ 3.31694677e-02  1.99836134e-01  3.31694677e-02  3.31694677e-02]\n",
      " [ 5.50557881e-03  3.31694677e-02  5.50557881e-03  1.99836134e-01]\n",
      " [ 8.79127901e-03  5.50557881e-03  8.79127901e-03  3.31694677e-02]\n",
      " [ 5.29648299e-02  8.79127901e-03  8.79127901e-03  5.50557881e-03]\n",
      " [ 1.99836134e-01  5.50557881e-03  5.50557881e-03  3.31694677e-02]\n",
      " [ 3.31694677e-02  3.31694677e-02  3.31694677e-02  3.31694677e-02]\n",
      " [-4.90861657e-01  1.99836134e-01  5.50557881e-03  5.50557881e-03]\n",
      " [ 8.79127901e-03  3.31694677e-02  8.79127901e-03  3.31694677e-02]\n",
      " [ 5.29648299e-02  5.50557881e-03  5.29648299e-02  5.50557881e-03]\n",
      " [ 3.19097278e-01  8.79127901e-03  5.29648299e-02  8.79127901e-03]\n",
      " [ 3.31694677e-02  3.31694677e-02  3.31694677e-02  1.99836134e-01]\n",
      " [ 9.13834324e-03  5.50557881e-03 -4.90861657e-01  1.99836134e-01]\n",
      " [ 5.50557881e-02  3.31694677e-02  8.79127901e-03  3.31694677e-02]\n",
      " [ 2.53009410e-02  5.50557881e-03  5.29648299e-02 -4.90861657e-01]\n",
      " [ 1.52430611e-01  8.79127901e-03  3.19097278e-01  8.79127901e-03]\n",
      " [ 9.18348898e-01  5.29648299e-02  3.19097278e-01  5.29648299e-02]\n",
      " [ 3.68022321e-02  1.99836134e-01  9.13834324e-03  3.31694677e-02]\n",
      " [ 5.50557881e-02  3.31694677e-02  5.50557881e-02  3.31694677e-02]\n",
      " [ 3.31694677e-01 -4.90861657e-01  2.53009410e-02  9.13834324e-03]\n",
      " [ 1.52430611e-01  8.79127901e-03  1.52430611e-01  5.50557881e-02]\n",
      " [ 9.18348898e-01  5.29648299e-02  9.18348898e-01  2.53009410e-02]\n",
      " [ 5.53277778e+00  3.19097278e-01  9.18348898e-01  1.52430611e-01]\n",
      " [ 2.21722455e-01  3.31694677e-02  5.50557881e-02  3.68022321e-02]\n",
      " [ 3.31694677e-01  9.13834324e-03  3.31694677e-01  3.68022321e-02]\n",
      " [ 1.99836134e+00  5.50557881e-02  1.52430611e-01  5.50557881e-02]\n",
      " [ 9.18348898e-01  2.53009410e-02  9.18348898e-01  3.31694677e-01]\n",
      " [ 5.53277778e+00  1.52430611e-01  5.53277778e+00  1.52430611e-01]\n",
      " [ 3.33333333e+01  9.18348898e-01  5.53277778e+00  9.18348898e-01]\n",
      " [ 2.21722455e-01  3.68022321e-02  3.31694677e-01  2.21722455e-01]\n",
      " [ 3.31694677e-01  5.50557881e-02  1.99836134e+00  2.21722455e-01]\n",
      " [ 1.99836134e+00  3.31694677e-01  9.18348898e-01  3.31694677e-01]\n",
      " [ 9.18348898e-01  1.52430611e-01  5.53277778e+00  1.99836134e+00]\n",
      " [ 5.53277778e+00  9.18348898e-01  3.33333333e+01  9.18348898e-01]\n",
      " [ 0.00000000e+00  0.00000000e+00  0.00000000e+00  0.00000000e+00]]\n",
      "\n",
      "\n",
      "Q-Value B [[ 3.31694677e-02  5.50557881e-03  3.31694677e-02  5.50557881e-03]\n",
      " [ 5.50557881e-03  3.31694677e-02  1.99836134e-01  5.50557881e-03]\n",
      " [ 3.31694677e-02  1.99836134e-01  3.31694677e-02  3.31694677e-02]\n",
      " [ 5.50557881e-03  3.31694677e-02  5.50557881e-03  1.99836134e-01]\n",
      " [ 8.79127901e-03  5.50557881e-03  8.79127901e-03  3.31694677e-02]\n",
      " [ 5.29648299e-02  8.79127901e-03  8.79127901e-03  5.50557881e-03]\n",
      " [ 1.99836134e-01  5.50557881e-03  5.50557881e-03  3.31694677e-02]\n",
      " [ 3.31694677e-02  3.31694677e-02  3.31694677e-02  3.31694677e-02]\n",
      " [-4.90861657e-01  1.99836134e-01  5.50557881e-03  5.50557881e-03]\n",
      " [ 8.79127901e-03  3.31694677e-02  8.79127901e-03  3.31694677e-02]\n",
      " [ 5.29648299e-02  5.50557881e-03  5.29648299e-02  5.50557881e-03]\n",
      " [ 3.19097278e-01  8.79127901e-03  5.29648299e-02  8.79127901e-03]\n",
      " [ 3.31694677e-02  3.31694677e-02  3.31694677e-02  1.99836134e-01]\n",
      " [ 9.13834324e-03  5.50557881e-03 -4.90861657e-01  1.99836134e-01]\n",
      " [ 5.50557881e-02  3.31694677e-02  8.79127901e-03  3.31694677e-02]\n",
      " [ 2.53009410e-02  5.50557881e-03  5.29648299e-02 -4.90861657e-01]\n",
      " [ 1.52430611e-01  8.79127901e-03  3.19097278e-01  8.79127901e-03]\n",
      " [ 9.18348898e-01  5.29648299e-02  3.19097278e-01  5.29648299e-02]\n",
      " [ 3.68022321e-02  1.99836134e-01  9.13834324e-03  3.31694677e-02]\n",
      " [ 5.50557881e-02  3.31694677e-02  5.50557881e-02  3.31694677e-02]\n",
      " [ 3.31694677e-01 -4.90861657e-01  2.53009410e-02  9.13834324e-03]\n",
      " [ 1.52430611e-01  8.79127901e-03  1.52430611e-01  5.50557881e-02]\n",
      " [ 9.18348898e-01  5.29648299e-02  9.18348898e-01  2.53009410e-02]\n",
      " [ 5.53277778e+00  3.19097278e-01  9.18348898e-01  1.52430611e-01]\n",
      " [ 2.21722455e-01  3.31694677e-02  5.50557881e-02  3.68022321e-02]\n",
      " [ 3.31694677e-01  9.13834324e-03  3.31694677e-01  3.68022321e-02]\n",
      " [ 1.99836134e+00  5.50557881e-02  1.52430611e-01  5.50557881e-02]\n",
      " [ 9.18348898e-01  2.53009410e-02  9.18348898e-01  3.31694677e-01]\n",
      " [ 5.53277778e+00  1.52430611e-01  5.53277778e+00  1.52430611e-01]\n",
      " [ 3.33333333e+01  9.18348898e-01  5.53277778e+00  9.18348898e-01]\n",
      " [ 2.21722455e-01  3.68022321e-02  3.31694677e-01  2.21722455e-01]\n",
      " [ 3.31694677e-01  5.50557881e-02  1.99836134e+00  2.21722455e-01]\n",
      " [ 1.99836134e+00  3.31694677e-01  9.18348898e-01  3.31694677e-01]\n",
      " [ 9.18348898e-01  1.52430611e-01  5.53277778e+00  1.99836134e+00]\n",
      " [ 5.53277778e+00  9.18348898e-01  3.33333333e+01  9.18348898e-01]\n",
      " [ 0.00000000e+00  0.00000000e+00  0.00000000e+00  0.00000000e+00]]\n"
     ]
    },
    {
     "data": {
      "image/png": "[encoded data removed]",
      "text/plain": [
       "<Figure size 432x288 with 1 Axes>"
      ]
     },
     "metadata": {
      "needs_background": "light"
     },
     "output_type": "display_data"
    },
    {
     "data": {
      "image/png": "[encoded data removed]",
      "text/plain": [
       "<Figure size 432x288 with 1 Axes>"
      ]
     },
     "metadata": {
      "needs_background": "light"
     },
     "output_type": "display_data"
    }
   ],
   "source": [
    "doubleQl = DoubleQL(0.2, 0.9, 0.9959)\n",
    "start_time = time.time()\n",
    "all_rewards, total_steps = doubleQl.training(2000)\n",
    "print(\"time it took\", time.time()-start_time)\n",
    "print(\"Q-Value A\", doubleQl.ql_a)\n",
    "print(\"\\n\")\n",
    "print(\"Q-Value B\", doubleQl.ql_b)\n",
    "plt.title(\"All Rewards\")\n",
    "plt.plot(all_rewards)\n",
    "plt.show()\n",
    "\n",
    "plt.title(\"All Steps\")\n",
    "plt.plot(total_steps)\n",
    "plt.show()"
   ]
  },
  {
   "cell_type": "code",
   "execution_count": 36,
   "id": "d7815851",
   "metadata": {},
   "outputs": [
    {
     "data": {
      "text/plain": [
       "'\\n     Lecture 6.2: RL: TEMPORAL DIFFERENCE METHODS : Gave me the ability to implement Sarsa Algorithm\\n     Lecture 7.1: RL: TEMPORAL DIFFERENCE METHODS gave me the ability to implement Double Q-Learning\\n     (I used pseudo code given)\\n '"
      ]
     },
     "execution_count": 36,
     "metadata": {},
     "output_type": "execute_result"
    }
   ],
   "source": [
    "# Reference: \n",
    "\"\"\"\n",
    "     Lecture 6.2: RL: TEMPORAL DIFFERENCE METHODS : Gave me the ability to implement Sarsa Algorithm\n",
    "     Lecture 7.1: RL: TEMPORAL DIFFERENCE METHODS gave me the ability to implement Double Q-Learning\n",
    "     (I used pseudo code given)\n",
    "     \n",
    "     Conclusion: \n",
    "     \n",
    "     - It seems both algorithm try to minimized the steps while gaining much rewards which what was our objictive. \n",
    "     - It looks Sarsa algorithm run faster than double q-learning on M1 Chip Macbook. \n",
    "     - Base on both algorithms graphs on rewards. Sarsa it seems it is going down to max about 200 pts. \n",
    "     while double q-learning it tries to learn faster at each iteration, with minimum steps as possible.\n",
    "     - That makes double q-learning more efficient because it learn faster. \n",
    " \"\"\""
   ]
  }
 ],
 "metadata": {
  "kernelspec": {
   "display_name": "Python 3 (ipykernel)",
   "language": "python",
   "name": "python3"
  },
  "language_info": {
   "codemirror_mode": {
    "name": "ipython",
    "version": 3
   },
   "file_extension": ".py",
   "mimetype": "text/x-python",
   "name": "python",
   "nbconvert_exporter": "python",
   "pygments_lexer": "ipython3",
   "version": "3.9.7"
  }
 },
 "nbformat": 4,
 "nbformat_minor": 5
}
