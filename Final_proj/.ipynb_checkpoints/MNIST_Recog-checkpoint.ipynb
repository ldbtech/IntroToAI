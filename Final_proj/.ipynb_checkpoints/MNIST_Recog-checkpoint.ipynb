{
 "cells": [
  {
   "cell_type": "code",
   "execution_count": 1,
   "id": "f149e285",
   "metadata": {},
   "outputs": [],
   "source": [
    "import pandas as pd\n",
    "import numpy as np"
   ]
  },
  {
   "cell_type": "code",
   "execution_count": null,
   "id": "94118225",
   "metadata": {},
   "outputs": [],
   "source": [
    "## Open Training/Test Dataset\n",
    "files = [\"train-images.idx3-ubyte\",\n",
    "         \"train-labels.idx1-ubyte\",\n",
    "         \"t10k-images.idx3-ubyte\",\n",
    "         \"t10k-labels.idx1-ubyte\"]\n",
    "\n"
   ]
  }
 ],
 "metadata": {
  "kernelspec": {
   "display_name": "Python 3 (ipykernel)",
   "language": "python",
   "name": "python3"
  },
  "language_info": {
   "codemirror_mode": {
    "name": "ipython",
    "version": 3
   },
   "file_extension": ".py",
   "mimetype": "text/x-python",
   "name": "python",
   "nbconvert_exporter": "python",
   "pygments_lexer": "ipython3",
   "version": "3.9.7"
  }
 },
 "nbformat": 4,
 "nbformat_minor": 5
}
